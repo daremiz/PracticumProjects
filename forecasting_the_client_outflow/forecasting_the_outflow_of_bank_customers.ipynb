{
 "cells": [
  {
   "cell_type": "markdown",
   "metadata": {
    "toc": true
   },
   "source": [
    "<h1>Содержание<span class=\"tocSkip\"></span></h1>\n",
    "<div class=\"toc\"><ul class=\"toc-item\"><li><span><a href=\"#Подготовка-данных\" data-toc-modified-id=\"Подготовка-данных-1\"><span class=\"toc-item-num\">1&nbsp;&nbsp;</span>Подготовка данных</a></span></li><li><span><a href=\"#Исследование-задачи\" data-toc-modified-id=\"Исследование-задачи-2\"><span class=\"toc-item-num\">2&nbsp;&nbsp;</span>Исследование задачи</a></span></li><li><span><a href=\"#Борьба-с-дисбалансом\" data-toc-modified-id=\"Борьба-с-дисбалансом-3\"><span class=\"toc-item-num\">3&nbsp;&nbsp;</span>Борьба с дисбалансом</a></span></li><li><span><a href=\"#Тестирование-модели\" data-toc-modified-id=\"Тестирование-модели-4\"><span class=\"toc-item-num\">4&nbsp;&nbsp;</span>Тестирование модели</a></span></li><li><span><a href=\"#Чек-лист-готовности-проекта\" data-toc-modified-id=\"Чек-лист-готовности-проекта-5\"><span class=\"toc-item-num\">5&nbsp;&nbsp;</span>Чек-лист готовности проекта</a></span></li></ul></div>"
   ]
  },
  {
   "cell_type": "markdown",
   "metadata": {},
   "source": [
    "# Отток клиентов"
   ]
  },
  {
   "cell_type": "markdown",
   "metadata": {},
   "source": [
    "**Ход работы:**\n",
    "1) Подготовка данных.<br> \n",
    "2) Исследование баланса классов, обучение модели без учёта дисбаланса.<br> \n",
    "3) Улучшение качества модели, учитывая дисбаланс классов. Обучение разных моделей и поиск лучшей.<br>\n",
    "4) Финальное тестирование модели."
   ]
  },
  {
   "cell_type": "markdown",
   "metadata": {},
   "source": [
    "## Подготовка данных"
   ]
  },
  {
   "cell_type": "code",
   "execution_count": 1,
   "metadata": {},
   "outputs": [],
   "source": [
    "# импортируем библиотеки\n",
    "import pandas as pd\n",
    "import numpy as np\n",
    "from io import BytesIO\n",
    "import requests\n",
    "from sklearn.ensemble import RandomForestClassifier\n",
    "from sklearn.linear_model import LogisticRegression\n",
    "from sklearn.preprocessing import OneHotEncoder, StandardScaler\n",
    "from sklearn.compose import make_column_transformer\n",
    "from sklearn.model_selection import train_test_split\n",
    "from sklearn.metrics import f1_score\n",
    "import warnings\n",
    "from sklearn.utils import shuffle\n",
    "from sklearn.metrics import roc_auc_score\n",
    "from sklearn.tree import DecisionTreeClassifier"
   ]
  },
  {
   "cell_type": "code",
   "execution_count": 2,
   "metadata": {
    "scrolled": false
   },
   "outputs": [
    {
     "data": {
      "text/html": [
       "<div>\n",
       "<style scoped>\n",
       "    .dataframe tbody tr th:only-of-type {\n",
       "        vertical-align: middle;\n",
       "    }\n",
       "\n",
       "    .dataframe tbody tr th {\n",
       "        vertical-align: top;\n",
       "    }\n",
       "\n",
       "    .dataframe thead th {\n",
       "        text-align: right;\n",
       "    }\n",
       "</style>\n",
       "<table border=\"1\" class=\"dataframe\">\n",
       "  <thead>\n",
       "    <tr style=\"text-align: right;\">\n",
       "      <th></th>\n",
       "      <th>RowNumber</th>\n",
       "      <th>CustomerId</th>\n",
       "      <th>Surname</th>\n",
       "      <th>CreditScore</th>\n",
       "      <th>Geography</th>\n",
       "      <th>Gender</th>\n",
       "      <th>Age</th>\n",
       "      <th>Tenure</th>\n",
       "      <th>Balance</th>\n",
       "      <th>NumOfProducts</th>\n",
       "      <th>HasCrCard</th>\n",
       "      <th>IsActiveMember</th>\n",
       "      <th>EstimatedSalary</th>\n",
       "      <th>Exited</th>\n",
       "    </tr>\n",
       "  </thead>\n",
       "  <tbody>\n",
       "    <tr>\n",
       "      <th>0</th>\n",
       "      <td>1</td>\n",
       "      <td>15634602</td>\n",
       "      <td>Hargrave</td>\n",
       "      <td>619</td>\n",
       "      <td>France</td>\n",
       "      <td>Female</td>\n",
       "      <td>42</td>\n",
       "      <td>2.0</td>\n",
       "      <td>0.00</td>\n",
       "      <td>1</td>\n",
       "      <td>1</td>\n",
       "      <td>1</td>\n",
       "      <td>101348.88</td>\n",
       "      <td>1</td>\n",
       "    </tr>\n",
       "    <tr>\n",
       "      <th>1</th>\n",
       "      <td>2</td>\n",
       "      <td>15647311</td>\n",
       "      <td>Hill</td>\n",
       "      <td>608</td>\n",
       "      <td>Spain</td>\n",
       "      <td>Female</td>\n",
       "      <td>41</td>\n",
       "      <td>1.0</td>\n",
       "      <td>83807.86</td>\n",
       "      <td>1</td>\n",
       "      <td>0</td>\n",
       "      <td>1</td>\n",
       "      <td>112542.58</td>\n",
       "      <td>0</td>\n",
       "    </tr>\n",
       "    <tr>\n",
       "      <th>2</th>\n",
       "      <td>3</td>\n",
       "      <td>15619304</td>\n",
       "      <td>Onio</td>\n",
       "      <td>502</td>\n",
       "      <td>France</td>\n",
       "      <td>Female</td>\n",
       "      <td>42</td>\n",
       "      <td>8.0</td>\n",
       "      <td>159660.80</td>\n",
       "      <td>3</td>\n",
       "      <td>1</td>\n",
       "      <td>0</td>\n",
       "      <td>113931.57</td>\n",
       "      <td>1</td>\n",
       "    </tr>\n",
       "    <tr>\n",
       "      <th>3</th>\n",
       "      <td>4</td>\n",
       "      <td>15701354</td>\n",
       "      <td>Boni</td>\n",
       "      <td>699</td>\n",
       "      <td>France</td>\n",
       "      <td>Female</td>\n",
       "      <td>39</td>\n",
       "      <td>1.0</td>\n",
       "      <td>0.00</td>\n",
       "      <td>2</td>\n",
       "      <td>0</td>\n",
       "      <td>0</td>\n",
       "      <td>93826.63</td>\n",
       "      <td>0</td>\n",
       "    </tr>\n",
       "    <tr>\n",
       "      <th>4</th>\n",
       "      <td>5</td>\n",
       "      <td>15737888</td>\n",
       "      <td>Mitchell</td>\n",
       "      <td>850</td>\n",
       "      <td>Spain</td>\n",
       "      <td>Female</td>\n",
       "      <td>43</td>\n",
       "      <td>2.0</td>\n",
       "      <td>125510.82</td>\n",
       "      <td>1</td>\n",
       "      <td>1</td>\n",
       "      <td>1</td>\n",
       "      <td>79084.10</td>\n",
       "      <td>0</td>\n",
       "    </tr>\n",
       "    <tr>\n",
       "      <th>...</th>\n",
       "      <td>...</td>\n",
       "      <td>...</td>\n",
       "      <td>...</td>\n",
       "      <td>...</td>\n",
       "      <td>...</td>\n",
       "      <td>...</td>\n",
       "      <td>...</td>\n",
       "      <td>...</td>\n",
       "      <td>...</td>\n",
       "      <td>...</td>\n",
       "      <td>...</td>\n",
       "      <td>...</td>\n",
       "      <td>...</td>\n",
       "      <td>...</td>\n",
       "    </tr>\n",
       "    <tr>\n",
       "      <th>9995</th>\n",
       "      <td>9996</td>\n",
       "      <td>15606229</td>\n",
       "      <td>Obijiaku</td>\n",
       "      <td>771</td>\n",
       "      <td>France</td>\n",
       "      <td>Male</td>\n",
       "      <td>39</td>\n",
       "      <td>5.0</td>\n",
       "      <td>0.00</td>\n",
       "      <td>2</td>\n",
       "      <td>1</td>\n",
       "      <td>0</td>\n",
       "      <td>96270.64</td>\n",
       "      <td>0</td>\n",
       "    </tr>\n",
       "    <tr>\n",
       "      <th>9996</th>\n",
       "      <td>9997</td>\n",
       "      <td>15569892</td>\n",
       "      <td>Johnstone</td>\n",
       "      <td>516</td>\n",
       "      <td>France</td>\n",
       "      <td>Male</td>\n",
       "      <td>35</td>\n",
       "      <td>10.0</td>\n",
       "      <td>57369.61</td>\n",
       "      <td>1</td>\n",
       "      <td>1</td>\n",
       "      <td>1</td>\n",
       "      <td>101699.77</td>\n",
       "      <td>0</td>\n",
       "    </tr>\n",
       "    <tr>\n",
       "      <th>9997</th>\n",
       "      <td>9998</td>\n",
       "      <td>15584532</td>\n",
       "      <td>Liu</td>\n",
       "      <td>709</td>\n",
       "      <td>France</td>\n",
       "      <td>Female</td>\n",
       "      <td>36</td>\n",
       "      <td>7.0</td>\n",
       "      <td>0.00</td>\n",
       "      <td>1</td>\n",
       "      <td>0</td>\n",
       "      <td>1</td>\n",
       "      <td>42085.58</td>\n",
       "      <td>1</td>\n",
       "    </tr>\n",
       "    <tr>\n",
       "      <th>9998</th>\n",
       "      <td>9999</td>\n",
       "      <td>15682355</td>\n",
       "      <td>Sabbatini</td>\n",
       "      <td>772</td>\n",
       "      <td>Germany</td>\n",
       "      <td>Male</td>\n",
       "      <td>42</td>\n",
       "      <td>3.0</td>\n",
       "      <td>75075.31</td>\n",
       "      <td>2</td>\n",
       "      <td>1</td>\n",
       "      <td>0</td>\n",
       "      <td>92888.52</td>\n",
       "      <td>1</td>\n",
       "    </tr>\n",
       "    <tr>\n",
       "      <th>9999</th>\n",
       "      <td>10000</td>\n",
       "      <td>15628319</td>\n",
       "      <td>Walker</td>\n",
       "      <td>792</td>\n",
       "      <td>France</td>\n",
       "      <td>Female</td>\n",
       "      <td>28</td>\n",
       "      <td>NaN</td>\n",
       "      <td>130142.79</td>\n",
       "      <td>1</td>\n",
       "      <td>1</td>\n",
       "      <td>0</td>\n",
       "      <td>38190.78</td>\n",
       "      <td>0</td>\n",
       "    </tr>\n",
       "  </tbody>\n",
       "</table>\n",
       "<p>10000 rows × 14 columns</p>\n",
       "</div>"
      ],
      "text/plain": [
       "      RowNumber  CustomerId    Surname  CreditScore Geography  Gender  Age  \\\n",
       "0             1    15634602   Hargrave          619    France  Female   42   \n",
       "1             2    15647311       Hill          608     Spain  Female   41   \n",
       "2             3    15619304       Onio          502    France  Female   42   \n",
       "3             4    15701354       Boni          699    France  Female   39   \n",
       "4             5    15737888   Mitchell          850     Spain  Female   43   \n",
       "...         ...         ...        ...          ...       ...     ...  ...   \n",
       "9995       9996    15606229   Obijiaku          771    France    Male   39   \n",
       "9996       9997    15569892  Johnstone          516    France    Male   35   \n",
       "9997       9998    15584532        Liu          709    France  Female   36   \n",
       "9998       9999    15682355  Sabbatini          772   Germany    Male   42   \n",
       "9999      10000    15628319     Walker          792    France  Female   28   \n",
       "\n",
       "      Tenure    Balance  NumOfProducts  HasCrCard  IsActiveMember  \\\n",
       "0        2.0       0.00              1          1               1   \n",
       "1        1.0   83807.86              1          0               1   \n",
       "2        8.0  159660.80              3          1               0   \n",
       "3        1.0       0.00              2          0               0   \n",
       "4        2.0  125510.82              1          1               1   \n",
       "...      ...        ...            ...        ...             ...   \n",
       "9995     5.0       0.00              2          1               0   \n",
       "9996    10.0   57369.61              1          1               1   \n",
       "9997     7.0       0.00              1          0               1   \n",
       "9998     3.0   75075.31              2          1               0   \n",
       "9999     NaN  130142.79              1          1               0   \n",
       "\n",
       "      EstimatedSalary  Exited  \n",
       "0           101348.88       1  \n",
       "1           112542.58       0  \n",
       "2           113931.57       1  \n",
       "3            93826.63       0  \n",
       "4            79084.10       0  \n",
       "...               ...     ...  \n",
       "9995         96270.64       0  \n",
       "9996        101699.77       0  \n",
       "9997         42085.58       1  \n",
       "9998         92888.52       1  \n",
       "9999         38190.78       0  \n",
       "\n",
       "[10000 rows x 14 columns]"
      ]
     },
     "execution_count": 2,
     "metadata": {},
     "output_type": "execute_result"
    }
   ],
   "source": [
    "# откроем файл и изучим общую информацию\n",
    "df = pd.read_csv('/datasets/Churn.csv')\n",
    "df"
   ]
  },
  {
   "cell_type": "code",
   "execution_count": 3,
   "metadata": {},
   "outputs": [
    {
     "name": "stdout",
     "output_type": "stream",
     "text": [
      "<class 'pandas.core.frame.DataFrame'>\n",
      "RangeIndex: 10000 entries, 0 to 9999\n",
      "Data columns (total 14 columns):\n",
      " #   Column           Non-Null Count  Dtype  \n",
      "---  ------           --------------  -----  \n",
      " 0   RowNumber        10000 non-null  int64  \n",
      " 1   CustomerId       10000 non-null  int64  \n",
      " 2   Surname          10000 non-null  object \n",
      " 3   CreditScore      10000 non-null  int64  \n",
      " 4   Geography        10000 non-null  object \n",
      " 5   Gender           10000 non-null  object \n",
      " 6   Age              10000 non-null  int64  \n",
      " 7   Tenure           9091 non-null   float64\n",
      " 8   Balance          10000 non-null  float64\n",
      " 9   NumOfProducts    10000 non-null  int64  \n",
      " 10  HasCrCard        10000 non-null  int64  \n",
      " 11  IsActiveMember   10000 non-null  int64  \n",
      " 12  EstimatedSalary  10000 non-null  float64\n",
      " 13  Exited           10000 non-null  int64  \n",
      "dtypes: float64(3), int64(8), object(3)\n",
      "memory usage: 1.1+ MB\n"
     ]
    }
   ],
   "source": [
    "# изучим общую информацию\n",
    "df.info()"
   ]
  },
  {
   "cell_type": "markdown",
   "metadata": {},
   "source": [
    "Проверим наличие пропусков в даных. "
   ]
  },
  {
   "cell_type": "code",
   "execution_count": 4,
   "metadata": {},
   "outputs": [
    {
     "data": {
      "text/plain": [
       "RowNumber            0\n",
       "CustomerId           0\n",
       "Surname              0\n",
       "CreditScore          0\n",
       "Geography            0\n",
       "Gender               0\n",
       "Age                  0\n",
       "Tenure             909\n",
       "Balance              0\n",
       "NumOfProducts        0\n",
       "HasCrCard            0\n",
       "IsActiveMember       0\n",
       "EstimatedSalary      0\n",
       "Exited               0\n",
       "dtype: int64"
      ]
     },
     "execution_count": 4,
     "metadata": {},
     "output_type": "execute_result"
    }
   ],
   "source": [
    "df.isna().sum()"
   ]
  },
  {
   "cell_type": "code",
   "execution_count": 5,
   "metadata": {},
   "outputs": [
    {
     "data": {
      "text/html": [
       "<style  type=\"text/css\" >\n",
       "#T_c2582_row0_col0,#T_c2582_row1_col0,#T_c2582_row2_col0,#T_c2582_row3_col0,#T_c2582_row4_col0,#T_c2582_row5_col0,#T_c2582_row6_col0,#T_c2582_row8_col0,#T_c2582_row9_col0,#T_c2582_row10_col0,#T_c2582_row11_col0,#T_c2582_row12_col0,#T_c2582_row13_col0{\n",
       "            background-color:  #3b4cc0;\n",
       "            color:  #f1f1f1;\n",
       "        }#T_c2582_row7_col0{\n",
       "            background-color:  #b40426;\n",
       "            color:  #f1f1f1;\n",
       "        }</style><table id=\"T_c2582_\" ><thead>    <tr>        <th class=\"blank level0\" ></th>        <th class=\"col_heading level0 col0\" >0</th>    </tr></thead><tbody>\n",
       "                <tr>\n",
       "                        <th id=\"T_c2582_level0_row0\" class=\"row_heading level0 row0\" >RowNumber</th>\n",
       "                        <td id=\"T_c2582_row0_col0\" class=\"data row0 col0\" >0.000000</td>\n",
       "            </tr>\n",
       "            <tr>\n",
       "                        <th id=\"T_c2582_level0_row1\" class=\"row_heading level0 row1\" >CustomerId</th>\n",
       "                        <td id=\"T_c2582_row1_col0\" class=\"data row1 col0\" >0.000000</td>\n",
       "            </tr>\n",
       "            <tr>\n",
       "                        <th id=\"T_c2582_level0_row2\" class=\"row_heading level0 row2\" >Surname</th>\n",
       "                        <td id=\"T_c2582_row2_col0\" class=\"data row2 col0\" >0.000000</td>\n",
       "            </tr>\n",
       "            <tr>\n",
       "                        <th id=\"T_c2582_level0_row3\" class=\"row_heading level0 row3\" >CreditScore</th>\n",
       "                        <td id=\"T_c2582_row3_col0\" class=\"data row3 col0\" >0.000000</td>\n",
       "            </tr>\n",
       "            <tr>\n",
       "                        <th id=\"T_c2582_level0_row4\" class=\"row_heading level0 row4\" >Geography</th>\n",
       "                        <td id=\"T_c2582_row4_col0\" class=\"data row4 col0\" >0.000000</td>\n",
       "            </tr>\n",
       "            <tr>\n",
       "                        <th id=\"T_c2582_level0_row5\" class=\"row_heading level0 row5\" >Gender</th>\n",
       "                        <td id=\"T_c2582_row5_col0\" class=\"data row5 col0\" >0.000000</td>\n",
       "            </tr>\n",
       "            <tr>\n",
       "                        <th id=\"T_c2582_level0_row6\" class=\"row_heading level0 row6\" >Age</th>\n",
       "                        <td id=\"T_c2582_row6_col0\" class=\"data row6 col0\" >0.000000</td>\n",
       "            </tr>\n",
       "            <tr>\n",
       "                        <th id=\"T_c2582_level0_row7\" class=\"row_heading level0 row7\" >Tenure</th>\n",
       "                        <td id=\"T_c2582_row7_col0\" class=\"data row7 col0\" >9.000000</td>\n",
       "            </tr>\n",
       "            <tr>\n",
       "                        <th id=\"T_c2582_level0_row8\" class=\"row_heading level0 row8\" >Balance</th>\n",
       "                        <td id=\"T_c2582_row8_col0\" class=\"data row8 col0\" >0.000000</td>\n",
       "            </tr>\n",
       "            <tr>\n",
       "                        <th id=\"T_c2582_level0_row9\" class=\"row_heading level0 row9\" >NumOfProducts</th>\n",
       "                        <td id=\"T_c2582_row9_col0\" class=\"data row9 col0\" >0.000000</td>\n",
       "            </tr>\n",
       "            <tr>\n",
       "                        <th id=\"T_c2582_level0_row10\" class=\"row_heading level0 row10\" >HasCrCard</th>\n",
       "                        <td id=\"T_c2582_row10_col0\" class=\"data row10 col0\" >0.000000</td>\n",
       "            </tr>\n",
       "            <tr>\n",
       "                        <th id=\"T_c2582_level0_row11\" class=\"row_heading level0 row11\" >IsActiveMember</th>\n",
       "                        <td id=\"T_c2582_row11_col0\" class=\"data row11 col0\" >0.000000</td>\n",
       "            </tr>\n",
       "            <tr>\n",
       "                        <th id=\"T_c2582_level0_row12\" class=\"row_heading level0 row12\" >EstimatedSalary</th>\n",
       "                        <td id=\"T_c2582_row12_col0\" class=\"data row12 col0\" >0.000000</td>\n",
       "            </tr>\n",
       "            <tr>\n",
       "                        <th id=\"T_c2582_level0_row13\" class=\"row_heading level0 row13\" >Exited</th>\n",
       "                        <td id=\"T_c2582_row13_col0\" class=\"data row13 col0\" >0.000000</td>\n",
       "            </tr>\n",
       "    </tbody></table>"
      ],
      "text/plain": [
       "<pandas.io.formats.style.Styler at 0x7f4d94fd0d30>"
      ]
     },
     "execution_count": 5,
     "metadata": {},
     "output_type": "execute_result"
    }
   ],
   "source": [
    "# рассмотрим количество пропусков в процентном соотношении\n",
    "pd.DataFrame(round(df.isna().mean()*100,)).style.background_gradient('coolwarm')"
   ]
  },
  {
   "cell_type": "markdown",
   "metadata": {},
   "source": [
    "Заполнение пропусков случайным значением или медианой может привести к анализу ошибочных данных. Столбец Tenure содержит менее 10% пропусков, это малая часть датафрейма. В данном случае избавиться от пропусков лучше через их удаление."
   ]
  },
  {
   "cell_type": "code",
   "execution_count": 6,
   "metadata": {},
   "outputs": [
    {
     "data": {
      "text/plain": [
       "RowNumber            0\n",
       "CustomerId           0\n",
       "Surname              0\n",
       "CreditScore          0\n",
       "Geography            0\n",
       "Gender               0\n",
       "Age                  0\n",
       "Tenure             909\n",
       "Balance              0\n",
       "NumOfProducts        0\n",
       "HasCrCard            0\n",
       "IsActiveMember       0\n",
       "EstimatedSalary      0\n",
       "Exited               0\n",
       "dtype: int64"
      ]
     },
     "execution_count": 6,
     "metadata": {},
     "output_type": "execute_result"
    }
   ],
   "source": [
    "df.dropna(axis=0)\n",
    "df.isna().sum()"
   ]
  },
  {
   "cell_type": "code",
   "execution_count": 7,
   "metadata": {},
   "outputs": [],
   "source": [
    "# удалим пропуски \n",
    "df = df.dropna(subset=['Tenure'])\n",
    "#print(df['Tenure'].isna().sum())"
   ]
  },
  {
   "cell_type": "markdown",
   "metadata": {},
   "source": [
    "Столбец Exited содержит в себе целевой признак. Будем решать задачу бинарной классификации. Запишем признаки в переменную features, а целевой признак в переменную target."
   ]
  },
  {
   "cell_type": "code",
   "execution_count": 8,
   "metadata": {},
   "outputs": [],
   "source": [
    "features = df.drop('Exited', axis=1)\n",
    "target = df['Exited']"
   ]
  },
  {
   "cell_type": "markdown",
   "metadata": {},
   "source": [
    "Опишем некоторые типы признаков в отдельных списках."
   ]
  },
  {
   "cell_type": "code",
   "execution_count": 9,
   "metadata": {},
   "outputs": [],
   "source": [
    "# категориальные признаки\n",
    "categorical_features = ['Gender', 'Geography']\n",
    "# неинформативные признаки\n",
    "not_informative = ['RowNumber','CustomerId','Surname']\n",
    "# целевой признак\n",
    "target_name = ['Exited']"
   ]
  },
  {
   "cell_type": "markdown",
   "metadata": {},
   "source": [
    "Удалим неинформативные признаки."
   ]
  },
  {
   "cell_type": "code",
   "execution_count": 10,
   "metadata": {},
   "outputs": [],
   "source": [
    "df = df.drop(columns=not_informative)"
   ]
  },
  {
   "cell_type": "markdown",
   "metadata": {},
   "source": [
    "Разделим данные на обучающую, валидационную и тестовые выборки."
   ]
  },
  {
   "cell_type": "code",
   "execution_count": 11,
   "metadata": {},
   "outputs": [
    {
     "name": "stdout",
     "output_type": "stream",
     "text": [
      "(5454, 10)\n",
      "(1818, 10)\n",
      "(1819, 10)\n"
     ]
    }
   ],
   "source": [
    "# разделяем данные на 3 выборки\n",
    "X = df.drop(columns=target_name)\n",
    "y=df[target_name]\n",
    "\n",
    "X_train_valid, X_test, y_train_valid, y_test = train_test_split(X, y, test_size=0.2, random_state = 12345)\n",
    "X_train, X_valid, y_train, y_valid = train_test_split(X_train_valid, y_train_valid, test_size=0.25, random_state = 12345)\n",
    "\n",
    "X_train = X_train.reset_index(drop=True)\n",
    "X_valid = X_valid.reset_index(drop=True)\n",
    "X_test = X_test.reset_index(drop=True)\n",
    "\n",
    "print(X_train.shape)\n",
    "print(X_valid.shape)\n",
    "print(X_test.shape)\n",
    "\n",
    "#print(X_train)"
   ]
  },
  {
   "cell_type": "markdown",
   "metadata": {},
   "source": [
    "Преобразуем категориальные признаки в численные методом OHE"
   ]
  },
  {
   "cell_type": "code",
   "execution_count": 12,
   "metadata": {},
   "outputs": [],
   "source": [
    "# используем технику one hot encoding\n",
    "ohe = OneHotEncoder(sparse = False)\n",
    "X_train_ohe=ohe.fit_transform(X_train[categorical_features])\n",
    "X_valid_ohe = ohe.transform(X_valid[categorical_features])\n",
    "X_test_ohe = ohe.transform(X_test[categorical_features])\n",
    "# преобразуем array в dataframe\n",
    "X_train_ohe=pd.DataFrame(X_train_ohe, columns = [\n",
    "    'Gender_Female','Gender_Male','Geography_France','Geography_Germany','Geography_Spain'])\n",
    "X_valid_ohe=pd.DataFrame(X_valid_ohe, columns = [\n",
    "    'Gender_Female','Gender_Male','Geography_France','Geography_Germany','Geography_Spain'])\n",
    "X_test_ohe=pd.DataFrame(X_test_ohe, columns = [\n",
    "    'Gender_Female','Gender_Male','Geography_France','Geography_Germany','Geography_Spain'])\n",
    "# удалим столбцы, подлежащие восстановлению\n",
    "X_train_ohe=X_train_ohe.drop(['Gender_Female', 'Geography_France'],axis=1)\n",
    "X_valid_ohe=X_valid_ohe.drop(['Gender_Female', 'Geography_France'],axis=1)\n",
    "X_test_ohe=X_test_ohe.drop(['Gender_Female', 'Geography_France'],axis=1)\n",
    "\n",
    "#print(X_train_ohe)"
   ]
  },
  {
   "cell_type": "code",
   "execution_count": 13,
   "metadata": {},
   "outputs": [
    {
     "name": "stdout",
     "output_type": "stream",
     "text": [
      "['Female' 'Male']\n",
      "['Spain' 'France' 'Germany']\n"
     ]
    }
   ],
   "source": [
    "# для названий столбцов\n",
    "print(X_train['Gender'].unique())\n",
    "print(X_train['Geography'].unique())"
   ]
  },
  {
   "cell_type": "code",
   "execution_count": 14,
   "metadata": {},
   "outputs": [],
   "source": [
    "#X_train[categorical_features].tail(),X_train_ohe.tail()"
   ]
  },
  {
   "cell_type": "markdown",
   "metadata": {},
   "source": [
    "Соединим датафреймы преобразованных категориальных признаков с числовыми. "
   ]
  },
  {
   "cell_type": "code",
   "execution_count": 15,
   "metadata": {},
   "outputs": [],
   "source": [
    "X_train_transformed = pd.concat([X_train,X_train_ohe],axis=1)\n",
    "X_valid_transformed = pd.concat([X_valid,X_valid_ohe],axis=1)\n",
    "X_test_transformed = pd.concat([X_test,X_test_ohe],axis=1)\n",
    "#print(X_train_transformed.isna().sum())\n",
    "#print(X_train_transformed)"
   ]
  },
  {
   "cell_type": "markdown",
   "metadata": {},
   "source": [
    "Удалим столбец с категориальными признаками."
   ]
  },
  {
   "cell_type": "code",
   "execution_count": 16,
   "metadata": {},
   "outputs": [],
   "source": [
    "X_train_transformed = X_train_transformed.drop(categorical_features, axis = 1)\n",
    "X_valid_transformed = X_valid_transformed.drop(categorical_features, axis = 1)\n",
    "X_test_transformed = X_test_transformed.drop(categorical_features, axis = 1)\n",
    "#print(X_train_transformed)"
   ]
  },
  {
   "cell_type": "markdown",
   "metadata": {},
   "source": [
    "Масштабируем признаки. "
   ]
  },
  {
   "cell_type": "code",
   "execution_count": 17,
   "metadata": {},
   "outputs": [],
   "source": [
    "# масштабируем числовые признаки с помощью standard scaler\n",
    "scaler = StandardScaler()\n",
    "X_train_transformed = scaler.fit_transform(X_train_transformed)\n",
    "X_valid_transformed = scaler.transform(X_valid_transformed)\n",
    "X_test_transformed = scaler.transform(X_test_transformed)\n",
    "\n",
    "# всплывает предупреждение A value is trying to be set on a copy of a slice from a DataFrame, отключаю \n",
    "warnings.filterwarnings('ignore') \n",
    "\n",
    "X_train_transformed = pd.DataFrame(X_train_transformed, columns = [\n",
    "    'CreditScore','Age','Tenure','Balance','NumOfProduct','HasCrCard','IsActiveMember','EstimatedSalary','Gender_Male',\n",
    "    'Geography_Germany','Geography_Spain'])\n",
    "#print(X_train_transformed)\n",
    "                                                "
   ]
  },
  {
   "cell_type": "markdown",
   "metadata": {},
   "source": [
    "**Итоги подготовки данных:**<br>\n",
    "Данные были разделены на 3 выборки.<br> \n",
    "Категориальные признаки были преобразованы методом OHE.<br>\n",
    "Признаки были масштабированы с помощью StandardScaler.<br> \n",
    "Пропуски в данных отсутствуют.<br> \n",
    "Целевой признак: Exited.<br>"
   ]
  },
  {
   "cell_type": "markdown",
   "metadata": {},
   "source": [
    "## Исследование задачи"
   ]
  },
  {
   "cell_type": "markdown",
   "metadata": {},
   "source": [
    "Исследуем баланс классов. "
   ]
  },
  {
   "cell_type": "code",
   "execution_count": 18,
   "metadata": {},
   "outputs": [
    {
     "data": {
      "image/png": "[encoded data removed]",
      "text/plain": [
       "<Figure size 576x360 with 1 Axes>"
      ]
     },
     "metadata": {
      "needs_background": "light"
     },
     "output_type": "display_data"
    }
   ],
   "source": [
    "# построим гистограмму значений столбца exited\n",
    "df['Exited'].value_counts().plot(kind='bar',grid=True,figsize=(8,5),title='Exited or not');"
   ]
  },
  {
   "cell_type": "markdown",
   "metadata": {},
   "source": [
    "Классы несбалансированны. Соотношение классов 1 и 0: 1 к 4."
   ]
  },
  {
   "cell_type": "markdown",
   "metadata": {},
   "source": [
    "Исследуем значимость признаков."
   ]
  },
  {
   "cell_type": "code",
   "execution_count": 19,
   "metadata": {},
   "outputs": [
    {
     "data": {
      "image/png": "[encoded data removed]",
      "text/plain": [
       "<Figure size 576x360 with 1 Axes>"
      ]
     },
     "metadata": {
      "needs_background": "light"
     },
     "output_type": "display_data"
    }
   ],
   "source": [
    "classifier = RandomForestClassifier()\n",
    "classifier.fit(X_train_transformed, y_train)\n",
    "\n",
    "fe = classifier.feature_importances_\n",
    "\n",
    "importance = pd.Series(fe, index = X_train_transformed.columns).sort_values(ascending = False)\n",
    "importance.plot(kind='bar',grid=True, figsize=(8,5), title='Feature importances');"
   ]
  },
  {
   "cell_type": "markdown",
   "metadata": {},
   "source": [
    "Наиболее значимым признаком может являться возраст."
   ]
  },
  {
   "cell_type": "markdown",
   "metadata": {},
   "source": [
    "Рассмотрим различные модели без учета дисбаланса."
   ]
  },
  {
   "cell_type": "markdown",
   "metadata": {},
   "source": [
    "1) Дерево решений."
   ]
  },
  {
   "cell_type": "code",
   "execution_count": 20,
   "metadata": {},
   "outputs": [
    {
     "name": "stdout",
     "output_type": "stream",
     "text": [
      "max_depth = 5\n",
      "F1 лучшей модели дерева решений: 0.5571658615136877\n",
      "AUC-ROC: 0.8036164551626549\n"
     ]
    }
   ],
   "source": [
    "# напишем цикл с перебором глубины дерева для поиска лучшей модели\n",
    "decision_tree_best_model = None\n",
    "decision_tree_best_result = 0\n",
    "for depth in range(1, 6):\n",
    "    decision_tree_model = DecisionTreeClassifier(random_state=12345, max_depth=depth) # задаем глубину дерева\n",
    "    decision_tree_model.fit(X_train_transformed,y_train) # обучаем модель\n",
    "    decision_tree_predictions = decision_tree_model.predict(X_valid_transformed) # получим предсказания модели\n",
    "    decision_tree_result = f1_score(y_valid, decision_tree_predictions) # посчитаем качество модели\n",
    "    if decision_tree_result > decision_tree_best_result:\n",
    "        decision_tree_best_model = decision_tree_model\n",
    "        decision_tree_best_result = decision_tree_result\n",
    "        max_depth = depth\n",
    "        probabilities_valid_tree = decision_tree_best_model.predict_proba(X_valid_transformed)\n",
    "        probabilities_one_valid_tree = probabilities_valid_tree[:, 1]\n",
    "        auc_roc_tree = roc_auc_score(y_valid, probabilities_one_valid_tree)\n",
    "print(\"max_depth =\", max_depth)\n",
    "print(\"F1 лучшей модели дерева решений:\", decision_tree_best_result)\n",
    "print('AUC-ROC:', auc_roc_tree)"
   ]
  },
  {
   "cell_type": "markdown",
   "metadata": {},
   "source": [
    "2) Случайный лес."
   ]
  },
  {
   "cell_type": "code",
   "execution_count": 21,
   "metadata": {},
   "outputs": [
    {
     "name": "stdout",
     "output_type": "stream",
     "text": [
      "estimators = 79\n",
      "F1 наилучшей модели случайного леса на валидационной выборке: 0.5709342560553633\n",
      "AUC-ROC: 0.8348424633819567\n"
     ]
    }
   ],
   "source": [
    "# напишем цикл с перебором количества деревьев для поиска лучшей модели\n",
    "random_forest_best_model = None\n",
    "random_forest_best_result = 0\n",
    "for est in range(1, 101):\n",
    "    # задаем количество деревьев\n",
    "    random_forest_model = RandomForestClassifier(random_state=12345, n_estimators=est) \n",
    "    # обучаем модель на тренировочной выборке\n",
    "    random_forest_model.fit(X_train_transformed,y_train)\n",
    "    # получим предсказание модели\n",
    "    random_forest_predictions = random_forest_model.predict(X_valid_transformed)\n",
    "    # считаем качество модели на валидационной выборке\n",
    "    random_forest_result = f1_score(y_valid, random_forest_predictions)\n",
    "    if random_forest_result > random_forest_best_result:\n",
    "        random_forest_best_model = random_forest_model # сохраним наилучшую модель\n",
    "        #  сохраним наилучшее значение метрики accuracy на валидационных данных\n",
    "        random_forest_best_result = random_forest_result \n",
    "        estimators = est\n",
    "        probabilities_valid_forest = random_forest_best_model.predict_proba(X_valid_transformed)\n",
    "        probabilities_one_valid_forest = probabilities_valid_forest[:, 1]\n",
    "        auc_roc_forest = roc_auc_score(y_valid, probabilities_one_valid_forest)\n",
    "print(\"estimators =\", estimators)\n",
    "print(\"F1 наилучшей модели случайного леса на валидационной выборке:\", random_forest_best_result)\n",
    "print(\"AUC-ROC:\", auc_roc_forest)"
   ]
  },
  {
   "cell_type": "markdown",
   "metadata": {},
   "source": [
    "3) Логистическая регрессия."
   ]
  },
  {
   "cell_type": "code",
   "execution_count": 22,
   "metadata": {},
   "outputs": [
    {
     "name": "stdout",
     "output_type": "stream",
     "text": [
      "F1 модели логистической регрессии на валидационной выборке: 0.3004115226337448\n",
      "AUC-ROC: 0.7724525433169247\n"
     ]
    }
   ],
   "source": [
    "# задаем random_state, solver (алгоритм) и max_iter (максимальное количество итераций)\n",
    "logistic_regression_model = LogisticRegression(random_state=12345, solver='lbfgs', max_iter=1000)\n",
    "# обучаем модель на тренировочной выборке\n",
    "logistic_regression_model.fit(X_train_transformed, y_train)\n",
    "# получим предсказание модели\n",
    "logistic_regression_predictions = logistic_regression_model.predict(X_valid_transformed)\n",
    "# рассчитываем F1\n",
    "logistic_regression_result = f1_score(y_valid, logistic_regression_predictions)\n",
    "# рассчитываем AUC-ROC\n",
    "probabilities_valid_regression = logistic_regression_model.predict_proba(X_valid_transformed)\n",
    "probabilities_one_valid_regression = probabilities_valid_regression[:, 1]\n",
    "auc_roc_regression = roc_auc_score(y_valid,probabilities_one_valid_regression)\n",
    "print(\"F1 модели логистической регрессии на валидационной выборке:\", logistic_regression_result)\n",
    "print(\"AUC-ROC:\", auc_roc_regression)"
   ]
  },
  {
   "cell_type": "markdown",
   "metadata": {},
   "source": [
    "Запишем полученные результаты в виде таблицы. "
   ]
  },
  {
   "cell_type": "code",
   "execution_count": 23,
   "metadata": {},
   "outputs": [
    {
     "data": {
      "text/html": [
       "<div>\n",
       "<style scoped>\n",
       "    .dataframe tbody tr th:only-of-type {\n",
       "        vertical-align: middle;\n",
       "    }\n",
       "\n",
       "    .dataframe tbody tr th {\n",
       "        vertical-align: top;\n",
       "    }\n",
       "\n",
       "    .dataframe thead th {\n",
       "        text-align: right;\n",
       "    }\n",
       "</style>\n",
       "<table border=\"1\" class=\"dataframe\">\n",
       "  <thead>\n",
       "    <tr style=\"text-align: right;\">\n",
       "      <th></th>\n",
       "      <th>decision_tree_F1</th>\n",
       "      <th>random_forest_F1</th>\n",
       "      <th>logistic_regression_F1</th>\n",
       "      <th>decision_tree_AUC-ROC</th>\n",
       "      <th>random_forest_AUC-ROC</th>\n",
       "      <th>logistic_regression_AUC-ROC</th>\n",
       "    </tr>\n",
       "  </thead>\n",
       "  <tbody>\n",
       "    <tr>\n",
       "      <th>unbalanced</th>\n",
       "      <td>0.557166</td>\n",
       "      <td>0.570934</td>\n",
       "      <td>0.300412</td>\n",
       "      <td>0.803616</td>\n",
       "      <td>0.834842</td>\n",
       "      <td>0.772453</td>\n",
       "    </tr>\n",
       "  </tbody>\n",
       "</table>\n",
       "</div>"
      ],
      "text/plain": [
       "            decision_tree_F1  random_forest_F1  logistic_regression_F1  \\\n",
       "unbalanced          0.557166          0.570934                0.300412   \n",
       "\n",
       "            decision_tree_AUC-ROC  random_forest_AUC-ROC  \\\n",
       "unbalanced               0.803616               0.834842   \n",
       "\n",
       "            logistic_regression_AUC-ROC  \n",
       "unbalanced                     0.772453  "
      ]
     },
     "execution_count": 23,
     "metadata": {},
     "output_type": "execute_result"
    }
   ],
   "source": [
    "all_results = [\n",
    "    {'decision_tree_F1': decision_tree_best_result, 'random_forest_F1': random_forest_best_result,\n",
    "    'logistic_regression_F1':logistic_regression_result, 'decision_tree_AUC-ROC': auc_roc_tree, 'random_forest_AUC-ROC':\n",
    "    auc_roc_forest, 'logistic_regression_AUC-ROC': auc_roc_regression}]\n",
    "all_results_df = pd.DataFrame(all_results, index=['unbalanced'])\n",
    "all_results_df"
   ]
  },
  {
   "cell_type": "markdown",
   "metadata": {},
   "source": [
    "**Итоги исследования задачи:**<br>\n",
    "Исходные данные не сбалансированы. Лучший результат F1 показывает модель случайного леса.\t"
   ]
  },
  {
   "cell_type": "markdown",
   "metadata": {},
   "source": [
    "## Борьба с дисбалансом"
   ]
  },
  {
   "cell_type": "markdown",
   "metadata": {},
   "source": [
    "Для борьбы с дисбалансом временно добавим в выборку X_train_transformed данные по целевому признаку из столбца exited. "
   ]
  },
  {
   "cell_type": "code",
   "execution_count": 24,
   "metadata": {},
   "outputs": [],
   "source": [
    "X_train_with_target = X_train_transformed.join(y_train.reset_index(drop=True))"
   ]
  },
  {
   "cell_type": "code",
   "execution_count": 25,
   "metadata": {},
   "outputs": [],
   "source": [
    "features_zeros = X_train_with_target.loc[X_train_with_target['Exited'] == 0].drop(['Exited'], axis=1)\n",
    "features_ones = X_train_with_target.loc[X_train_with_target['Exited'] == 1].drop(['Exited'], axis=1)\n",
    "target_zeros = y_train.loc[y_train['Exited'] == 0]\n",
    "target_ones = y_train.loc[y_train['Exited'] == 1]"
   ]
  },
  {
   "cell_type": "markdown",
   "metadata": {},
   "source": [
    "**1. Провизведем увеличение выборки.**"
   ]
  },
  {
   "cell_type": "code",
   "execution_count": 26,
   "metadata": {},
   "outputs": [],
   "source": [
    "# функция для увеличения выборки\n",
    "def upsample(X_train_transformed, y_train, repeat):\n",
    "\n",
    "\n",
    "    X_train_upsampled = pd.concat([features_zeros] + [features_ones] * repeat)\n",
    "    y_train_upsampled = pd.concat([target_zeros] + [target_ones] * repeat)\n",
    "    \n",
    "    X_train_upsampled, y_train_upsampled = shuffle(\n",
    "        X_train_upsampled, y_train_upsampled, random_state=12345)\n",
    "    \n",
    "    return X_train_upsampled, y_train_upsampled\n",
    "\n",
    "X_train_upsampled, y_train_upsampled = upsample(X_train_transformed, y_train, 4)"
   ]
  },
  {
   "cell_type": "markdown",
   "metadata": {},
   "source": [
    "Проверим, как изменятся показатели F1 и AUC-ROC при увеличенной выборке на разных моделях."
   ]
  },
  {
   "cell_type": "markdown",
   "metadata": {},
   "source": [
    "1) Дерево решений."
   ]
  },
  {
   "cell_type": "code",
   "execution_count": 27,
   "metadata": {},
   "outputs": [
    {
     "name": "stdout",
     "output_type": "stream",
     "text": [
      "max_depth = 5\n",
      "F1 лучшей модели дерева решений (выборка увеличена): 0.535675082327113\n",
      "AUC-ROC: 0.8082012374113715\n"
     ]
    }
   ],
   "source": [
    "# напишем цикл с перебором глубины дерева для поиска лучшей модели\n",
    "dt_upsampled_best_model = None\n",
    "dt_upsampled_best_result = 0\n",
    "for depth in range(1, 6):\n",
    "    dt_upsampled = DecisionTreeClassifier(random_state=12345, max_depth=depth) # задаем глубину дерева\n",
    "    dt_upsampled.fit(X_train_upsampled,y_train_upsampled) # обучаем модель\n",
    "    dt_upsampled_predictions = dt_upsampled.predict(X_valid_transformed) # получим предсказания модели\n",
    "    dt_upsampled_result = f1_score(y_valid, dt_upsampled_predictions) # посчитаем качество модели\n",
    "    if dt_upsampled_result > dt_upsampled_best_result:\n",
    "        dt_upsampled_best_model = dt_upsampled\n",
    "        dt_upsampled_best_result = dt_upsampled_result\n",
    "        max_depth = depth\n",
    "        probabilities_valid_tree = dt_upsampled_best_model.predict_proba(X_valid_transformed)\n",
    "        probabilities_one_valid_tree = probabilities_valid_tree[:, 1]\n",
    "        auc_roc_upsampled_tree = roc_auc_score(y_valid, probabilities_one_valid_tree)\n",
    "print(\"max_depth =\", max_depth)\n",
    "print(\"F1 лучшей модели дерева решений (выборка увеличена):\", dt_upsampled_best_result)\n",
    "print('AUC-ROC:', auc_roc_upsampled_tree)"
   ]
  },
  {
   "cell_type": "markdown",
   "metadata": {},
   "source": [
    "2) Случайный лес."
   ]
  },
  {
   "cell_type": "code",
   "execution_count": 28,
   "metadata": {},
   "outputs": [
    {
     "name": "stdout",
     "output_type": "stream",
     "text": [
      "estimators = 41\n",
      "F1 наилучшей модели случайного леса  (выборка увеличена): 0.6116941529235382\n",
      "AUC-ROC: 0.8295435728371645\n"
     ]
    }
   ],
   "source": [
    "# напишем цикл с перебором количества деревьев для поиска лучшей модели\n",
    "rf_upsampled_best_model = None\n",
    "rf_upsampled_best_result = 0\n",
    "for est in range(1, 101):\n",
    "    # задаем количество деревьев\n",
    "    rf_upsampled_model = RandomForestClassifier(random_state=12345, n_estimators=est) \n",
    "    # обучаем модель на тренировочной выборке\n",
    "    rf_upsampled_model.fit(X_train_upsampled,y_train_upsampled)\n",
    "    # получим предсказание модели\n",
    "    rf_upsampled_predictions = rf_upsampled_model.predict(X_valid_transformed)\n",
    "    # считаем качество модели на валидационной выборке\n",
    "    rf_upsampled_result = f1_score(y_valid, rf_upsampled_predictions)\n",
    "    if rf_upsampled_result > rf_upsampled_best_result:\n",
    "        rf_upsampled_best_model = rf_upsampled_model # сохраним наилучшую модель\n",
    "        #  сохраним наилучшее значение метрики accuracy на валидационных данных\n",
    "        rf_upsampled_best_result = rf_upsampled_result \n",
    "        estimators = est\n",
    "        probabilities_valid_forest = rf_upsampled_best_model.predict_proba(X_valid_transformed)\n",
    "        probabilities_one_valid_forest = probabilities_valid_forest[:, 1]\n",
    "        auc_roc_rf_upsampled = roc_auc_score(y_valid, probabilities_one_valid_forest)\n",
    "print(\"estimators =\", estimators)\n",
    "print(\"F1 наилучшей модели случайного леса  (выборка увеличена):\", rf_upsampled_best_result)\n",
    "print(\"AUC-ROC:\", auc_roc_rf_upsampled)"
   ]
  },
  {
   "cell_type": "markdown",
   "metadata": {},
   "source": [
    "3) Логистическая регрессия."
   ]
  },
  {
   "cell_type": "code",
   "execution_count": 29,
   "metadata": {},
   "outputs": [
    {
     "name": "stdout",
     "output_type": "stream",
     "text": [
      "F1 логистической регрессии (выборка увеличена): 0.4951830443159922\n",
      "AUC-ROC: 0.7748027969712024\n"
     ]
    }
   ],
   "source": [
    "logistic_regression_upsampled_model = LogisticRegression(random_state=12345, solver='lbfgs', max_iter=1000)\n",
    "logistic_regression_upsampled_model.fit(X_train_upsampled,y_train_upsampled)\n",
    "logistic_regression_upsampled_predictions = logistic_regression_upsampled_model.predict(X_valid_transformed)\n",
    "\n",
    "logistic_regression_upsampled_result = f1_score(y_valid, logistic_regression_upsampled_predictions)\n",
    "\n",
    "probabilities_valid_upsampled_logistic_regression = logistic_regression_upsampled_model.predict_proba(X_valid_transformed)\n",
    "probabilities_one_valid_upsampled_logistic_regression = probabilities_valid_upsampled_logistic_regression[:, 1]\n",
    "auc_roc_upsampled_logistic_regression = roc_auc_score(y_valid, probabilities_one_valid_upsampled_logistic_regression)\n",
    "\n",
    "print(\"F1 логистической регрессии (выборка увеличена):\", logistic_regression_upsampled_result)\n",
    "print('AUC-ROC:', auc_roc_upsampled_logistic_regression)"
   ]
  },
  {
   "cell_type": "markdown",
   "metadata": {},
   "source": [
    "Добавим полученные метрики в таблицу результатов."
   ]
  },
  {
   "cell_type": "code",
   "execution_count": 30,
   "metadata": {},
   "outputs": [
    {
     "data": {
      "text/html": [
       "<div>\n",
       "<style scoped>\n",
       "    .dataframe tbody tr th:only-of-type {\n",
       "        vertical-align: middle;\n",
       "    }\n",
       "\n",
       "    .dataframe tbody tr th {\n",
       "        vertical-align: top;\n",
       "    }\n",
       "\n",
       "    .dataframe thead th {\n",
       "        text-align: right;\n",
       "    }\n",
       "</style>\n",
       "<table border=\"1\" class=\"dataframe\">\n",
       "  <thead>\n",
       "    <tr style=\"text-align: right;\">\n",
       "      <th></th>\n",
       "      <th>decision_tree_F1</th>\n",
       "      <th>random_forest_F1</th>\n",
       "      <th>logistic_regression_F1</th>\n",
       "      <th>decision_tree_AUC-ROC</th>\n",
       "      <th>random_forest_AUC-ROC</th>\n",
       "      <th>logistic_regression_AUC-ROC</th>\n",
       "    </tr>\n",
       "  </thead>\n",
       "  <tbody>\n",
       "    <tr>\n",
       "      <th>unbalanced</th>\n",
       "      <td>0.557166</td>\n",
       "      <td>0.570934</td>\n",
       "      <td>0.300412</td>\n",
       "      <td>0.803616</td>\n",
       "      <td>0.834842</td>\n",
       "      <td>0.772453</td>\n",
       "    </tr>\n",
       "    <tr>\n",
       "      <th>upsampled</th>\n",
       "      <td>0.535675</td>\n",
       "      <td>0.611694</td>\n",
       "      <td>0.495183</td>\n",
       "      <td>0.808201</td>\n",
       "      <td>0.829544</td>\n",
       "      <td>0.774803</td>\n",
       "    </tr>\n",
       "  </tbody>\n",
       "</table>\n",
       "</div>"
      ],
      "text/plain": [
       "            decision_tree_F1  random_forest_F1  logistic_regression_F1  \\\n",
       "unbalanced          0.557166          0.570934                0.300412   \n",
       "upsampled           0.535675          0.611694                0.495183   \n",
       "\n",
       "            decision_tree_AUC-ROC  random_forest_AUC-ROC  \\\n",
       "unbalanced               0.803616               0.834842   \n",
       "upsampled                0.808201               0.829544   \n",
       "\n",
       "            logistic_regression_AUC-ROC  \n",
       "unbalanced                     0.772453  \n",
       "upsampled                      0.774803  "
      ]
     },
     "execution_count": 30,
     "metadata": {},
     "output_type": "execute_result"
    }
   ],
   "source": [
    "all_results = [\n",
    "    {'decision_tree_F1': decision_tree_best_result, 'random_forest_F1': random_forest_best_result,\n",
    "    'logistic_regression_F1':logistic_regression_result, 'decision_tree_AUC-ROC': auc_roc_tree, 'random_forest_AUC-ROC':\n",
    "    auc_roc_forest, 'logistic_regression_AUC-ROC': auc_roc_regression}, {'decision_tree_F1': dt_upsampled_best_result,\n",
    "    'random_forest_F1': rf_upsampled_best_result, 'logistic_regression_F1': logistic_regression_upsampled_result, \n",
    "    'decision_tree_AUC-ROC': auc_roc_upsampled_tree, 'random_forest_AUC-ROC': auc_roc_rf_upsampled,\n",
    "    'logistic_regression_AUC-ROC': auc_roc_upsampled_logistic_regression}]\n",
    "all_results_df = pd.DataFrame(all_results, index=['unbalanced','upsampled'])\n",
    "all_results_df"
   ]
  },
  {
   "cell_type": "markdown",
   "metadata": {},
   "source": [
    "Лучший показатель F1 у модели случайного леса. AUC-ROC увеличился, но незначительно. "
   ]
  },
  {
   "cell_type": "markdown",
   "metadata": {},
   "source": [
    "**2. Произведем уменьшение выборки.**"
   ]
  },
  {
   "cell_type": "code",
   "execution_count": 31,
   "metadata": {},
   "outputs": [],
   "source": [
    "# функция для уменьшения выборки\n",
    "def downsample(X_train_transformed, y_train, fraction):\n",
    "    \n",
    "    X_train_downsampled = pd.concat(\n",
    "        [features_zeros.sample(frac=fraction, random_state=12345)] + [features_ones])\n",
    "    y_train_downsampled = pd.concat(\n",
    "        [target_zeros.sample(frac=fraction, random_state=12345)] + [target_ones])\n",
    "    \n",
    "    X_train_downsampled, y_train_downsampled = shuffle(\n",
    "        X_train_downsampled, y_train_downsampled, random_state=12345)\n",
    "    \n",
    "    return X_train_downsampled, y_train_downsampled\n",
    "\n",
    "X_train_downsampled, y_train_downsampled = downsample(X_train_transformed, y_train, 0.25)"
   ]
  },
  {
   "cell_type": "markdown",
   "metadata": {},
   "source": [
    "Проверим, как изменятся показатели F1 и AUC-ROC при уменьшенной выборке на разных моделях."
   ]
  },
  {
   "cell_type": "markdown",
   "metadata": {},
   "source": [
    "1) Дерево решений."
   ]
  },
  {
   "cell_type": "code",
   "execution_count": 32,
   "metadata": {},
   "outputs": [
    {
     "name": "stdout",
     "output_type": "stream",
     "text": [
      "max_depth = 5\n",
      "F1 лучшей модели дерева решений (выборка уменьшена): 0.553191489361702\n",
      "AUC-ROC: 0.8094826807568983\n"
     ]
    }
   ],
   "source": [
    "# напишем цикл с перебором глубины дерева для поиска лучшей модели\n",
    "dt_downsampled_best_model = None\n",
    "dt_downsampled_best_result = 0\n",
    "for depth in range(1, 101):\n",
    "    dt_downsampled = DecisionTreeClassifier(random_state=12345, max_depth=depth) # задаем глубину дерева\n",
    "    dt_downsampled.fit(X_train_downsampled,y_train_downsampled) # обучаем модель\n",
    "    dt_downsampled_predictions = dt_downsampled.predict(X_valid_transformed) # получим предсказания модели\n",
    "    dt_downsampled_result = f1_score(y_valid, dt_downsampled_predictions) # посчитаем качество модели\n",
    "    if dt_downsampled_result > dt_downsampled_best_result:\n",
    "        dt_downsampled_best_model = dt_downsampled\n",
    "        dt_downsampled_best_result = dt_downsampled_result\n",
    "        max_depth = depth\n",
    "        probabilities_valid_tree = dt_downsampled_best_model.predict_proba(X_valid_transformed)\n",
    "        probabilities_one_valid_tree = probabilities_valid_tree[:, 1]\n",
    "        auc_roc_downsampled_tree = roc_auc_score(y_valid, probabilities_one_valid_tree)\n",
    "print(\"max_depth =\", max_depth)\n",
    "print(\"F1 лучшей модели дерева решений (выборка уменьшена):\", dt_downsampled_best_result)\n",
    "print('AUC-ROC:', auc_roc_downsampled_tree)"
   ]
  },
  {
   "cell_type": "markdown",
   "metadata": {},
   "source": [
    "2) Случайный лес. "
   ]
  },
  {
   "cell_type": "code",
   "execution_count": 33,
   "metadata": {},
   "outputs": [
    {
     "name": "stdout",
     "output_type": "stream",
     "text": [
      "estimators = 47\n",
      "F1 наилучшей модели случайного леса  (выборка уменьшена): 0.5837837837837838\n",
      "AUC-ROC: 0.8343710954552981\n"
     ]
    }
   ],
   "source": [
    "# напишем цикл с перебором количества деревьев для поиска лучшей модели\n",
    "rf_downsampled_best_model = None\n",
    "rf_downsampled_best_result = 0\n",
    "for est in range(1, 101):\n",
    "    # задаем количество деревьев\n",
    "    rf_downsampled_model = RandomForestClassifier(random_state=12345, n_estimators=est) \n",
    "    # обучаем модель на тренировочной выборке\n",
    "    rf_downsampled_model.fit(X_train_downsampled,y_train_downsampled)\n",
    "    # получим предсказание модели\n",
    "    rf_downsampled_predictions = rf_downsampled_model.predict(X_valid_transformed)\n",
    "    # считаем качество модели на валидационной выборке\n",
    "    rf_downsampled_result = f1_score(y_valid, rf_downsampled_predictions)\n",
    "    if rf_downsampled_result > rf_downsampled_best_result:\n",
    "        rf_downsampled_best_model = rf_downsampled_model # сохраним наилучшую модель\n",
    "        #  сохраним наилучшее значение метрики accuracy на валидационных данных\n",
    "        rf_downsampled_best_result = rf_downsampled_result \n",
    "        estimators = est\n",
    "        probabilities_valid_forest = rf_downsampled_best_model.predict_proba(X_valid_transformed)\n",
    "        probabilities_one_valid_forest = probabilities_valid_forest[:, 1]\n",
    "        auc_roc_rf_downsampled = roc_auc_score(y_valid, probabilities_one_valid_forest)\n",
    "print(\"estimators =\", estimators)\n",
    "print(\"F1 наилучшей модели случайного леса  (выборка уменьшена):\", rf_downsampled_best_result)\n",
    "print(\"AUC-ROC:\", auc_roc_rf_downsampled)"
   ]
  },
  {
   "cell_type": "markdown",
   "metadata": {},
   "source": [
    "3) Логистическая регрессия. "
   ]
  },
  {
   "cell_type": "code",
   "execution_count": 34,
   "metadata": {},
   "outputs": [
    {
     "name": "stdout",
     "output_type": "stream",
     "text": [
      "F1 логистической регрессии (выборка уменьшена): 0.5\n",
      "AUC-ROC: 0.7754896204970722\n"
     ]
    }
   ],
   "source": [
    "logistic_regression_downsampled_model = LogisticRegression(random_state=12345, solver='lbfgs', max_iter=1000)\n",
    "logistic_regression_downsampled_model.fit(X_train_downsampled,y_train_downsampled)\n",
    "logistic_regression_downsampled_predictions = logistic_regression_downsampled_model.predict(X_valid_transformed)\n",
    "\n",
    "logistic_regression_downsampled_result = f1_score(y_valid, logistic_regression_downsampled_predictions)\n",
    "\n",
    "probabilities_valid_downsampled_logistic_regression = logistic_regression_downsampled_model.predict_proba(X_valid_transformed)\n",
    "probabilities_one_valid_downsampled_logistic_regression = probabilities_valid_downsampled_logistic_regression[:, 1]\n",
    "auc_roc_downsampled_logistic_regression = roc_auc_score(y_valid, probabilities_one_valid_downsampled_logistic_regression)\n",
    "\n",
    "print(\"F1 логистической регрессии (выборка уменьшена):\", logistic_regression_downsampled_result)\n",
    "print('AUC-ROC:', auc_roc_downsampled_logistic_regression)\n",
    "\n"
   ]
  },
  {
   "cell_type": "markdown",
   "metadata": {},
   "source": [
    "Добавим полученные метрики в таблицу результатов."
   ]
  },
  {
   "cell_type": "code",
   "execution_count": 35,
   "metadata": {
    "scrolled": false
   },
   "outputs": [
    {
     "data": {
      "text/html": [
       "<div>\n",
       "<style scoped>\n",
       "    .dataframe tbody tr th:only-of-type {\n",
       "        vertical-align: middle;\n",
       "    }\n",
       "\n",
       "    .dataframe tbody tr th {\n",
       "        vertical-align: top;\n",
       "    }\n",
       "\n",
       "    .dataframe thead th {\n",
       "        text-align: right;\n",
       "    }\n",
       "</style>\n",
       "<table border=\"1\" class=\"dataframe\">\n",
       "  <thead>\n",
       "    <tr style=\"text-align: right;\">\n",
       "      <th></th>\n",
       "      <th>decision_tree_F1</th>\n",
       "      <th>random_forest_F1</th>\n",
       "      <th>logistic_regression_F1</th>\n",
       "      <th>decision_tree_AUC-ROC</th>\n",
       "      <th>random_forest_AUC-ROC</th>\n",
       "      <th>logistic_regression_AUC-ROC</th>\n",
       "    </tr>\n",
       "  </thead>\n",
       "  <tbody>\n",
       "    <tr>\n",
       "      <th>unbalanced</th>\n",
       "      <td>0.557166</td>\n",
       "      <td>0.570934</td>\n",
       "      <td>0.300412</td>\n",
       "      <td>0.803616</td>\n",
       "      <td>0.834842</td>\n",
       "      <td>0.772453</td>\n",
       "    </tr>\n",
       "    <tr>\n",
       "      <th>upsampled</th>\n",
       "      <td>0.535675</td>\n",
       "      <td>0.611694</td>\n",
       "      <td>0.495183</td>\n",
       "      <td>0.808201</td>\n",
       "      <td>0.829544</td>\n",
       "      <td>0.774803</td>\n",
       "    </tr>\n",
       "    <tr>\n",
       "      <th>downsampled</th>\n",
       "      <td>0.553191</td>\n",
       "      <td>0.583784</td>\n",
       "      <td>0.500000</td>\n",
       "      <td>0.809483</td>\n",
       "      <td>0.834371</td>\n",
       "      <td>0.775490</td>\n",
       "    </tr>\n",
       "  </tbody>\n",
       "</table>\n",
       "</div>"
      ],
      "text/plain": [
       "             decision_tree_F1  random_forest_F1  logistic_regression_F1  \\\n",
       "unbalanced           0.557166          0.570934                0.300412   \n",
       "upsampled            0.535675          0.611694                0.495183   \n",
       "downsampled          0.553191          0.583784                0.500000   \n",
       "\n",
       "             decision_tree_AUC-ROC  random_forest_AUC-ROC  \\\n",
       "unbalanced                0.803616               0.834842   \n",
       "upsampled                 0.808201               0.829544   \n",
       "downsampled               0.809483               0.834371   \n",
       "\n",
       "             logistic_regression_AUC-ROC  \n",
       "unbalanced                      0.772453  \n",
       "upsampled                       0.774803  \n",
       "downsampled                     0.775490  "
      ]
     },
     "execution_count": 35,
     "metadata": {},
     "output_type": "execute_result"
    }
   ],
   "source": [
    "all_results = [\n",
    "    {'decision_tree_F1': decision_tree_best_result, 'random_forest_F1': random_forest_best_result,\n",
    "    'logistic_regression_F1':logistic_regression_result, 'decision_tree_AUC-ROC': auc_roc_tree, 'random_forest_AUC-ROC':\n",
    "    auc_roc_forest, 'logistic_regression_AUC-ROC': auc_roc_regression}, {'decision_tree_F1': dt_upsampled_best_result,\n",
    "    'random_forest_F1': rf_upsampled_best_result, 'logistic_regression_F1': logistic_regression_upsampled_result, \n",
    "    'decision_tree_AUC-ROC': auc_roc_upsampled_tree, 'random_forest_AUC-ROC': auc_roc_rf_upsampled,\n",
    "    'logistic_regression_AUC-ROC': auc_roc_upsampled_logistic_regression}, {'decision_tree_F1': dt_downsampled_best_result, \n",
    "    'random_forest_F1' : rf_downsampled_best_result, 'logistic_regression_F1': logistic_regression_downsampled_result,\n",
    "     'decision_tree_AUC-ROC': auc_roc_downsampled_tree, 'random_forest_AUC-ROC': auc_roc_rf_downsampled, \n",
    "    'logistic_regression_AUC-ROC':auc_roc_downsampled_logistic_regression}]\n",
    "all_results_df = pd.DataFrame(all_results, index=['unbalanced','upsampled', 'downsampled'])\n",
    "all_results_df"
   ]
  },
  {
   "cell_type": "markdown",
   "metadata": {},
   "source": [
    "Улучшились показатели F1 случайного леса и логистической регрессии."
   ]
  },
  {
   "cell_type": "markdown",
   "metadata": {},
   "source": [
    "**3. Сбалансируем веса признаков.**"
   ]
  },
  {
   "cell_type": "markdown",
   "metadata": {},
   "source": [
    "1) Дерево решений."
   ]
  },
  {
   "cell_type": "code",
   "execution_count": 36,
   "metadata": {},
   "outputs": [
    {
     "name": "stdout",
     "output_type": "stream",
     "text": [
      "F1 дерева решений (веса сбалансированы): 0.535675082327113\n",
      "AUC-ROC: 0.8081560764124103\n"
     ]
    }
   ],
   "source": [
    "# лучший результат на дереве решений был при глубине 5, используем это значение, задаем веса классов\n",
    "decision_tree_weight_model = DecisionTreeClassifier(random_state=12345, max_depth=5, class_weight='balanced')\n",
    "decision_tree_weight_model.fit(X_train_transformed,y_train)\n",
    "decision_tree_weight_predictions = decision_tree_weight_model.predict(X_valid_transformed)\n",
    "\n",
    "\n",
    "decision_tree_weight_result = f1_score(y_valid, decision_tree_weight_predictions)\n",
    "\n",
    "probabilities_valid_weight_tree = decision_tree_weight_model.predict_proba(X_valid_transformed)\n",
    "probabilities_one_valid_weight_tree = probabilities_valid_weight_tree[:, 1]\n",
    "auc_roc_weight_tree = roc_auc_score(y_valid, probabilities_one_valid_weight_tree)\n",
    "\n",
    "print(\"F1 дерева решений (веса сбалансированы):\", decision_tree_weight_result)\n",
    "print('AUC-ROC:', auc_roc_weight_tree)"
   ]
  },
  {
   "cell_type": "markdown",
   "metadata": {},
   "source": [
    "2) Случайный лес."
   ]
  },
  {
   "cell_type": "code",
   "execution_count": 37,
   "metadata": {},
   "outputs": [
    {
     "name": "stdout",
     "output_type": "stream",
     "text": [
      "F1 случайного леса (веса сбалансированы): 0.5153583617747441\n",
      "AUC-ROC: 0.7908490644146382\n"
     ]
    }
   ],
   "source": [
    "# лучший результат на случайном лесе был при estimators = 9, используем это значение, задаем веса классов\n",
    "random_forest_weight_model = RandomForestClassifier(random_state=12345, n_estimators=9, class_weight='balanced') \n",
    "random_forest_weight_model.fit(X_train_transformed,y_train)\n",
    "random_forest_weight_predictions = random_forest_weight_model.predict(X_valid_transformed)\n",
    "\n",
    "random_forest_weight_result = f1_score(y_valid, random_forest_weight_predictions)\n",
    "\n",
    "probabilities_valid_weight_random_forest = random_forest_weight_model.predict_proba(X_valid_transformed)\n",
    "probabilities_one_valid_weight_random_forest = probabilities_valid_weight_random_forest[:, 1]\n",
    "auc_roc_weight_random_forest = roc_auc_score(y_valid, probabilities_one_valid_weight_random_forest)\n",
    "\n",
    "print(\"F1 случайного леса (веса сбалансированы):\", random_forest_weight_result)\n",
    "print('AUC-ROC:', auc_roc_weight_random_forest)"
   ]
  },
  {
   "cell_type": "markdown",
   "metadata": {},
   "source": [
    "3) Логистическая регрессия."
   ]
  },
  {
   "cell_type": "code",
   "execution_count": 38,
   "metadata": {},
   "outputs": [
    {
     "name": "stdout",
     "output_type": "stream",
     "text": [
      "F1 модели логистической регрессии на валидационной выборке (веса сбалансированны): 0.49506903353057197\n",
      "AUC-ROC: 0.7724525433169247\n"
     ]
    }
   ],
   "source": [
    "# используем те же гиперпараметры, но добавляем class_weight\n",
    "logistic_regression_weight_model = LogisticRegression(random_state=12345, solver='lbfgs', max_iter=1000, class_weight='balanced')\n",
    "# обучаем модель на тренировочной выборке\n",
    "logistic_regression_weight_model.fit(X_train_transformed, y_train)\n",
    "# получим предсказание модели\n",
    "logistic_regression_weight_predictions = logistic_regression_weight_model.predict(X_valid_transformed) \n",
    "# рассчитываем F1\n",
    "logistic_regression_weight_result = f1_score(y_valid, logistic_regression_weight_predictions)\n",
    "probabilities_valid_weight_regression = logistic_regression_weight_model.predict_proba(X_valid_transformed)\n",
    "probabilities_one_valid_weight_regression = probabilities_valid_weight_regression[:, 1]\n",
    "auc_roc_weight_regression = roc_auc_score(y_valid,probabilities_one_valid_weight_regression)\n",
    "print(\"F1 модели логистической регрессии на валидационной выборке (веса сбалансированны):\", logistic_regression_weight_result)\n",
    "print(\"AUC-ROC:\", auc_roc_regression)"
   ]
  },
  {
   "cell_type": "markdown",
   "metadata": {},
   "source": [
    "Добавим полученные метрики в таблицу результатов."
   ]
  },
  {
   "cell_type": "code",
   "execution_count": 39,
   "metadata": {},
   "outputs": [
    {
     "data": {
      "text/html": [
       "<div>\n",
       "<style scoped>\n",
       "    .dataframe tbody tr th:only-of-type {\n",
       "        vertical-align: middle;\n",
       "    }\n",
       "\n",
       "    .dataframe tbody tr th {\n",
       "        vertical-align: top;\n",
       "    }\n",
       "\n",
       "    .dataframe thead th {\n",
       "        text-align: right;\n",
       "    }\n",
       "</style>\n",
       "<table border=\"1\" class=\"dataframe\">\n",
       "  <thead>\n",
       "    <tr style=\"text-align: right;\">\n",
       "      <th></th>\n",
       "      <th>decision_tree_F1</th>\n",
       "      <th>random_forest_F1</th>\n",
       "      <th>logistic_regression_F1</th>\n",
       "      <th>decision_tree_AUC-ROC</th>\n",
       "      <th>random_forest_AUC-ROC</th>\n",
       "      <th>logistic_regression_AUC-ROC</th>\n",
       "    </tr>\n",
       "  </thead>\n",
       "  <tbody>\n",
       "    <tr>\n",
       "      <th>unbalanced</th>\n",
       "      <td>0.557166</td>\n",
       "      <td>0.570934</td>\n",
       "      <td>0.300412</td>\n",
       "      <td>0.803616</td>\n",
       "      <td>0.834842</td>\n",
       "      <td>0.772453</td>\n",
       "    </tr>\n",
       "    <tr>\n",
       "      <th>upsampled</th>\n",
       "      <td>0.535675</td>\n",
       "      <td>0.611694</td>\n",
       "      <td>0.495183</td>\n",
       "      <td>0.808201</td>\n",
       "      <td>0.829544</td>\n",
       "      <td>0.774803</td>\n",
       "    </tr>\n",
       "    <tr>\n",
       "      <th>downsampled</th>\n",
       "      <td>0.553191</td>\n",
       "      <td>0.583784</td>\n",
       "      <td>0.500000</td>\n",
       "      <td>0.809483</td>\n",
       "      <td>0.834371</td>\n",
       "      <td>0.775490</td>\n",
       "    </tr>\n",
       "    <tr>\n",
       "      <th>weight_balanced</th>\n",
       "      <td>0.535675</td>\n",
       "      <td>0.515358</td>\n",
       "      <td>0.495069</td>\n",
       "      <td>0.808156</td>\n",
       "      <td>0.790849</td>\n",
       "      <td>0.774750</td>\n",
       "    </tr>\n",
       "  </tbody>\n",
       "</table>\n",
       "</div>"
      ],
      "text/plain": [
       "                 decision_tree_F1  random_forest_F1  logistic_regression_F1  \\\n",
       "unbalanced               0.557166          0.570934                0.300412   \n",
       "upsampled                0.535675          0.611694                0.495183   \n",
       "downsampled              0.553191          0.583784                0.500000   \n",
       "weight_balanced          0.535675          0.515358                0.495069   \n",
       "\n",
       "                 decision_tree_AUC-ROC  random_forest_AUC-ROC  \\\n",
       "unbalanced                    0.803616               0.834842   \n",
       "upsampled                     0.808201               0.829544   \n",
       "downsampled                   0.809483               0.834371   \n",
       "weight_balanced               0.808156               0.790849   \n",
       "\n",
       "                 logistic_regression_AUC-ROC  \n",
       "unbalanced                          0.772453  \n",
       "upsampled                           0.774803  \n",
       "downsampled                         0.775490  \n",
       "weight_balanced                     0.774750  "
      ]
     },
     "execution_count": 39,
     "metadata": {},
     "output_type": "execute_result"
    }
   ],
   "source": [
    "all_results = [\n",
    "    {'decision_tree_F1': decision_tree_best_result, 'random_forest_F1': random_forest_best_result,\n",
    "    'logistic_regression_F1':logistic_regression_result, 'decision_tree_AUC-ROC': auc_roc_tree, 'random_forest_AUC-ROC':\n",
    "    auc_roc_forest, 'logistic_regression_AUC-ROC': auc_roc_regression}, {'decision_tree_F1': dt_upsampled_best_result,\n",
    "    'random_forest_F1': rf_upsampled_best_result, 'logistic_regression_F1': logistic_regression_upsampled_result, \n",
    "    'decision_tree_AUC-ROC': auc_roc_upsampled_tree, 'random_forest_AUC-ROC': auc_roc_rf_upsampled,\n",
    "    'logistic_regression_AUC-ROC': auc_roc_upsampled_logistic_regression}, {'decision_tree_F1': dt_downsampled_best_result, \n",
    "    'random_forest_F1' : rf_downsampled_best_result, 'logistic_regression_F1': logistic_regression_downsampled_result,\n",
    "     'decision_tree_AUC-ROC': auc_roc_downsampled_tree, 'random_forest_AUC-ROC': auc_roc_rf_downsampled, \n",
    "    'logistic_regression_AUC-ROC':auc_roc_downsampled_logistic_regression}, {'decision_tree_F1': decision_tree_weight_result,\n",
    "     'random_forest_F1': random_forest_weight_result, 'logistic_regression_F1': logistic_regression_weight_result, \n",
    "    'decision_tree_AUC-ROC': auc_roc_weight_tree, 'random_forest_AUC-ROC': auc_roc_weight_random_forest,\n",
    "    'logistic_regression_AUC-ROC': auc_roc_weight_regression} ]\n",
    "all_results_df = pd.DataFrame(all_results, index=['unbalanced','upsampled','downsampled','weight_balanced'])\n",
    "all_results_df"
   ]
  },
  {
   "cell_type": "markdown",
   "metadata": {},
   "source": [
    "Согласно условиям исследования, лучшую модель выбираем по метрике F1."
   ]
  },
  {
   "cell_type": "code",
   "execution_count": 40,
   "metadata": {},
   "outputs": [
    {
     "data": {
      "image/png": "[encoded data removed]",
      "text/plain": [
       "<Figure size 1080x360 with 1 Axes>"
      ]
     },
     "metadata": {
      "needs_background": "light"
     },
     "output_type": "display_data"
    }
   ],
   "source": [
    "# построим график\n",
    "all_results_df.drop(['decision_tree_AUC-ROC','random_forest_AUC-ROC','logistic_regression_AUC-ROC'],axis=1).plot(\n",
    "    kind='bar', figsize=(15,5));"
   ]
  },
  {
   "cell_type": "markdown",
   "metadata": {},
   "source": [
    "**Вывод по разделу \"Борьба с дисбалансом:\"**<br>\n",
    "Лучшая модель - случайный лес с увеличенной выборкой, c количеством деревьев n_estimators = 41. "
   ]
  },
  {
   "cell_type": "markdown",
   "metadata": {},
   "source": [
    "## Тестирование модели"
   ]
  },
  {
   "cell_type": "markdown",
   "metadata": {},
   "source": [
    "Проведем тестирование лучшей модели. "
   ]
  },
  {
   "cell_type": "code",
   "execution_count": 41,
   "metadata": {},
   "outputs": [
    {
     "name": "stdout",
     "output_type": "stream",
     "text": [
      "F1 случайного леса (тест): 0.5930232558139534\n",
      "AUC-ROC: 0.8414606111578358\n"
     ]
    }
   ],
   "source": [
    "random_forest_upsampled_model = RandomForestClassifier(random_state=12345, n_estimators=41) \n",
    "random_forest_upsampled_model.fit(X_train_upsampled,y_train_upsampled)\n",
    "random_forest_upsampled_predictions = random_forest_upsampled_model.predict(X_test_transformed)\n",
    "\n",
    "random_forest_upsampled_result = f1_score(y_test, random_forest_upsampled_predictions)\n",
    "\n",
    "probabilities_valid_upsampled_random_forest = random_forest_upsampled_model.predict_proba(X_test_transformed)\n",
    "probabilities_one_valid_upsampled_random_forest = probabilities_valid_upsampled_random_forest[:, 1]\n",
    "auc_roc_upsampled_random_forest = roc_auc_score(y_test, probabilities_one_valid_upsampled_random_forest)\n",
    "\n",
    "print(\"F1 случайного леса (тест):\", random_forest_upsampled_result)\n",
    "print('AUC-ROC:', auc_roc_upsampled_random_forest)"
   ]
  },
  {
   "cell_type": "code",
   "execution_count": 42,
   "metadata": {},
   "outputs": [
    {
     "data": {
      "text/plain": [
       "array([[ 0.77981638,  0.18587171,  0.69748023, ...,  0.91757577,\n",
       "        -0.57974973, -0.56704592],\n",
       "       [-1.21819398,  0.56640637, -1.37350635, ..., -1.08982826,\n",
       "        -0.57974973, -0.56704592],\n",
       "       [ 0.59538466, -0.38493027, -0.68317749, ..., -1.08982826,\n",
       "        -0.57974973,  1.76352562],\n",
       "       ...,\n",
       "       [ 1.64049777, -0.28979661,  1.38780909, ...,  0.91757577,\n",
       "        -0.57974973, -0.56704592],\n",
       "       [ 0.02159707, -0.48006394,  1.38780909, ..., -1.08982826,\n",
       "        -0.57974973, -0.56704592],\n",
       "       [-1.16696294,  0.47127271, -1.02834192, ..., -1.08982826,\n",
       "        -0.57974973, -0.56704592]])"
      ]
     },
     "execution_count": 42,
     "metadata": {},
     "output_type": "execute_result"
    }
   ],
   "source": [
    "X_test_transformed"
   ]
  },
  {
   "cell_type": "markdown",
   "metadata": {},
   "source": [
    "Целевой показатель F1 достигнут. "
   ]
  },
  {
   "cell_type": "markdown",
   "metadata": {},
   "source": [
    "**Вывод**<br>\n",
    "\n",
    "В ходе исследования данные были подготовлены для обучения. Выполнена предобработка данных - устранены пропуски в столбце Tenure.<br>\n",
    "Исследован баланс классов. Исходные данные были несбалансированны.<br>\n",
    "Было обучено 3 модели без учета дисбаланса. На валидационной выборке лучший показатель F1 и AUC-ROC был у модели случайного леса с гиперпараметром n_estimators = 79.<br>\n",
    "Были произведены попытки улучшения качества моделей, учитывая дисбаланс классов: увеличение выборки, уменьшение выборки, балансирование весов признаков. Лучшие результаты были получены для модели случайного леса, обученной на увеличенной выборке с гиперпараметром n_estimators = 41. <br>\n",
    "По финальному тестированию лучшая модель достигла порогового значения метрики F1 - 0.59."
   ]
  }
 ],
 "metadata": {
  "ExecuteTimeLog": [
   {
    "duration": 552,
    "start_time": "2022-12-04T19:06:32.473Z"
   },
   {
    "duration": 1314,
    "start_time": "2022-12-04T19:16:24.529Z"
   },
   {
    "duration": 36,
    "start_time": "2022-12-04T19:16:40.484Z"
   },
   {
    "duration": 1219,
    "start_time": "2022-12-04T19:17:43.195Z"
   },
   {
    "duration": 249,
    "start_time": "2022-12-04T19:18:18.465Z"
   },
   {
    "duration": 817,
    "start_time": "2022-12-04T19:28:55.246Z"
   },
   {
    "duration": 2,
    "start_time": "2022-12-04T19:29:04.037Z"
   },
   {
    "duration": 1611,
    "start_time": "2022-12-04T19:29:04.622Z"
   },
   {
    "duration": 3,
    "start_time": "2022-12-04T19:30:53.131Z"
   },
   {
    "duration": 57,
    "start_time": "2022-12-04T19:31:15.058Z"
   },
   {
    "duration": 3,
    "start_time": "2022-12-04T19:32:44.010Z"
   },
   {
    "duration": 281,
    "start_time": "2022-12-04T19:32:44.566Z"
   },
   {
    "duration": 18,
    "start_time": "2022-12-04T19:33:35.119Z"
   },
   {
    "duration": 35,
    "start_time": "2022-12-04T19:33:42.755Z"
   },
   {
    "duration": 1611,
    "start_time": "2022-12-04T19:34:21.264Z"
   },
   {
    "duration": 1540,
    "start_time": "2022-12-04T19:36:16.291Z"
   },
   {
    "duration": 1444,
    "start_time": "2022-12-04T19:42:16.758Z"
   },
   {
    "duration": 14,
    "start_time": "2022-12-04T19:43:01.392Z"
   },
   {
    "duration": 8,
    "start_time": "2022-12-04T19:44:33.127Z"
   },
   {
    "duration": 43,
    "start_time": "2022-12-05T20:03:44.389Z"
   },
   {
    "duration": 431,
    "start_time": "2022-12-05T20:03:49.318Z"
   },
   {
    "duration": 2227,
    "start_time": "2022-12-05T20:03:49.751Z"
   },
   {
    "duration": 11,
    "start_time": "2022-12-05T20:03:51.980Z"
   },
   {
    "duration": 5,
    "start_time": "2022-12-05T20:19:51.178Z"
   },
   {
    "duration": 43,
    "start_time": "2022-12-05T20:20:02.379Z"
   },
   {
    "duration": 1735,
    "start_time": "2022-12-05T20:24:46.766Z"
   },
   {
    "duration": 10,
    "start_time": "2022-12-05T20:24:48.502Z"
   },
   {
    "duration": 19,
    "start_time": "2022-12-05T20:24:48.514Z"
   },
   {
    "duration": 28,
    "start_time": "2022-12-05T20:24:48.535Z"
   },
   {
    "duration": 6,
    "start_time": "2022-12-05T20:54:51.236Z"
   },
   {
    "duration": 4014,
    "start_time": "2022-12-05T20:56:40.075Z"
   },
   {
    "duration": 1883,
    "start_time": "2022-12-05T20:56:57.431Z"
   },
   {
    "duration": 1865,
    "start_time": "2022-12-05T20:59:03.451Z"
   },
   {
    "duration": 22,
    "start_time": "2022-12-05T21:01:57.583Z"
   },
   {
    "duration": 11,
    "start_time": "2022-12-05T21:02:06.931Z"
   },
   {
    "duration": 18,
    "start_time": "2022-12-05T21:04:16.799Z"
   },
   {
    "duration": 26,
    "start_time": "2022-12-05T21:04:29.105Z"
   },
   {
    "duration": 24,
    "start_time": "2022-12-05T21:05:09.847Z"
   },
   {
    "duration": 13,
    "start_time": "2022-12-05T21:05:57.175Z"
   },
   {
    "duration": 2,
    "start_time": "2022-12-05T21:06:03.137Z"
   },
   {
    "duration": 2208,
    "start_time": "2022-12-05T21:06:03.519Z"
   },
   {
    "duration": 12,
    "start_time": "2022-12-05T21:06:05.728Z"
   },
   {
    "duration": 35,
    "start_time": "2022-12-05T21:06:05.742Z"
   },
   {
    "duration": 5,
    "start_time": "2022-12-05T21:06:06.851Z"
   },
   {
    "duration": 4,
    "start_time": "2022-12-05T21:08:18.972Z"
   },
   {
    "duration": 1846,
    "start_time": "2022-12-05T21:08:20.384Z"
   },
   {
    "duration": 25,
    "start_time": "2022-12-05T21:08:23.780Z"
   },
   {
    "duration": 3,
    "start_time": "2022-12-05T21:19:15.412Z"
   },
   {
    "duration": 289,
    "start_time": "2022-12-05T21:27:50.456Z"
   },
   {
    "duration": 292,
    "start_time": "2022-12-05T21:28:02.284Z"
   },
   {
    "duration": 34,
    "start_time": "2022-12-05T21:38:46.006Z"
   },
   {
    "duration": 2,
    "start_time": "2022-12-05T21:38:51.293Z"
   },
   {
    "duration": 1687,
    "start_time": "2022-12-05T21:38:51.484Z"
   },
   {
    "duration": 11,
    "start_time": "2022-12-05T21:38:53.173Z"
   },
   {
    "duration": 7,
    "start_time": "2022-12-05T21:38:53.185Z"
   },
   {
    "duration": 4,
    "start_time": "2022-12-05T21:38:53.193Z"
   },
   {
    "duration": 7,
    "start_time": "2022-12-05T21:38:53.198Z"
   },
   {
    "duration": 1855,
    "start_time": "2022-12-05T21:38:53.416Z"
   },
   {
    "duration": 228,
    "start_time": "2022-12-05T21:38:55.273Z"
   },
   {
    "duration": 11,
    "start_time": "2022-12-05T21:39:16.908Z"
   },
   {
    "duration": 2,
    "start_time": "2022-12-05T21:39:27.644Z"
   },
   {
    "duration": 1372,
    "start_time": "2022-12-05T21:39:27.844Z"
   },
   {
    "duration": 13,
    "start_time": "2022-12-05T21:39:30.288Z"
   },
   {
    "duration": 12,
    "start_time": "2022-12-05T21:39:30.302Z"
   },
   {
    "duration": 4,
    "start_time": "2022-12-05T21:39:30.393Z"
   },
   {
    "duration": 4,
    "start_time": "2022-12-05T21:39:32.916Z"
   },
   {
    "duration": 1832,
    "start_time": "2022-12-05T21:39:33.892Z"
   },
   {
    "duration": 220,
    "start_time": "2022-12-05T21:39:35.928Z"
   },
   {
    "duration": 10,
    "start_time": "2022-12-05T21:42:32.070Z"
   },
   {
    "duration": 12,
    "start_time": "2022-12-05T21:42:50.028Z"
   },
   {
    "duration": 13,
    "start_time": "2022-12-05T21:47:20.617Z"
   },
   {
    "duration": 3,
    "start_time": "2022-12-05T21:47:28.160Z"
   },
   {
    "duration": 1751,
    "start_time": "2022-12-05T21:47:32.841Z"
   },
   {
    "duration": 19,
    "start_time": "2022-12-05T21:47:34.594Z"
   },
   {
    "duration": 10,
    "start_time": "2022-12-05T21:47:34.616Z"
   },
   {
    "duration": 5,
    "start_time": "2022-12-05T21:47:34.628Z"
   },
   {
    "duration": 9,
    "start_time": "2022-12-05T21:47:34.635Z"
   },
   {
    "duration": 1936,
    "start_time": "2022-12-05T21:47:34.645Z"
   },
   {
    "duration": 237,
    "start_time": "2022-12-05T21:47:36.582Z"
   },
   {
    "duration": 11,
    "start_time": "2022-12-05T21:49:45.249Z"
   },
   {
    "duration": 3,
    "start_time": "2022-12-05T21:49:51.960Z"
   },
   {
    "duration": 1294,
    "start_time": "2022-12-05T21:49:52.204Z"
   },
   {
    "duration": 12,
    "start_time": "2022-12-05T21:49:53.499Z"
   },
   {
    "duration": 11,
    "start_time": "2022-12-05T21:49:53.513Z"
   },
   {
    "duration": 7,
    "start_time": "2022-12-05T21:49:53.525Z"
   },
   {
    "duration": 4,
    "start_time": "2022-12-05T21:49:53.584Z"
   },
   {
    "duration": 1862,
    "start_time": "2022-12-05T21:49:53.999Z"
   },
   {
    "duration": 252,
    "start_time": "2022-12-05T21:49:55.863Z"
   },
   {
    "duration": 12,
    "start_time": "2022-12-05T21:50:59.553Z"
   },
   {
    "duration": 3,
    "start_time": "2022-12-05T21:51:05.096Z"
   },
   {
    "duration": 1256,
    "start_time": "2022-12-05T21:51:05.269Z"
   },
   {
    "duration": 18,
    "start_time": "2022-12-05T21:51:06.528Z"
   },
   {
    "duration": 10,
    "start_time": "2022-12-05T21:51:06.548Z"
   },
   {
    "duration": 5,
    "start_time": "2022-12-05T21:51:06.601Z"
   },
   {
    "duration": 6,
    "start_time": "2022-12-05T21:51:07.733Z"
   },
   {
    "duration": 1836,
    "start_time": "2022-12-05T21:51:07.741Z"
   },
   {
    "duration": 244,
    "start_time": "2022-12-05T21:51:09.579Z"
   },
   {
    "duration": 6,
    "start_time": "2022-12-05T21:58:13.402Z"
   },
   {
    "duration": 10,
    "start_time": "2022-12-05T21:59:16.869Z"
   },
   {
    "duration": 63,
    "start_time": "2022-12-05T21:59:24.724Z"
   },
   {
    "duration": 10,
    "start_time": "2022-12-05T21:59:39.133Z"
   },
   {
    "duration": 6,
    "start_time": "2022-12-05T22:00:14.116Z"
   },
   {
    "duration": 4,
    "start_time": "2022-12-05T22:00:28.729Z"
   },
   {
    "duration": 5,
    "start_time": "2022-12-05T22:00:45.137Z"
   },
   {
    "duration": 1891,
    "start_time": "2022-12-05T22:01:11.023Z"
   },
   {
    "duration": 4812,
    "start_time": "2022-12-06T18:03:43.690Z"
   },
   {
    "duration": 52,
    "start_time": "2022-12-06T18:03:52.326Z"
   },
   {
    "duration": 1816,
    "start_time": "2022-12-06T18:03:52.526Z"
   },
   {
    "duration": 15,
    "start_time": "2022-12-06T18:03:54.344Z"
   },
   {
    "duration": 7,
    "start_time": "2022-12-06T18:03:54.361Z"
   },
   {
    "duration": 4,
    "start_time": "2022-12-06T18:03:54.371Z"
   },
   {
    "duration": 9,
    "start_time": "2022-12-06T18:03:54.376Z"
   },
   {
    "duration": 2070,
    "start_time": "2022-12-06T18:03:54.386Z"
   },
   {
    "duration": 13,
    "start_time": "2022-12-06T18:04:08.950Z"
   },
   {
    "duration": 4,
    "start_time": "2022-12-06T18:05:26.735Z"
   },
   {
    "duration": 3,
    "start_time": "2022-12-06T18:07:08.246Z"
   },
   {
    "duration": 697,
    "start_time": "2022-12-06T18:21:32.394Z"
   },
   {
    "duration": 410,
    "start_time": "2022-12-06T18:22:44.702Z"
   },
   {
    "duration": 13,
    "start_time": "2022-12-06T18:22:52.465Z"
   },
   {
    "duration": 27,
    "start_time": "2022-12-06T18:25:36.918Z"
   },
   {
    "duration": 27,
    "start_time": "2022-12-06T18:26:23.915Z"
   },
   {
    "duration": 25,
    "start_time": "2022-12-06T18:29:04.514Z"
   },
   {
    "duration": 16,
    "start_time": "2022-12-06T18:30:25.215Z"
   },
   {
    "duration": 18,
    "start_time": "2022-12-06T18:44:52.109Z"
   },
   {
    "duration": 15,
    "start_time": "2022-12-06T18:45:08.715Z"
   },
   {
    "duration": 22,
    "start_time": "2022-12-06T18:45:39.771Z"
   },
   {
    "duration": 14,
    "start_time": "2022-12-06T18:46:01.151Z"
   },
   {
    "duration": 23,
    "start_time": "2022-12-06T18:46:27.435Z"
   },
   {
    "duration": 16,
    "start_time": "2022-12-06T18:46:28.451Z"
   },
   {
    "duration": 15,
    "start_time": "2022-12-06T18:46:49.144Z"
   },
   {
    "duration": 11,
    "start_time": "2022-12-06T18:47:02.355Z"
   },
   {
    "duration": 15,
    "start_time": "2022-12-06T18:47:17.435Z"
   },
   {
    "duration": 2,
    "start_time": "2022-12-06T18:47:35.828Z"
   },
   {
    "duration": 1818,
    "start_time": "2022-12-06T18:47:36.059Z"
   },
   {
    "duration": 12,
    "start_time": "2022-12-06T18:47:37.879Z"
   },
   {
    "duration": 9,
    "start_time": "2022-12-06T18:47:37.892Z"
   },
   {
    "duration": 4,
    "start_time": "2022-12-06T18:47:37.903Z"
   },
   {
    "duration": 3,
    "start_time": "2022-12-06T18:57:53.629Z"
   },
   {
    "duration": 1565,
    "start_time": "2022-12-06T18:58:24.063Z"
   },
   {
    "duration": 13,
    "start_time": "2022-12-06T18:58:25.630Z"
   },
   {
    "duration": 8,
    "start_time": "2022-12-06T18:58:59.019Z"
   },
   {
    "duration": 12,
    "start_time": "2022-12-06T18:58:59.029Z"
   },
   {
    "duration": 30,
    "start_time": "2022-12-06T18:58:59.043Z"
   },
   {
    "duration": 1983,
    "start_time": "2022-12-06T18:58:59.182Z"
   },
   {
    "duration": 16,
    "start_time": "2022-12-06T18:59:01.167Z"
   },
   {
    "duration": 16,
    "start_time": "2022-12-06T18:59:01.185Z"
   },
   {
    "duration": 17,
    "start_time": "2022-12-06T19:02:01.422Z"
   },
   {
    "duration": 22,
    "start_time": "2022-12-06T19:03:12.915Z"
   },
   {
    "duration": 6,
    "start_time": "2022-12-06T19:10:48.714Z"
   },
   {
    "duration": 14,
    "start_time": "2022-12-06T20:25:39.768Z"
   },
   {
    "duration": 14,
    "start_time": "2022-12-06T20:26:06.168Z"
   },
   {
    "duration": 3,
    "start_time": "2022-12-06T20:28:01.037Z"
   },
   {
    "duration": 1645,
    "start_time": "2022-12-06T20:28:01.232Z"
   },
   {
    "duration": 12,
    "start_time": "2022-12-06T20:28:02.879Z"
   },
   {
    "duration": 12,
    "start_time": "2022-12-06T20:28:02.893Z"
   },
   {
    "duration": 6,
    "start_time": "2022-12-06T20:28:02.907Z"
   },
   {
    "duration": 5,
    "start_time": "2022-12-06T20:28:02.949Z"
   },
   {
    "duration": 1973,
    "start_time": "2022-12-06T20:28:03.309Z"
   },
   {
    "duration": 18,
    "start_time": "2022-12-06T20:28:05.285Z"
   },
   {
    "duration": 23,
    "start_time": "2022-12-06T20:28:18.040Z"
   },
   {
    "duration": 15,
    "start_time": "2022-12-06T20:28:50.348Z"
   },
   {
    "duration": 25,
    "start_time": "2022-12-06T20:29:13.525Z"
   },
   {
    "duration": 16,
    "start_time": "2022-12-06T20:29:31.476Z"
   },
   {
    "duration": 4,
    "start_time": "2022-12-06T20:52:48.645Z"
   },
   {
    "duration": 3,
    "start_time": "2022-12-06T20:55:50.320Z"
   },
   {
    "duration": 3,
    "start_time": "2022-12-06T20:56:03.289Z"
   },
   {
    "duration": 4,
    "start_time": "2022-12-06T21:01:48.791Z"
   },
   {
    "duration": 4,
    "start_time": "2022-12-06T21:02:34.820Z"
   },
   {
    "duration": 3,
    "start_time": "2022-12-06T21:02:53.012Z"
   },
   {
    "duration": 14,
    "start_time": "2022-12-06T21:04:15.720Z"
   },
   {
    "duration": 3,
    "start_time": "2022-12-06T21:04:26.814Z"
   },
   {
    "duration": 2075,
    "start_time": "2022-12-06T21:04:27.012Z"
   },
   {
    "duration": 12,
    "start_time": "2022-12-06T21:04:29.089Z"
   },
   {
    "duration": 8,
    "start_time": "2022-12-06T21:04:29.103Z"
   },
   {
    "duration": 8,
    "start_time": "2022-12-06T21:04:29.112Z"
   },
   {
    "duration": 6,
    "start_time": "2022-12-06T21:04:29.122Z"
   },
   {
    "duration": 4,
    "start_time": "2022-12-06T21:04:29.204Z"
   },
   {
    "duration": 2001,
    "start_time": "2022-12-06T21:04:33.064Z"
   },
   {
    "duration": 17,
    "start_time": "2022-12-06T21:04:35.067Z"
   },
   {
    "duration": 26,
    "start_time": "2022-12-06T21:04:35.086Z"
   },
   {
    "duration": 48,
    "start_time": "2022-12-06T21:04:35.114Z"
   },
   {
    "duration": 3,
    "start_time": "2022-12-06T21:05:03.789Z"
   },
   {
    "duration": 1188,
    "start_time": "2022-12-06T21:05:03.794Z"
   },
   {
    "duration": 12,
    "start_time": "2022-12-06T21:05:04.984Z"
   },
   {
    "duration": 6,
    "start_time": "2022-12-06T21:05:04.998Z"
   },
   {
    "duration": 3,
    "start_time": "2022-12-06T21:05:06.580Z"
   },
   {
    "duration": 19,
    "start_time": "2022-12-06T21:05:06.585Z"
   },
   {
    "duration": 1991,
    "start_time": "2022-12-06T21:05:06.606Z"
   },
   {
    "duration": 16,
    "start_time": "2022-12-06T21:05:08.599Z"
   },
   {
    "duration": 13,
    "start_time": "2022-12-06T21:05:08.617Z"
   },
   {
    "duration": 19,
    "start_time": "2022-12-06T21:10:41.432Z"
   },
   {
    "duration": 3,
    "start_time": "2022-12-06T21:11:43.334Z"
   },
   {
    "duration": 1714,
    "start_time": "2022-12-06T21:11:43.339Z"
   },
   {
    "duration": 12,
    "start_time": "2022-12-06T21:11:45.055Z"
   },
   {
    "duration": 8,
    "start_time": "2022-12-06T21:11:49.720Z"
   },
   {
    "duration": 5,
    "start_time": "2022-12-06T21:11:49.730Z"
   },
   {
    "duration": 11,
    "start_time": "2022-12-06T21:11:49.737Z"
   },
   {
    "duration": 13,
    "start_time": "2022-12-06T21:11:49.812Z"
   },
   {
    "duration": 0,
    "start_time": "2022-12-06T21:11:49.827Z"
   },
   {
    "duration": 10,
    "start_time": "2022-12-06T21:12:35.684Z"
   },
   {
    "duration": 18,
    "start_time": "2022-12-06T21:13:16.537Z"
   },
   {
    "duration": 3,
    "start_time": "2022-12-06T21:17:33.112Z"
   },
   {
    "duration": 31,
    "start_time": "2022-12-06T21:17:36.763Z"
   },
   {
    "duration": 4,
    "start_time": "2022-12-06T21:21:49.183Z"
   },
   {
    "duration": 14,
    "start_time": "2022-12-06T21:23:00.347Z"
   },
   {
    "duration": 3,
    "start_time": "2022-12-06T21:24:36.376Z"
   },
   {
    "duration": 23,
    "start_time": "2022-12-06T21:24:40.808Z"
   },
   {
    "duration": 21,
    "start_time": "2022-12-06T21:25:56.345Z"
   },
   {
    "duration": 4,
    "start_time": "2022-12-06T21:26:00.141Z"
   },
   {
    "duration": 2013,
    "start_time": "2022-12-06T21:26:00.324Z"
   },
   {
    "duration": 12,
    "start_time": "2022-12-06T21:26:02.339Z"
   },
   {
    "duration": 8,
    "start_time": "2022-12-06T21:26:02.352Z"
   },
   {
    "duration": 2,
    "start_time": "2022-12-06T21:26:02.362Z"
   },
   {
    "duration": 7,
    "start_time": "2022-12-06T21:26:02.366Z"
   },
   {
    "duration": 46,
    "start_time": "2022-12-06T21:26:02.375Z"
   },
   {
    "duration": 16,
    "start_time": "2022-12-06T21:26:02.620Z"
   },
   {
    "duration": 10,
    "start_time": "2022-12-06T21:26:03.316Z"
   },
   {
    "duration": 5,
    "start_time": "2022-12-06T21:26:03.668Z"
   },
   {
    "duration": 18,
    "start_time": "2022-12-06T21:26:04.611Z"
   },
   {
    "duration": 15,
    "start_time": "2022-12-06T21:27:05.429Z"
   },
   {
    "duration": 11,
    "start_time": "2022-12-06T21:28:32.676Z"
   },
   {
    "duration": 11,
    "start_time": "2022-12-06T21:28:39.219Z"
   },
   {
    "duration": 11,
    "start_time": "2022-12-06T21:28:51.084Z"
   },
   {
    "duration": 13,
    "start_time": "2022-12-06T21:32:25.377Z"
   },
   {
    "duration": 13,
    "start_time": "2022-12-06T21:32:32.792Z"
   },
   {
    "duration": 3,
    "start_time": "2022-12-06T21:38:33.441Z"
   },
   {
    "duration": 12,
    "start_time": "2022-12-06T21:39:34.893Z"
   },
   {
    "duration": 18,
    "start_time": "2022-12-06T21:40:27.021Z"
   },
   {
    "duration": 12,
    "start_time": "2022-12-06T21:40:37.260Z"
   },
   {
    "duration": 55,
    "start_time": "2022-12-06T21:43:11.449Z"
   },
   {
    "duration": 18,
    "start_time": "2022-12-06T21:43:17.533Z"
   },
   {
    "duration": 76,
    "start_time": "2022-12-06T21:44:00.065Z"
   },
   {
    "duration": 40,
    "start_time": "2022-12-06T21:44:08.861Z"
   },
   {
    "duration": 42,
    "start_time": "2022-12-06T21:44:21.465Z"
   },
   {
    "duration": 45,
    "start_time": "2022-12-06T21:44:50.393Z"
   },
   {
    "duration": 18,
    "start_time": "2022-12-06T21:45:03.461Z"
   },
   {
    "duration": 21,
    "start_time": "2022-12-06T21:46:18.793Z"
   },
   {
    "duration": 12,
    "start_time": "2022-12-06T21:47:41.958Z"
   },
   {
    "duration": 11,
    "start_time": "2022-12-06T21:50:52.150Z"
   },
   {
    "duration": 18,
    "start_time": "2022-12-06T21:51:15.005Z"
   },
   {
    "duration": 3,
    "start_time": "2022-12-06T21:51:23.714Z"
   },
   {
    "duration": 1594,
    "start_time": "2022-12-06T21:51:23.945Z"
   },
   {
    "duration": 11,
    "start_time": "2022-12-06T21:51:25.541Z"
   },
   {
    "duration": 8,
    "start_time": "2022-12-06T21:51:25.553Z"
   },
   {
    "duration": 6,
    "start_time": "2022-12-06T21:51:25.563Z"
   },
   {
    "duration": 4,
    "start_time": "2022-12-06T21:51:25.673Z"
   },
   {
    "duration": 11,
    "start_time": "2022-12-06T21:51:26.005Z"
   },
   {
    "duration": 2574,
    "start_time": "2022-12-06T21:51:27.101Z"
   },
   {
    "duration": 0,
    "start_time": "2022-12-06T21:51:29.676Z"
   },
   {
    "duration": 0,
    "start_time": "2022-12-06T21:51:29.677Z"
   },
   {
    "duration": 23,
    "start_time": "2022-12-06T21:51:59.121Z"
   },
   {
    "duration": 224,
    "start_time": "2022-12-06T21:55:23.142Z"
   },
   {
    "duration": 229,
    "start_time": "2022-12-06T21:55:35.290Z"
   },
   {
    "duration": 31,
    "start_time": "2022-12-06T21:55:41.654Z"
   },
   {
    "duration": 3,
    "start_time": "2022-12-06T21:55:45.098Z"
   },
   {
    "duration": 973,
    "start_time": "2022-12-06T21:56:24.998Z"
   },
   {
    "duration": 235,
    "start_time": "2022-12-06T21:56:35.198Z"
   },
   {
    "duration": 38,
    "start_time": "2022-12-06T21:56:47.813Z"
   },
   {
    "duration": 18,
    "start_time": "2022-12-06T22:00:08.544Z"
   },
   {
    "duration": 17,
    "start_time": "2022-12-06T22:00:28.782Z"
   },
   {
    "duration": 11,
    "start_time": "2022-12-06T22:00:40.690Z"
   },
   {
    "duration": 215,
    "start_time": "2022-12-06T22:01:28.355Z"
   },
   {
    "duration": 16214,
    "start_time": "2022-12-06T22:01:37.546Z"
   },
   {
    "duration": 4,
    "start_time": "2022-12-06T22:01:55.114Z"
   },
   {
    "duration": 1585,
    "start_time": "2022-12-06T22:01:55.386Z"
   },
   {
    "duration": 11,
    "start_time": "2022-12-06T22:01:56.973Z"
   },
   {
    "duration": 7,
    "start_time": "2022-12-06T22:01:56.985Z"
   },
   {
    "duration": 7,
    "start_time": "2022-12-06T22:01:56.994Z"
   },
   {
    "duration": 11,
    "start_time": "2022-12-06T22:01:57.002Z"
   },
   {
    "duration": 24,
    "start_time": "2022-12-06T22:01:57.134Z"
   },
   {
    "duration": 11,
    "start_time": "2022-12-06T22:01:57.784Z"
   },
   {
    "duration": 220,
    "start_time": "2022-12-06T22:01:58.282Z"
   },
   {
    "duration": 16732,
    "start_time": "2022-12-06T22:03:01.310Z"
   },
   {
    "duration": 4,
    "start_time": "2022-12-06T22:03:18.044Z"
   },
   {
    "duration": 1140,
    "start_time": "2022-12-06T22:03:18.049Z"
   },
   {
    "duration": 12,
    "start_time": "2022-12-06T22:03:19.192Z"
   },
   {
    "duration": 20,
    "start_time": "2022-12-06T22:03:19.205Z"
   },
   {
    "duration": 17,
    "start_time": "2022-12-06T22:03:19.227Z"
   },
   {
    "duration": 20,
    "start_time": "2022-12-06T22:03:19.246Z"
   },
   {
    "duration": 26,
    "start_time": "2022-12-06T22:03:19.774Z"
   },
   {
    "duration": 10,
    "start_time": "2022-12-06T22:03:20.859Z"
   },
   {
    "duration": 241,
    "start_time": "2022-12-06T22:03:21.261Z"
   },
   {
    "duration": 40,
    "start_time": "2022-12-06T22:03:23.142Z"
   },
   {
    "duration": 30,
    "start_time": "2022-12-06T22:04:17.598Z"
   },
   {
    "duration": 17,
    "start_time": "2022-12-06T22:05:40.206Z"
   },
   {
    "duration": 32,
    "start_time": "2022-12-06T22:05:42.666Z"
   },
   {
    "duration": 10,
    "start_time": "2022-12-06T22:07:42.362Z"
   },
   {
    "duration": 12,
    "start_time": "2022-12-06T22:08:32.538Z"
   },
   {
    "duration": 14,
    "start_time": "2022-12-06T22:09:30.019Z"
   },
   {
    "duration": 13,
    "start_time": "2022-12-06T22:10:06.194Z"
   },
   {
    "duration": 13,
    "start_time": "2022-12-06T22:10:12.550Z"
   },
   {
    "duration": 14,
    "start_time": "2022-12-06T22:12:53.162Z"
   },
   {
    "duration": 23,
    "start_time": "2022-12-06T22:16:07.666Z"
   },
   {
    "duration": 19,
    "start_time": "2022-12-06T22:16:27.522Z"
   },
   {
    "duration": 35,
    "start_time": "2022-12-06T22:16:32.431Z"
   },
   {
    "duration": 32,
    "start_time": "2022-12-06T22:16:33.083Z"
   },
   {
    "duration": 15,
    "start_time": "2022-12-06T22:16:54.535Z"
   },
   {
    "duration": 22,
    "start_time": "2022-12-06T22:18:50.622Z"
   },
   {
    "duration": 3,
    "start_time": "2022-12-06T22:21:40.862Z"
   },
   {
    "duration": 1679,
    "start_time": "2022-12-06T22:21:41.275Z"
   },
   {
    "duration": 12,
    "start_time": "2022-12-06T22:21:42.956Z"
   },
   {
    "duration": 7,
    "start_time": "2022-12-06T22:21:42.970Z"
   },
   {
    "duration": 4,
    "start_time": "2022-12-06T22:21:49.062Z"
   },
   {
    "duration": 5,
    "start_time": "2022-12-06T22:21:49.546Z"
   },
   {
    "duration": 10,
    "start_time": "2022-12-06T22:21:53.103Z"
   },
   {
    "duration": 10,
    "start_time": "2022-12-06T22:21:55.003Z"
   },
   {
    "duration": 19,
    "start_time": "2022-12-06T22:22:02.095Z"
   },
   {
    "duration": 38,
    "start_time": "2022-12-06T22:22:19.550Z"
   },
   {
    "duration": 24,
    "start_time": "2022-12-06T22:22:20.811Z"
   },
   {
    "duration": 22,
    "start_time": "2022-12-06T22:22:31.922Z"
   },
   {
    "duration": 30,
    "start_time": "2022-12-06T22:23:07.706Z"
   },
   {
    "duration": 20,
    "start_time": "2022-12-06T22:23:25.562Z"
   },
   {
    "duration": 33,
    "start_time": "2022-12-06T22:23:30.371Z"
   },
   {
    "duration": 20,
    "start_time": "2022-12-06T22:23:31.175Z"
   },
   {
    "duration": 24,
    "start_time": "2022-12-06T22:26:28.143Z"
   },
   {
    "duration": 24,
    "start_time": "2022-12-06T22:27:02.027Z"
   },
   {
    "duration": 1254,
    "start_time": "2022-12-07T17:44:26.543Z"
   },
   {
    "duration": 2037,
    "start_time": "2022-12-07T17:44:27.799Z"
   },
   {
    "duration": 20,
    "start_time": "2022-12-07T17:44:29.839Z"
   },
   {
    "duration": 20,
    "start_time": "2022-12-07T17:44:29.862Z"
   },
   {
    "duration": 3,
    "start_time": "2022-12-07T17:44:35.250Z"
   },
   {
    "duration": 5,
    "start_time": "2022-12-07T17:44:35.802Z"
   },
   {
    "duration": 14,
    "start_time": "2022-12-07T17:44:36.806Z"
   },
   {
    "duration": 20,
    "start_time": "2022-12-07T17:44:49.771Z"
   },
   {
    "duration": 25,
    "start_time": "2022-12-07T17:45:04.256Z"
   },
   {
    "duration": 17,
    "start_time": "2022-12-07T17:45:57.002Z"
   },
   {
    "duration": 41,
    "start_time": "2022-12-07T17:45:59.699Z"
   },
   {
    "duration": 31,
    "start_time": "2022-12-07T17:46:35.942Z"
   },
   {
    "duration": 47,
    "start_time": "2022-12-07T17:46:45.898Z"
   },
   {
    "duration": 21,
    "start_time": "2022-12-07T17:51:57.682Z"
   },
   {
    "duration": 4,
    "start_time": "2022-12-07T17:59:46.706Z"
   },
   {
    "duration": 39,
    "start_time": "2022-12-07T18:00:48.373Z"
   },
   {
    "duration": 31,
    "start_time": "2022-12-07T18:00:52.825Z"
   },
   {
    "duration": 32,
    "start_time": "2022-12-07T18:01:09.323Z"
   },
   {
    "duration": 30,
    "start_time": "2022-12-07T18:01:40.263Z"
   },
   {
    "duration": 30,
    "start_time": "2022-12-07T18:01:51.163Z"
   },
   {
    "duration": 124,
    "start_time": "2022-12-07T18:05:00.808Z"
   },
   {
    "duration": 16,
    "start_time": "2022-12-07T18:05:59.167Z"
   },
   {
    "duration": 12,
    "start_time": "2022-12-07T18:06:01.680Z"
   },
   {
    "duration": 31,
    "start_time": "2022-12-07T18:26:18.228Z"
   },
   {
    "duration": 27,
    "start_time": "2022-12-07T18:27:29.145Z"
   },
   {
    "duration": 7,
    "start_time": "2022-12-07T18:29:53.484Z"
   },
   {
    "duration": 16,
    "start_time": "2022-12-07T18:29:58.466Z"
   },
   {
    "duration": 10,
    "start_time": "2022-12-07T18:30:11.916Z"
   },
   {
    "duration": 9,
    "start_time": "2022-12-07T18:30:45.223Z"
   },
   {
    "duration": 9,
    "start_time": "2022-12-07T18:31:09.177Z"
   },
   {
    "duration": 12,
    "start_time": "2022-12-07T18:34:01.480Z"
   },
   {
    "duration": 11,
    "start_time": "2022-12-07T18:35:53.689Z"
   },
   {
    "duration": 11,
    "start_time": "2022-12-07T18:52:03.261Z"
   },
   {
    "duration": 10,
    "start_time": "2022-12-07T18:52:11.613Z"
   },
   {
    "duration": 11,
    "start_time": "2022-12-07T18:52:12.475Z"
   },
   {
    "duration": 4,
    "start_time": "2022-12-07T18:52:16.717Z"
   },
   {
    "duration": 1503,
    "start_time": "2022-12-07T18:52:16.909Z"
   },
   {
    "duration": 17,
    "start_time": "2022-12-07T18:52:18.415Z"
   },
   {
    "duration": 17,
    "start_time": "2022-12-07T18:52:18.435Z"
   },
   {
    "duration": 4,
    "start_time": "2022-12-07T18:52:18.455Z"
   },
   {
    "duration": 20,
    "start_time": "2022-12-07T18:52:18.461Z"
   },
   {
    "duration": 11,
    "start_time": "2022-12-07T18:52:19.461Z"
   },
   {
    "duration": 17,
    "start_time": "2022-12-07T18:52:19.579Z"
   },
   {
    "duration": 14,
    "start_time": "2022-12-07T18:52:19.945Z"
   },
   {
    "duration": 8,
    "start_time": "2022-12-07T18:52:20.305Z"
   },
   {
    "duration": 22,
    "start_time": "2022-12-07T18:52:20.690Z"
   },
   {
    "duration": 6,
    "start_time": "2022-12-07T18:52:21.145Z"
   },
   {
    "duration": 12,
    "start_time": "2022-12-07T18:54:43.344Z"
   },
   {
    "duration": 16,
    "start_time": "2022-12-07T18:54:51.505Z"
   },
   {
    "duration": 4,
    "start_time": "2022-12-07T18:54:57.772Z"
   },
   {
    "duration": 1139,
    "start_time": "2022-12-07T18:54:57.973Z"
   },
   {
    "duration": 15,
    "start_time": "2022-12-07T18:54:59.114Z"
   },
   {
    "duration": 18,
    "start_time": "2022-12-07T18:54:59.131Z"
   },
   {
    "duration": 4,
    "start_time": "2022-12-07T18:54:59.151Z"
   },
   {
    "duration": 5,
    "start_time": "2022-12-07T18:54:59.268Z"
   },
   {
    "duration": 15,
    "start_time": "2022-12-07T18:54:59.645Z"
   },
   {
    "duration": 25,
    "start_time": "2022-12-07T18:55:00.025Z"
   },
   {
    "duration": 14,
    "start_time": "2022-12-07T18:55:00.409Z"
   },
   {
    "duration": 7,
    "start_time": "2022-12-07T18:55:00.817Z"
   },
   {
    "duration": 14,
    "start_time": "2022-12-07T18:55:01.141Z"
   },
   {
    "duration": 11,
    "start_time": "2022-12-07T18:55:01.345Z"
   },
   {
    "duration": 11,
    "start_time": "2022-12-07T18:57:11.433Z"
   },
   {
    "duration": 4,
    "start_time": "2022-12-07T18:57:16.661Z"
   },
   {
    "duration": 1086,
    "start_time": "2022-12-07T18:57:16.901Z"
   },
   {
    "duration": 12,
    "start_time": "2022-12-07T18:57:17.989Z"
   },
   {
    "duration": 7,
    "start_time": "2022-12-07T18:57:18.003Z"
   },
   {
    "duration": 5,
    "start_time": "2022-12-07T18:57:18.013Z"
   },
   {
    "duration": 5,
    "start_time": "2022-12-07T18:57:18.145Z"
   },
   {
    "duration": 13,
    "start_time": "2022-12-07T18:57:19.129Z"
   },
   {
    "duration": 24,
    "start_time": "2022-12-07T18:57:19.144Z"
   },
   {
    "duration": 15,
    "start_time": "2022-12-07T18:57:19.244Z"
   },
   {
    "duration": 17,
    "start_time": "2022-12-07T18:57:19.585Z"
   },
   {
    "duration": 12,
    "start_time": "2022-12-07T18:57:21.209Z"
   },
   {
    "duration": 10,
    "start_time": "2022-12-07T18:57:43.801Z"
   },
   {
    "duration": 11,
    "start_time": "2022-12-07T18:59:13.885Z"
   },
   {
    "duration": 4,
    "start_time": "2022-12-07T18:59:19.433Z"
   },
   {
    "duration": 1064,
    "start_time": "2022-12-07T18:59:19.605Z"
   },
   {
    "duration": 12,
    "start_time": "2022-12-07T18:59:20.671Z"
   },
   {
    "duration": 10,
    "start_time": "2022-12-07T18:59:20.685Z"
   },
   {
    "duration": 13,
    "start_time": "2022-12-07T18:59:20.697Z"
   },
   {
    "duration": 5,
    "start_time": "2022-12-07T18:59:20.872Z"
   },
   {
    "duration": 12,
    "start_time": "2022-12-07T18:59:21.229Z"
   },
   {
    "duration": 17,
    "start_time": "2022-12-07T18:59:21.593Z"
   },
   {
    "duration": 14,
    "start_time": "2022-12-07T18:59:21.986Z"
   },
   {
    "duration": 20,
    "start_time": "2022-12-07T18:59:22.378Z"
   },
   {
    "duration": 13,
    "start_time": "2022-12-07T18:59:23.266Z"
   },
   {
    "duration": 10,
    "start_time": "2022-12-07T18:59:59.285Z"
   },
   {
    "duration": 6,
    "start_time": "2022-12-07T19:00:05.840Z"
   },
   {
    "duration": 1185,
    "start_time": "2022-12-07T19:00:06.033Z"
   },
   {
    "duration": 14,
    "start_time": "2022-12-07T19:00:07.221Z"
   },
   {
    "duration": 13,
    "start_time": "2022-12-07T19:00:07.237Z"
   },
   {
    "duration": 4,
    "start_time": "2022-12-07T19:00:07.313Z"
   },
   {
    "duration": 6,
    "start_time": "2022-12-07T19:00:07.440Z"
   },
   {
    "duration": 12,
    "start_time": "2022-12-07T19:00:07.781Z"
   },
   {
    "duration": 20,
    "start_time": "2022-12-07T19:00:08.141Z"
   },
   {
    "duration": 128,
    "start_time": "2022-12-07T19:00:08.546Z"
   },
   {
    "duration": 31,
    "start_time": "2022-12-07T19:00:08.901Z"
   },
   {
    "duration": 19,
    "start_time": "2022-12-07T19:00:09.282Z"
   },
   {
    "duration": 10,
    "start_time": "2022-12-07T19:00:11.118Z"
   },
   {
    "duration": 23,
    "start_time": "2022-12-07T19:00:48.946Z"
   },
   {
    "duration": 19,
    "start_time": "2022-12-07T19:02:33.460Z"
   },
   {
    "duration": 4,
    "start_time": "2022-12-07T19:02:39.369Z"
   },
   {
    "duration": 1169,
    "start_time": "2022-12-07T19:02:39.580Z"
   },
   {
    "duration": 20,
    "start_time": "2022-12-07T19:02:40.752Z"
   },
   {
    "duration": 10,
    "start_time": "2022-12-07T19:02:40.773Z"
   },
   {
    "duration": 4,
    "start_time": "2022-12-07T19:02:41.067Z"
   },
   {
    "duration": 6,
    "start_time": "2022-12-07T19:02:41.310Z"
   },
   {
    "duration": 12,
    "start_time": "2022-12-07T19:02:42.797Z"
   },
   {
    "duration": 19,
    "start_time": "2022-12-07T19:02:43.913Z"
   },
   {
    "duration": 24,
    "start_time": "2022-12-07T19:03:07.169Z"
   },
   {
    "duration": 23,
    "start_time": "2022-12-07T19:03:17.745Z"
   },
   {
    "duration": 16,
    "start_time": "2022-12-07T19:03:43.542Z"
   },
   {
    "duration": 49,
    "start_time": "2022-12-07T19:03:52.685Z"
   },
   {
    "duration": 11,
    "start_time": "2022-12-07T19:03:59.542Z"
   },
   {
    "duration": 22,
    "start_time": "2022-12-07T19:04:52.662Z"
   },
   {
    "duration": 16,
    "start_time": "2022-12-07T19:05:00.957Z"
   },
   {
    "duration": 19,
    "start_time": "2022-12-07T19:05:03.749Z"
   },
   {
    "duration": 21,
    "start_time": "2022-12-07T19:05:26.450Z"
   },
   {
    "duration": 5,
    "start_time": "2022-12-07T19:05:33.337Z"
   },
   {
    "duration": 1088,
    "start_time": "2022-12-07T19:05:33.541Z"
   },
   {
    "duration": 20,
    "start_time": "2022-12-07T19:05:34.632Z"
   },
   {
    "duration": 22,
    "start_time": "2022-12-07T19:05:34.654Z"
   },
   {
    "duration": 5,
    "start_time": "2022-12-07T19:05:34.683Z"
   },
   {
    "duration": 6,
    "start_time": "2022-12-07T19:05:34.865Z"
   },
   {
    "duration": 18,
    "start_time": "2022-12-07T19:05:35.249Z"
   },
   {
    "duration": 25,
    "start_time": "2022-12-07T19:05:36.041Z"
   },
   {
    "duration": 20,
    "start_time": "2022-12-07T19:05:46.038Z"
   },
   {
    "duration": 22,
    "start_time": "2022-12-07T19:05:47.845Z"
   },
   {
    "duration": 12,
    "start_time": "2022-12-07T19:05:49.473Z"
   },
   {
    "duration": 15,
    "start_time": "2022-12-07T19:05:54.008Z"
   },
   {
    "duration": 19,
    "start_time": "2022-12-07T19:08:00.678Z"
   },
   {
    "duration": 34,
    "start_time": "2022-12-07T19:10:35.636Z"
   },
   {
    "duration": 6,
    "start_time": "2022-12-07T19:10:40.021Z"
   },
   {
    "duration": 9,
    "start_time": "2022-12-07T19:10:42.206Z"
   },
   {
    "duration": 32,
    "start_time": "2022-12-07T19:11:06.417Z"
   },
   {
    "duration": 32,
    "start_time": "2022-12-07T19:11:25.153Z"
   },
   {
    "duration": 37,
    "start_time": "2022-12-07T19:11:42.813Z"
   },
   {
    "duration": 45,
    "start_time": "2022-12-07T19:12:02.429Z"
   },
   {
    "duration": 4,
    "start_time": "2022-12-07T19:12:44.895Z"
   },
   {
    "duration": 1559,
    "start_time": "2022-12-07T19:12:45.050Z"
   },
   {
    "duration": 18,
    "start_time": "2022-12-07T19:12:46.612Z"
   },
   {
    "duration": 11,
    "start_time": "2022-12-07T19:12:46.633Z"
   },
   {
    "duration": 3,
    "start_time": "2022-12-07T19:12:52.133Z"
   },
   {
    "duration": 4,
    "start_time": "2022-12-07T19:12:52.593Z"
   },
   {
    "duration": 15,
    "start_time": "2022-12-07T19:12:54.766Z"
   },
   {
    "duration": 18,
    "start_time": "2022-12-07T19:12:59.932Z"
   },
   {
    "duration": 35,
    "start_time": "2022-12-07T19:13:03.381Z"
   },
   {
    "duration": 24,
    "start_time": "2022-12-07T19:15:36.146Z"
   },
   {
    "duration": 25,
    "start_time": "2022-12-07T19:15:45.756Z"
   },
   {
    "duration": 26,
    "start_time": "2022-12-07T19:16:01.340Z"
   },
   {
    "duration": 41,
    "start_time": "2022-12-07T19:16:22.866Z"
   },
   {
    "duration": 26,
    "start_time": "2022-12-07T19:17:17.085Z"
   },
   {
    "duration": 19,
    "start_time": "2022-12-07T19:17:41.785Z"
   },
   {
    "duration": 27,
    "start_time": "2022-12-07T19:18:08.274Z"
   },
   {
    "duration": 22,
    "start_time": "2022-12-07T19:19:22.741Z"
   },
   {
    "duration": 29,
    "start_time": "2022-12-07T19:20:35.961Z"
   },
   {
    "duration": 16,
    "start_time": "2022-12-07T19:20:44.429Z"
   },
   {
    "duration": 5,
    "start_time": "2022-12-07T19:20:48.309Z"
   },
   {
    "duration": 1822,
    "start_time": "2022-12-07T19:20:48.528Z"
   },
   {
    "duration": 19,
    "start_time": "2022-12-07T19:20:50.353Z"
   },
   {
    "duration": 11,
    "start_time": "2022-12-07T19:20:50.374Z"
   },
   {
    "duration": 31,
    "start_time": "2022-12-07T19:20:50.387Z"
   },
   {
    "duration": 9,
    "start_time": "2022-12-07T19:20:50.420Z"
   },
   {
    "duration": 16,
    "start_time": "2022-12-07T19:20:51.597Z"
   },
   {
    "duration": 26,
    "start_time": "2022-12-07T19:20:52.676Z"
   },
   {
    "duration": 29,
    "start_time": "2022-12-07T19:20:55.416Z"
   },
   {
    "duration": 10,
    "start_time": "2022-12-07T19:21:03.672Z"
   },
   {
    "duration": 13,
    "start_time": "2022-12-07T19:21:05.485Z"
   },
   {
    "duration": 5,
    "start_time": "2022-12-07T19:25:23.845Z"
   },
   {
    "duration": 3,
    "start_time": "2022-12-07T19:25:58.209Z"
   },
   {
    "duration": 25,
    "start_time": "2022-12-07T19:26:21.480Z"
   },
   {
    "duration": 10,
    "start_time": "2022-12-07T19:33:14.900Z"
   },
   {
    "duration": 4,
    "start_time": "2022-12-07T19:33:20.016Z"
   },
   {
    "duration": 1655,
    "start_time": "2022-12-07T19:33:20.200Z"
   },
   {
    "duration": 13,
    "start_time": "2022-12-07T19:33:21.857Z"
   },
   {
    "duration": 12,
    "start_time": "2022-12-07T19:33:21.873Z"
   },
   {
    "duration": 17,
    "start_time": "2022-12-07T19:33:21.887Z"
   },
   {
    "duration": 12,
    "start_time": "2022-12-07T19:33:21.906Z"
   },
   {
    "duration": 15,
    "start_time": "2022-12-07T19:33:22.016Z"
   },
   {
    "duration": 29,
    "start_time": "2022-12-07T19:33:22.436Z"
   },
   {
    "duration": 27,
    "start_time": "2022-12-07T19:33:22.796Z"
   },
   {
    "duration": 10,
    "start_time": "2022-12-07T19:33:23.160Z"
   },
   {
    "duration": 21,
    "start_time": "2022-12-07T19:33:23.543Z"
   },
   {
    "duration": 12,
    "start_time": "2022-12-07T19:33:40.181Z"
   },
   {
    "duration": 20,
    "start_time": "2022-12-07T19:33:45.830Z"
   },
   {
    "duration": 15,
    "start_time": "2022-12-07T19:37:00.477Z"
   },
   {
    "duration": 682,
    "start_time": "2022-12-07T21:02:31.600Z"
   },
   {
    "duration": 14,
    "start_time": "2022-12-07T21:06:23.654Z"
   },
   {
    "duration": 4,
    "start_time": "2022-12-07T21:07:22.252Z"
   },
   {
    "duration": 1789,
    "start_time": "2022-12-07T21:07:22.445Z"
   },
   {
    "duration": 13,
    "start_time": "2022-12-07T21:07:24.237Z"
   },
   {
    "duration": 8,
    "start_time": "2022-12-07T21:07:24.252Z"
   },
   {
    "duration": 3,
    "start_time": "2022-12-07T21:07:26.167Z"
   },
   {
    "duration": 4,
    "start_time": "2022-12-07T21:07:26.612Z"
   },
   {
    "duration": 13,
    "start_time": "2022-12-07T21:07:28.040Z"
   },
   {
    "duration": 23,
    "start_time": "2022-12-07T21:07:30.816Z"
   },
   {
    "duration": 25,
    "start_time": "2022-12-07T21:07:31.868Z"
   },
   {
    "duration": 8,
    "start_time": "2022-12-07T21:07:39.035Z"
   },
   {
    "duration": 20,
    "start_time": "2022-12-07T21:07:40.156Z"
   },
   {
    "duration": 21,
    "start_time": "2022-12-07T21:08:33.223Z"
   },
   {
    "duration": 12,
    "start_time": "2022-12-07T21:09:34.507Z"
   },
   {
    "duration": 4,
    "start_time": "2022-12-07T21:09:41.919Z"
   },
   {
    "duration": 1247,
    "start_time": "2022-12-07T21:09:42.103Z"
   },
   {
    "duration": 12,
    "start_time": "2022-12-07T21:09:43.352Z"
   },
   {
    "duration": 7,
    "start_time": "2022-12-07T21:09:43.366Z"
   },
   {
    "duration": 4,
    "start_time": "2022-12-07T21:09:43.376Z"
   },
   {
    "duration": 7,
    "start_time": "2022-12-07T21:09:43.381Z"
   },
   {
    "duration": 19,
    "start_time": "2022-12-07T21:09:43.743Z"
   },
   {
    "duration": 23,
    "start_time": "2022-12-07T21:09:44.135Z"
   },
   {
    "duration": 20,
    "start_time": "2022-12-07T21:09:45.064Z"
   },
   {
    "duration": 18,
    "start_time": "2022-12-07T21:09:46.279Z"
   },
   {
    "duration": 20,
    "start_time": "2022-12-07T21:12:00.040Z"
   },
   {
    "duration": 17,
    "start_time": "2022-12-07T21:12:11.080Z"
   },
   {
    "duration": 694,
    "start_time": "2022-12-07T21:13:10.072Z"
   },
   {
    "duration": 5,
    "start_time": "2022-12-07T21:17:19.412Z"
   },
   {
    "duration": 16,
    "start_time": "2022-12-07T21:27:59.032Z"
   },
   {
    "duration": 20,
    "start_time": "2022-12-07T21:47:34.664Z"
   },
   {
    "duration": 691,
    "start_time": "2022-12-07T21:48:00.761Z"
   },
   {
    "duration": 4,
    "start_time": "2022-12-07T21:56:38.569Z"
   },
   {
    "duration": 22,
    "start_time": "2022-12-07T21:57:53.005Z"
   },
   {
    "duration": 777,
    "start_time": "2022-12-07T21:58:23.121Z"
   },
   {
    "duration": 4,
    "start_time": "2022-12-07T21:59:30.504Z"
   },
   {
    "duration": 4,
    "start_time": "2022-12-07T21:59:36.773Z"
   },
   {
    "duration": 719,
    "start_time": "2022-12-07T21:59:37.488Z"
   },
   {
    "duration": 686,
    "start_time": "2022-12-07T22:06:19.244Z"
   },
   {
    "duration": 5,
    "start_time": "2022-12-07T22:12:25.184Z"
   },
   {
    "duration": 14,
    "start_time": "2022-12-07T22:14:46.532Z"
   },
   {
    "duration": 11,
    "start_time": "2022-12-07T22:15:06.060Z"
   },
   {
    "duration": 6,
    "start_time": "2022-12-07T22:16:51.083Z"
   },
   {
    "duration": 11,
    "start_time": "2022-12-07T22:17:02.192Z"
   },
   {
    "duration": 11,
    "start_time": "2022-12-07T22:17:23.932Z"
   },
   {
    "duration": 697,
    "start_time": "2022-12-07T22:18:02.624Z"
   },
   {
    "duration": 12,
    "start_time": "2022-12-07T22:18:35.472Z"
   },
   {
    "duration": 18,
    "start_time": "2022-12-07T22:19:00.988Z"
   },
   {
    "duration": 1193,
    "start_time": "2022-12-08T18:19:09.838Z"
   },
   {
    "duration": 1792,
    "start_time": "2022-12-08T18:19:11.033Z"
   },
   {
    "duration": 12,
    "start_time": "2022-12-08T18:19:12.827Z"
   },
   {
    "duration": 14,
    "start_time": "2022-12-08T18:19:12.841Z"
   },
   {
    "duration": 3,
    "start_time": "2022-12-08T18:19:13.269Z"
   },
   {
    "duration": 6,
    "start_time": "2022-12-08T18:19:13.834Z"
   },
   {
    "duration": 20,
    "start_time": "2022-12-08T18:19:14.906Z"
   },
   {
    "duration": 19,
    "start_time": "2022-12-08T18:19:15.981Z"
   },
   {
    "duration": 19,
    "start_time": "2022-12-08T18:19:16.777Z"
   },
   {
    "duration": 14,
    "start_time": "2022-12-08T18:19:17.533Z"
   },
   {
    "duration": 17,
    "start_time": "2022-12-08T18:19:18.301Z"
   },
   {
    "duration": 3,
    "start_time": "2022-12-08T18:19:19.665Z"
   },
   {
    "duration": 684,
    "start_time": "2022-12-08T18:19:20.553Z"
   },
   {
    "duration": 689,
    "start_time": "2022-12-08T18:19:47.353Z"
   },
   {
    "duration": 4,
    "start_time": "2022-12-08T18:20:19.699Z"
   },
   {
    "duration": 122,
    "start_time": "2022-12-08T18:21:36.621Z"
   },
   {
    "duration": 13,
    "start_time": "2022-12-08T18:21:52.553Z"
   },
   {
    "duration": 42,
    "start_time": "2022-12-08T18:30:36.997Z"
   },
   {
    "duration": 48,
    "start_time": "2022-12-08T18:31:54.169Z"
   },
   {
    "duration": 807,
    "start_time": "2022-12-08T18:32:11.477Z"
   },
   {
    "duration": 674,
    "start_time": "2022-12-08T19:55:38.406Z"
   },
   {
    "duration": 685,
    "start_time": "2022-12-08T20:24:24.983Z"
   },
   {
    "duration": 137,
    "start_time": "2022-12-08T20:24:53.039Z"
   },
   {
    "duration": 92,
    "start_time": "2022-12-11T11:00:54.517Z"
   },
   {
    "duration": 1407,
    "start_time": "2022-12-11T11:01:01.881Z"
   },
   {
    "duration": 2098,
    "start_time": "2022-12-11T11:01:17.046Z"
   },
   {
    "duration": 21,
    "start_time": "2022-12-11T11:01:22.862Z"
   },
   {
    "duration": 11,
    "start_time": "2022-12-11T11:01:39.299Z"
   },
   {
    "duration": 110,
    "start_time": "2022-12-11T11:08:31.455Z"
   },
   {
    "duration": 20,
    "start_time": "2022-12-11T11:08:44.506Z"
   },
   {
    "duration": 5,
    "start_time": "2022-12-11T11:08:56.154Z"
   },
   {
    "duration": 2510,
    "start_time": "2022-12-11T11:08:56.313Z"
   },
   {
    "duration": 20,
    "start_time": "2022-12-11T11:08:58.827Z"
   },
   {
    "duration": 10,
    "start_time": "2022-12-11T11:08:58.850Z"
   },
   {
    "duration": 10,
    "start_time": "2022-12-11T11:08:58.879Z"
   },
   {
    "duration": 24,
    "start_time": "2022-12-11T11:08:58.891Z"
   },
   {
    "duration": 27,
    "start_time": "2022-12-11T11:09:05.363Z"
   },
   {
    "duration": 23,
    "start_time": "2022-12-11T11:09:19.704Z"
   },
   {
    "duration": 12,
    "start_time": "2022-12-11T11:09:36.098Z"
   },
   {
    "duration": 8,
    "start_time": "2022-12-11T11:10:30.909Z"
   },
   {
    "duration": 27,
    "start_time": "2022-12-11T11:10:58.801Z"
   },
   {
    "duration": 4,
    "start_time": "2022-12-11T11:11:14.029Z"
   },
   {
    "duration": 1275,
    "start_time": "2022-12-11T11:11:14.203Z"
   },
   {
    "duration": 22,
    "start_time": "2022-12-11T11:11:15.481Z"
   },
   {
    "duration": 19,
    "start_time": "2022-12-11T11:11:15.506Z"
   },
   {
    "duration": 6,
    "start_time": "2022-12-11T11:11:16.095Z"
   },
   {
    "duration": 6,
    "start_time": "2022-12-11T11:11:16.988Z"
   },
   {
    "duration": 15,
    "start_time": "2022-12-11T11:11:18.045Z"
   },
   {
    "duration": 26,
    "start_time": "2022-12-11T11:11:18.496Z"
   },
   {
    "duration": 17,
    "start_time": "2022-12-11T11:11:18.857Z"
   },
   {
    "duration": 12,
    "start_time": "2022-12-11T11:11:19.574Z"
   },
   {
    "duration": 20,
    "start_time": "2022-12-11T11:11:41.008Z"
   },
   {
    "duration": 5,
    "start_time": "2022-12-11T11:11:50.053Z"
   },
   {
    "duration": 953,
    "start_time": "2022-12-11T11:11:53.798Z"
   },
   {
    "duration": 6,
    "start_time": "2022-12-11T11:16:34.048Z"
   },
   {
    "duration": 1907,
    "start_time": "2022-12-11T11:16:34.449Z"
   },
   {
    "duration": 19,
    "start_time": "2022-12-11T11:16:36.358Z"
   },
   {
    "duration": 11,
    "start_time": "2022-12-11T11:16:36.379Z"
   },
   {
    "duration": 5,
    "start_time": "2022-12-11T11:16:36.392Z"
   },
   {
    "duration": 8,
    "start_time": "2022-12-11T11:16:36.400Z"
   },
   {
    "duration": 20,
    "start_time": "2022-12-11T11:16:36.410Z"
   },
   {
    "duration": 20,
    "start_time": "2022-12-11T11:16:36.489Z"
   },
   {
    "duration": 15,
    "start_time": "2022-12-11T11:16:36.888Z"
   },
   {
    "duration": 8,
    "start_time": "2022-12-11T11:16:37.196Z"
   },
   {
    "duration": 15,
    "start_time": "2022-12-11T11:16:37.689Z"
   },
   {
    "duration": 7,
    "start_time": "2022-12-11T11:16:38.245Z"
   },
   {
    "duration": 802,
    "start_time": "2022-12-11T11:16:38.973Z"
   },
   {
    "duration": 642,
    "start_time": "2022-12-11T11:16:41.433Z"
   },
   {
    "duration": 872,
    "start_time": "2022-12-11T11:21:39.555Z"
   },
   {
    "duration": 137,
    "start_time": "2022-12-11T11:22:13.597Z"
   },
   {
    "duration": 244,
    "start_time": "2022-12-11T11:22:21.935Z"
   },
   {
    "duration": 884,
    "start_time": "2022-12-11T11:23:32.974Z"
   },
   {
    "duration": 898,
    "start_time": "2022-12-11T11:28:44.743Z"
   },
   {
    "duration": 21,
    "start_time": "2022-12-11T11:55:01.627Z"
   },
   {
    "duration": 28,
    "start_time": "2022-12-11T11:55:38.424Z"
   },
   {
    "duration": 33,
    "start_time": "2022-12-11T11:56:21.293Z"
   },
   {
    "duration": 493,
    "start_time": "2022-12-11T11:56:38.201Z"
   },
   {
    "duration": 23,
    "start_time": "2022-12-11T12:36:20.700Z"
   },
   {
    "duration": 31,
    "start_time": "2022-12-11T12:36:30.193Z"
   },
   {
    "duration": 31,
    "start_time": "2022-12-11T12:42:43.348Z"
   },
   {
    "duration": 38,
    "start_time": "2022-12-11T13:14:35.575Z"
   },
   {
    "duration": 18,
    "start_time": "2022-12-11T13:21:11.895Z"
   },
   {
    "duration": 18,
    "start_time": "2022-12-11T13:21:24.939Z"
   },
   {
    "duration": 44,
    "start_time": "2022-12-11T13:22:16.399Z"
   },
   {
    "duration": 82,
    "start_time": "2022-12-11T13:22:19.715Z"
   },
   {
    "duration": 48,
    "start_time": "2022-12-11T13:23:03.712Z"
   },
   {
    "duration": 4,
    "start_time": "2022-12-11T13:48:00.201Z"
   },
   {
    "duration": 11,
    "start_time": "2022-12-11T13:49:53.544Z"
   },
   {
    "duration": 31,
    "start_time": "2022-12-11T13:50:27.407Z"
   },
   {
    "duration": 4,
    "start_time": "2022-12-11T13:51:34.896Z"
   },
   {
    "duration": 24,
    "start_time": "2022-12-11T13:51:42.708Z"
   },
   {
    "duration": 26,
    "start_time": "2022-12-11T13:52:17.272Z"
   },
   {
    "duration": 18,
    "start_time": "2022-12-11T13:52:37.934Z"
   },
   {
    "duration": 9,
    "start_time": "2022-12-11T13:58:38.068Z"
   },
   {
    "duration": 19,
    "start_time": "2022-12-11T14:01:33.284Z"
   },
   {
    "duration": 17,
    "start_time": "2022-12-11T14:02:00.220Z"
   },
   {
    "duration": 5,
    "start_time": "2022-12-11T14:02:05.897Z"
   },
   {
    "duration": 1623,
    "start_time": "2022-12-11T14:02:06.073Z"
   },
   {
    "duration": 13,
    "start_time": "2022-12-11T14:02:07.698Z"
   },
   {
    "duration": 15,
    "start_time": "2022-12-11T14:02:07.712Z"
   },
   {
    "duration": 7,
    "start_time": "2022-12-11T14:02:07.729Z"
   },
   {
    "duration": 4,
    "start_time": "2022-12-11T14:02:08.609Z"
   },
   {
    "duration": 14,
    "start_time": "2022-12-11T14:02:09.352Z"
   },
   {
    "duration": 19,
    "start_time": "2022-12-11T14:02:10.416Z"
   },
   {
    "duration": 13,
    "start_time": "2022-12-11T14:02:14.428Z"
   },
   {
    "duration": 7,
    "start_time": "2022-12-11T14:02:15.743Z"
   },
   {
    "duration": 14,
    "start_time": "2022-12-11T14:02:16.712Z"
   },
   {
    "duration": 132,
    "start_time": "2022-12-11T14:02:19.337Z"
   },
   {
    "duration": 875,
    "start_time": "2022-12-11T14:02:21.204Z"
   },
   {
    "duration": 86,
    "start_time": "2022-12-11T14:02:22.744Z"
   },
   {
    "duration": 5,
    "start_time": "2022-12-11T14:02:24.868Z"
   },
   {
    "duration": 14,
    "start_time": "2022-12-11T14:03:01.232Z"
   },
   {
    "duration": 28,
    "start_time": "2022-12-11T14:03:16.560Z"
   },
   {
    "duration": 27,
    "start_time": "2022-12-11T14:10:50.589Z"
   },
   {
    "duration": 18,
    "start_time": "2022-12-11T14:12:39.842Z"
   },
   {
    "duration": 27,
    "start_time": "2022-12-11T14:12:41.882Z"
   },
   {
    "duration": 14,
    "start_time": "2022-12-11T14:12:42.881Z"
   },
   {
    "duration": 15,
    "start_time": "2022-12-11T14:12:57.161Z"
   },
   {
    "duration": 77,
    "start_time": "2022-12-11T14:12:59.189Z"
   },
   {
    "duration": 10,
    "start_time": "2022-12-11T14:14:49.545Z"
   },
   {
    "duration": 29,
    "start_time": "2022-12-11T14:15:01.095Z"
   },
   {
    "duration": 10,
    "start_time": "2022-12-11T14:15:13.649Z"
   },
   {
    "duration": 10,
    "start_time": "2022-12-11T14:17:38.090Z"
   },
   {
    "duration": 180,
    "start_time": "2022-12-11T14:17:40.185Z"
   },
   {
    "duration": 171,
    "start_time": "2022-12-11T14:18:40.480Z"
   },
   {
    "duration": 174,
    "start_time": "2022-12-11T14:24:32.135Z"
   },
   {
    "duration": 23,
    "start_time": "2022-12-11T14:28:56.387Z"
   },
   {
    "duration": 20,
    "start_time": "2022-12-11T14:29:23.627Z"
   },
   {
    "duration": 10,
    "start_time": "2022-12-11T14:29:59.135Z"
   },
   {
    "duration": 49,
    "start_time": "2022-12-11T14:31:15.639Z"
   },
   {
    "duration": 26,
    "start_time": "2022-12-11T14:31:20.763Z"
   },
   {
    "duration": 4,
    "start_time": "2022-12-11T14:31:30.247Z"
   },
   {
    "duration": 1787,
    "start_time": "2022-12-11T14:31:30.427Z"
   },
   {
    "duration": 11,
    "start_time": "2022-12-11T14:31:32.216Z"
   },
   {
    "duration": 7,
    "start_time": "2022-12-11T14:31:32.229Z"
   },
   {
    "duration": 3,
    "start_time": "2022-12-11T14:31:32.238Z"
   },
   {
    "duration": 9,
    "start_time": "2022-12-11T14:31:32.243Z"
   },
   {
    "duration": 33,
    "start_time": "2022-12-11T14:31:32.254Z"
   },
   {
    "duration": 18,
    "start_time": "2022-12-11T14:31:32.514Z"
   },
   {
    "duration": 12,
    "start_time": "2022-12-11T14:31:32.882Z"
   },
   {
    "duration": 8,
    "start_time": "2022-12-11T14:31:33.255Z"
   },
   {
    "duration": 14,
    "start_time": "2022-12-11T14:31:33.771Z"
   },
   {
    "duration": 132,
    "start_time": "2022-12-11T14:31:35.091Z"
   },
   {
    "duration": 934,
    "start_time": "2022-12-11T14:31:35.675Z"
   },
   {
    "duration": 102,
    "start_time": "2022-12-11T14:31:36.610Z"
   },
   {
    "duration": 4,
    "start_time": "2022-12-11T14:33:25.263Z"
   },
   {
    "duration": 1149,
    "start_time": "2022-12-11T14:33:25.431Z"
   },
   {
    "duration": 11,
    "start_time": "2022-12-11T14:33:26.582Z"
   },
   {
    "duration": 7,
    "start_time": "2022-12-11T14:33:26.595Z"
   },
   {
    "duration": 3,
    "start_time": "2022-12-11T14:33:26.755Z"
   },
   {
    "duration": 5,
    "start_time": "2022-12-11T14:33:27.110Z"
   },
   {
    "duration": 18,
    "start_time": "2022-12-11T14:33:28.224Z"
   },
   {
    "duration": 18,
    "start_time": "2022-12-11T14:33:28.537Z"
   },
   {
    "duration": 13,
    "start_time": "2022-12-11T14:33:28.916Z"
   },
   {
    "duration": 9,
    "start_time": "2022-12-11T14:33:29.454Z"
   },
   {
    "duration": 15,
    "start_time": "2022-12-11T14:33:29.831Z"
   },
   {
    "duration": 139,
    "start_time": "2022-12-11T14:33:31.699Z"
   },
   {
    "duration": 856,
    "start_time": "2022-12-11T14:33:32.410Z"
   },
   {
    "duration": 88,
    "start_time": "2022-12-11T14:33:33.268Z"
   },
   {
    "duration": 4,
    "start_time": "2022-12-11T14:37:35.803Z"
   },
   {
    "duration": 25,
    "start_time": "2022-12-11T14:37:43.119Z"
   },
   {
    "duration": 14,
    "start_time": "2022-12-11T14:37:43.687Z"
   },
   {
    "duration": 29,
    "start_time": "2022-12-11T14:37:44.111Z"
   },
   {
    "duration": 8,
    "start_time": "2022-12-11T14:37:44.319Z"
   },
   {
    "duration": 9,
    "start_time": "2022-12-11T14:37:44.459Z"
   },
   {
    "duration": 169,
    "start_time": "2022-12-11T14:37:44.713Z"
   },
   {
    "duration": 175,
    "start_time": "2022-12-11T14:37:47.155Z"
   },
   {
    "duration": 24,
    "start_time": "2022-12-11T14:38:50.514Z"
   },
   {
    "duration": 15,
    "start_time": "2022-12-11T14:38:51.205Z"
   },
   {
    "duration": 28,
    "start_time": "2022-12-11T14:38:51.691Z"
   },
   {
    "duration": 9,
    "start_time": "2022-12-11T14:38:52.091Z"
   },
   {
    "duration": 9,
    "start_time": "2022-12-11T14:38:52.255Z"
   },
   {
    "duration": 175,
    "start_time": "2022-12-11T14:38:52.413Z"
   },
   {
    "duration": 51,
    "start_time": "2022-12-11T14:39:21.479Z"
   },
   {
    "duration": 37,
    "start_time": "2022-12-11T15:38:06.982Z"
   },
   {
    "duration": 140,
    "start_time": "2022-12-11T15:40:54.903Z"
   },
   {
    "duration": 5,
    "start_time": "2022-12-11T15:41:04.304Z"
   },
   {
    "duration": 1694,
    "start_time": "2022-12-11T15:41:04.619Z"
   },
   {
    "duration": 12,
    "start_time": "2022-12-11T15:41:06.315Z"
   },
   {
    "duration": 7,
    "start_time": "2022-12-11T15:41:06.329Z"
   },
   {
    "duration": 5,
    "start_time": "2022-12-11T15:41:06.337Z"
   },
   {
    "duration": 7,
    "start_time": "2022-12-11T15:41:06.343Z"
   },
   {
    "duration": 13,
    "start_time": "2022-12-11T15:41:06.595Z"
   },
   {
    "duration": 16,
    "start_time": "2022-12-11T15:41:07.183Z"
   },
   {
    "duration": 11,
    "start_time": "2022-12-11T15:41:07.623Z"
   },
   {
    "duration": 8,
    "start_time": "2022-12-11T15:41:07.956Z"
   },
   {
    "duration": 14,
    "start_time": "2022-12-11T15:41:08.547Z"
   },
   {
    "duration": 131,
    "start_time": "2022-12-11T15:41:09.797Z"
   },
   {
    "duration": 943,
    "start_time": "2022-12-11T15:41:10.576Z"
   },
   {
    "duration": 100,
    "start_time": "2022-12-11T15:41:11.521Z"
   },
   {
    "duration": 5,
    "start_time": "2022-12-11T15:41:12.435Z"
   },
   {
    "duration": 20,
    "start_time": "2022-12-11T15:41:12.859Z"
   },
   {
    "duration": 15,
    "start_time": "2022-12-11T15:41:13.112Z"
   },
   {
    "duration": 30,
    "start_time": "2022-12-11T15:41:13.651Z"
   },
   {
    "duration": 10,
    "start_time": "2022-12-11T15:41:13.867Z"
   },
   {
    "duration": 11,
    "start_time": "2022-12-11T15:41:14.085Z"
   },
   {
    "duration": 175,
    "start_time": "2022-12-11T15:41:14.292Z"
   },
   {
    "duration": 46,
    "start_time": "2022-12-11T15:41:14.699Z"
   },
   {
    "duration": 20,
    "start_time": "2022-12-11T15:41:56.409Z"
   },
   {
    "duration": 8,
    "start_time": "2022-12-11T15:42:47.103Z"
   },
   {
    "duration": 17,
    "start_time": "2022-12-11T15:42:48.867Z"
   },
   {
    "duration": 13,
    "start_time": "2022-12-11T15:42:49.723Z"
   },
   {
    "duration": 28,
    "start_time": "2022-12-11T15:42:50.059Z"
   },
   {
    "duration": 9,
    "start_time": "2022-12-11T15:42:50.403Z"
   },
   {
    "duration": 9,
    "start_time": "2022-12-11T15:42:50.587Z"
   },
   {
    "duration": 179,
    "start_time": "2022-12-11T15:42:51.028Z"
   },
   {
    "duration": 10,
    "start_time": "2022-12-11T15:42:52.912Z"
   },
   {
    "duration": 10,
    "start_time": "2022-12-11T15:47:05.775Z"
   },
   {
    "duration": 31,
    "start_time": "2022-12-11T15:50:20.798Z"
   },
   {
    "duration": 10,
    "start_time": "2022-12-11T15:51:51.352Z"
   },
   {
    "duration": 9,
    "start_time": "2022-12-11T15:52:36.848Z"
   },
   {
    "duration": 16,
    "start_time": "2022-12-11T15:59:27.812Z"
   },
   {
    "duration": 18,
    "start_time": "2022-12-11T15:59:52.345Z"
   },
   {
    "duration": 18,
    "start_time": "2022-12-11T16:01:19.004Z"
   },
   {
    "duration": 11,
    "start_time": "2022-12-11T16:03:16.460Z"
   },
   {
    "duration": 14,
    "start_time": "2022-12-11T16:03:38.200Z"
   },
   {
    "duration": 13,
    "start_time": "2022-12-11T16:03:38.647Z"
   },
   {
    "duration": 12,
    "start_time": "2022-12-11T16:03:39.195Z"
   },
   {
    "duration": 8,
    "start_time": "2022-12-11T16:03:44.108Z"
   },
   {
    "duration": 8,
    "start_time": "2022-12-11T16:03:44.895Z"
   },
   {
    "duration": 39,
    "start_time": "2022-12-11T16:03:45.579Z"
   },
   {
    "duration": 170,
    "start_time": "2022-12-11T16:04:37.020Z"
   },
   {
    "duration": 38,
    "start_time": "2022-12-11T16:08:22.353Z"
   },
   {
    "duration": 49,
    "start_time": "2022-12-11T16:09:45.169Z"
   },
   {
    "duration": 190,
    "start_time": "2022-12-11T16:12:38.057Z"
   },
   {
    "duration": 42,
    "start_time": "2022-12-11T16:13:19.012Z"
   },
   {
    "duration": 179,
    "start_time": "2022-12-11T16:16:03.360Z"
   },
   {
    "duration": 44,
    "start_time": "2022-12-11T16:16:10.937Z"
   },
   {
    "duration": 40,
    "start_time": "2022-12-11T16:16:25.356Z"
   },
   {
    "duration": 4,
    "start_time": "2022-12-11T16:18:32.903Z"
   },
   {
    "duration": 98,
    "start_time": "2022-12-11T16:29:20.157Z"
   },
   {
    "duration": 103,
    "start_time": "2022-12-11T16:29:31.593Z"
   },
   {
    "duration": 94,
    "start_time": "2022-12-11T16:45:33.577Z"
   },
   {
    "duration": 50,
    "start_time": "2022-12-11T17:13:22.355Z"
   },
   {
    "duration": 116,
    "start_time": "2022-12-11T17:13:28.222Z"
   },
   {
    "duration": 7,
    "start_time": "2022-12-11T17:13:43.912Z"
   },
   {
    "duration": 8,
    "start_time": "2022-12-11T17:13:44.238Z"
   },
   {
    "duration": 17,
    "start_time": "2022-12-11T17:13:44.667Z"
   },
   {
    "duration": 15,
    "start_time": "2022-12-11T17:13:44.846Z"
   },
   {
    "duration": 30,
    "start_time": "2022-12-11T17:13:45.036Z"
   },
   {
    "duration": 18,
    "start_time": "2022-12-11T17:13:50.138Z"
   },
   {
    "duration": 18,
    "start_time": "2022-12-11T17:13:50.415Z"
   },
   {
    "duration": 28,
    "start_time": "2022-12-11T17:13:50.639Z"
   },
   {
    "duration": 11,
    "start_time": "2022-12-11T17:13:50.970Z"
   },
   {
    "duration": 10,
    "start_time": "2022-12-11T17:13:51.402Z"
   },
   {
    "duration": 194,
    "start_time": "2022-12-11T17:13:51.759Z"
   },
   {
    "duration": 13,
    "start_time": "2022-12-11T17:13:52.120Z"
   },
   {
    "duration": 7,
    "start_time": "2022-12-11T17:13:52.941Z"
   },
   {
    "duration": 13,
    "start_time": "2022-12-11T17:13:53.135Z"
   },
   {
    "duration": 10,
    "start_time": "2022-12-11T17:13:53.306Z"
   },
   {
    "duration": 8,
    "start_time": "2022-12-11T17:13:53.471Z"
   },
   {
    "duration": 43,
    "start_time": "2022-12-11T17:13:53.859Z"
   },
   {
    "duration": 180,
    "start_time": "2022-12-11T17:13:54.215Z"
   },
   {
    "duration": 42,
    "start_time": "2022-12-11T17:13:54.402Z"
   },
   {
    "duration": 184,
    "start_time": "2022-12-11T17:16:16.326Z"
   },
   {
    "duration": 46,
    "start_time": "2022-12-11T17:20:21.883Z"
   },
   {
    "duration": 191,
    "start_time": "2022-12-11T17:27:17.899Z"
   },
   {
    "duration": 193,
    "start_time": "2022-12-11T17:28:29.559Z"
   },
   {
    "duration": 4,
    "start_time": "2022-12-11T17:35:01.579Z"
   },
   {
    "duration": 2366,
    "start_time": "2022-12-11T17:35:01.769Z"
   },
   {
    "duration": 13,
    "start_time": "2022-12-11T17:35:04.136Z"
   },
   {
    "duration": 17,
    "start_time": "2022-12-11T17:35:04.151Z"
   },
   {
    "duration": 24,
    "start_time": "2022-12-11T17:35:04.170Z"
   },
   {
    "duration": 15,
    "start_time": "2022-12-11T17:35:04.196Z"
   },
   {
    "duration": 18,
    "start_time": "2022-12-11T17:35:05.046Z"
   },
   {
    "duration": 17,
    "start_time": "2022-12-11T17:35:05.403Z"
   },
   {
    "duration": 12,
    "start_time": "2022-12-11T17:35:05.751Z"
   },
   {
    "duration": 8,
    "start_time": "2022-12-11T17:35:06.103Z"
   },
   {
    "duration": 14,
    "start_time": "2022-12-11T17:35:06.449Z"
   },
   {
    "duration": 130,
    "start_time": "2022-12-11T17:35:07.348Z"
   },
   {
    "duration": 912,
    "start_time": "2022-12-11T17:35:07.886Z"
   },
   {
    "duration": 102,
    "start_time": "2022-12-11T17:35:08.800Z"
   },
   {
    "duration": 4,
    "start_time": "2022-12-11T17:35:09.145Z"
   },
   {
    "duration": 7,
    "start_time": "2022-12-11T17:35:09.306Z"
   },
   {
    "duration": 19,
    "start_time": "2022-12-11T17:35:09.666Z"
   },
   {
    "duration": 19,
    "start_time": "2022-12-11T17:35:09.855Z"
   },
   {
    "duration": 28,
    "start_time": "2022-12-11T17:35:10.050Z"
   },
   {
    "duration": 8,
    "start_time": "2022-12-11T17:35:10.215Z"
   },
   {
    "duration": 9,
    "start_time": "2022-12-11T17:35:10.374Z"
   },
   {
    "duration": 194,
    "start_time": "2022-12-11T17:35:10.815Z"
   },
   {
    "duration": 11,
    "start_time": "2022-12-11T17:35:11.202Z"
   },
   {
    "duration": 9,
    "start_time": "2022-12-11T17:35:11.378Z"
   },
   {
    "duration": 13,
    "start_time": "2022-12-11T17:35:11.576Z"
   },
   {
    "duration": 12,
    "start_time": "2022-12-11T17:35:11.752Z"
   },
   {
    "duration": 8,
    "start_time": "2022-12-11T17:35:11.952Z"
   },
   {
    "duration": 47,
    "start_time": "2022-12-11T17:35:12.114Z"
   },
   {
    "duration": 177,
    "start_time": "2022-12-11T17:35:12.459Z"
   },
   {
    "duration": 48,
    "start_time": "2022-12-11T17:35:12.638Z"
   },
   {
    "duration": 201,
    "start_time": "2022-12-11T17:35:13.411Z"
   },
   {
    "duration": 1626,
    "start_time": "2022-12-12T12:58:53.408Z"
   },
   {
    "duration": 1740,
    "start_time": "2022-12-12T12:58:55.036Z"
   },
   {
    "duration": 20,
    "start_time": "2022-12-12T12:58:56.779Z"
   },
   {
    "duration": 13,
    "start_time": "2022-12-12T12:58:56.802Z"
   },
   {
    "duration": 18,
    "start_time": "2022-12-12T12:58:56.817Z"
   },
   {
    "duration": 16,
    "start_time": "2022-12-12T12:58:56.837Z"
   },
   {
    "duration": 22,
    "start_time": "2022-12-12T12:58:56.856Z"
   },
   {
    "duration": 24,
    "start_time": "2022-12-12T12:58:56.881Z"
   },
   {
    "duration": 28,
    "start_time": "2022-12-12T12:58:56.907Z"
   },
   {
    "duration": 15,
    "start_time": "2022-12-12T12:58:56.940Z"
   },
   {
    "duration": 22,
    "start_time": "2022-12-12T12:58:56.958Z"
   },
   {
    "duration": 408,
    "start_time": "2022-12-12T12:58:56.982Z"
   },
   {
    "duration": 914,
    "start_time": "2022-12-12T12:58:57.392Z"
   },
   {
    "duration": 111,
    "start_time": "2022-12-12T12:58:58.308Z"
   },
   {
    "duration": 4,
    "start_time": "2022-12-12T12:58:58.421Z"
   },
   {
    "duration": 38,
    "start_time": "2022-12-12T12:58:58.427Z"
   },
   {
    "duration": 30,
    "start_time": "2022-12-12T12:58:58.467Z"
   },
   {
    "duration": 15,
    "start_time": "2022-12-12T12:58:58.499Z"
   },
   {
    "duration": 29,
    "start_time": "2022-12-12T12:58:58.516Z"
   },
   {
    "duration": 10,
    "start_time": "2022-12-12T12:58:58.547Z"
   },
   {
    "duration": 10,
    "start_time": "2022-12-12T12:58:58.559Z"
   },
   {
    "duration": 210,
    "start_time": "2022-12-12T12:58:58.571Z"
   },
   {
    "duration": 10,
    "start_time": "2022-12-12T12:58:58.783Z"
   },
   {
    "duration": 27,
    "start_time": "2022-12-12T12:58:58.794Z"
   },
   {
    "duration": 25,
    "start_time": "2022-12-12T12:58:58.823Z"
   },
   {
    "duration": 18,
    "start_time": "2022-12-12T12:58:58.850Z"
   },
   {
    "duration": 13,
    "start_time": "2022-12-12T12:58:58.870Z"
   },
   {
    "duration": 58,
    "start_time": "2022-12-12T12:58:58.888Z"
   },
   {
    "duration": 201,
    "start_time": "2022-12-12T12:58:58.948Z"
   },
   {
    "duration": 41,
    "start_time": "2022-12-12T12:58:59.150Z"
   },
   {
    "duration": 205,
    "start_time": "2022-12-12T12:58:59.193Z"
   },
   {
    "duration": 12,
    "start_time": "2022-12-12T13:36:59.211Z"
   },
   {
    "duration": 14,
    "start_time": "2022-12-12T13:38:35.682Z"
   },
   {
    "duration": 58,
    "start_time": "2022-12-12T14:18:57.131Z"
   },
   {
    "duration": 46,
    "start_time": "2022-12-12T17:52:05.467Z"
   },
   {
    "duration": 1132,
    "start_time": "2022-12-12T17:52:19.205Z"
   },
   {
    "duration": 73,
    "start_time": "2022-12-12T17:52:20.339Z"
   },
   {
    "duration": 184,
    "start_time": "2022-12-12T17:52:26.764Z"
   },
   {
    "duration": 74,
    "start_time": "2022-12-12T17:53:10.093Z"
   },
   {
    "duration": 12,
    "start_time": "2022-12-12T17:53:34.184Z"
   },
   {
    "duration": 4,
    "start_time": "2022-12-12T17:54:35.845Z"
   },
   {
    "duration": 57,
    "start_time": "2022-12-12T17:54:35.996Z"
   },
   {
    "duration": 12,
    "start_time": "2022-12-12T17:54:36.577Z"
   },
   {
    "duration": 8,
    "start_time": "2022-12-12T17:54:37.376Z"
   },
   {
    "duration": 639,
    "start_time": "2022-12-12T17:57:51.429Z"
   },
   {
    "duration": 4,
    "start_time": "2022-12-12T18:00:05.388Z"
   },
   {
    "duration": 138,
    "start_time": "2022-12-12T18:02:51.490Z"
   },
   {
    "duration": 139,
    "start_time": "2022-12-12T18:03:00.021Z"
   },
   {
    "duration": 138,
    "start_time": "2022-12-12T18:07:41.867Z"
   },
   {
    "duration": 137,
    "start_time": "2022-12-12T18:28:03.004Z"
   },
   {
    "duration": 126,
    "start_time": "2022-12-12T18:28:39.194Z"
   },
   {
    "duration": 4,
    "start_time": "2022-12-12T18:39:10.093Z"
   },
   {
    "duration": 8,
    "start_time": "2022-12-12T18:45:02.147Z"
   },
   {
    "duration": 8,
    "start_time": "2022-12-12T18:45:29.558Z"
   },
   {
    "duration": 8,
    "start_time": "2022-12-12T18:45:56.134Z"
   },
   {
    "duration": 5,
    "start_time": "2022-12-12T18:46:46.435Z"
   },
   {
    "duration": 143,
    "start_time": "2022-12-12T18:58:58.098Z"
   },
   {
    "duration": 6,
    "start_time": "2022-12-12T18:59:32.501Z"
   },
   {
    "duration": 154,
    "start_time": "2022-12-12T18:59:33.489Z"
   },
   {
    "duration": 6,
    "start_time": "2022-12-12T19:02:51.582Z"
   },
   {
    "duration": 155,
    "start_time": "2022-12-12T19:02:51.902Z"
   },
   {
    "duration": 4,
    "start_time": "2022-12-12T19:03:01.610Z"
   },
   {
    "duration": 55,
    "start_time": "2022-12-12T19:03:01.761Z"
   },
   {
    "duration": 12,
    "start_time": "2022-12-12T19:03:02.302Z"
   },
   {
    "duration": 8,
    "start_time": "2022-12-12T19:03:02.644Z"
   },
   {
    "duration": 129,
    "start_time": "2022-12-12T19:03:02.979Z"
   },
   {
    "duration": 6,
    "start_time": "2022-12-12T19:03:03.345Z"
   },
   {
    "duration": 130,
    "start_time": "2022-12-12T19:03:03.514Z"
   },
   {
    "duration": 79,
    "start_time": "2022-12-12T19:04:41.945Z"
   },
   {
    "duration": 4,
    "start_time": "2022-12-12T19:35:45.074Z"
   },
   {
    "duration": 5,
    "start_time": "2022-12-12T19:35:55.155Z"
   },
   {
    "duration": 5,
    "start_time": "2022-12-12T19:35:56.053Z"
   },
   {
    "duration": 14,
    "start_time": "2022-12-12T19:44:22.210Z"
   },
   {
    "duration": 76,
    "start_time": "2022-12-12T19:45:43.011Z"
   },
   {
    "duration": 14,
    "start_time": "2022-12-12T20:18:49.362Z"
   },
   {
    "duration": 18,
    "start_time": "2022-12-12T20:57:05.477Z"
   },
   {
    "duration": 15,
    "start_time": "2022-12-12T20:57:21.337Z"
   },
   {
    "duration": 80,
    "start_time": "2022-12-12T21:08:22.030Z"
   },
   {
    "duration": 74,
    "start_time": "2022-12-12T21:08:31.938Z"
   },
   {
    "duration": 69,
    "start_time": "2022-12-12T21:08:49.919Z"
   },
   {
    "duration": 67,
    "start_time": "2022-12-12T21:09:20.498Z"
   },
   {
    "duration": 4,
    "start_time": "2022-12-12T21:09:35.983Z"
   },
   {
    "duration": 58,
    "start_time": "2022-12-12T21:09:36.152Z"
   },
   {
    "duration": 11,
    "start_time": "2022-12-12T21:09:36.710Z"
   },
   {
    "duration": 7,
    "start_time": "2022-12-12T21:09:37.090Z"
   },
   {
    "duration": 124,
    "start_time": "2022-12-12T21:09:38.001Z"
   },
   {
    "duration": 6,
    "start_time": "2022-12-12T21:09:38.658Z"
   },
   {
    "duration": 121,
    "start_time": "2022-12-12T21:09:39.239Z"
   },
   {
    "duration": 4,
    "start_time": "2022-12-12T21:09:41.178Z"
   },
   {
    "duration": 3,
    "start_time": "2022-12-12T21:09:42.018Z"
   },
   {
    "duration": 4,
    "start_time": "2022-12-12T21:09:42.890Z"
   },
   {
    "duration": 12,
    "start_time": "2022-12-12T21:09:49.798Z"
   },
   {
    "duration": 86,
    "start_time": "2022-12-12T21:09:52.158Z"
   },
   {
    "duration": 10,
    "start_time": "2022-12-12T21:17:32.033Z"
   },
   {
    "duration": 73,
    "start_time": "2022-12-12T21:22:39.798Z"
   },
   {
    "duration": 153,
    "start_time": "2022-12-12T21:22:49.798Z"
   },
   {
    "duration": 151,
    "start_time": "2022-12-12T21:23:28.637Z"
   },
   {
    "duration": 147,
    "start_time": "2022-12-12T21:23:50.338Z"
   },
   {
    "duration": 144,
    "start_time": "2022-12-12T21:24:00.538Z"
   },
   {
    "duration": 34,
    "start_time": "2022-12-12T21:27:06.850Z"
   },
   {
    "duration": 4,
    "start_time": "2022-12-12T21:28:28.969Z"
   },
   {
    "duration": 3,
    "start_time": "2022-12-12T21:47:14.890Z"
   },
   {
    "duration": 64,
    "start_time": "2022-12-12T21:47:15.233Z"
   },
   {
    "duration": 12,
    "start_time": "2022-12-12T21:47:17.331Z"
   },
   {
    "duration": 9,
    "start_time": "2022-12-12T21:47:17.792Z"
   },
   {
    "duration": 134,
    "start_time": "2022-12-12T21:47:18.867Z"
   },
   {
    "duration": 6,
    "start_time": "2022-12-12T21:47:19.818Z"
   },
   {
    "duration": 130,
    "start_time": "2022-12-12T21:47:20.377Z"
   },
   {
    "duration": 5,
    "start_time": "2022-12-12T21:47:23.993Z"
   },
   {
    "duration": 3,
    "start_time": "2022-12-12T21:47:25.003Z"
   },
   {
    "duration": 3,
    "start_time": "2022-12-12T21:47:26.268Z"
   },
   {
    "duration": 15,
    "start_time": "2022-12-12T21:47:29.289Z"
   },
   {
    "duration": 4,
    "start_time": "2022-12-12T21:47:31.874Z"
   },
   {
    "duration": 20,
    "start_time": "2022-12-12T21:47:48.171Z"
   },
   {
    "duration": 95,
    "start_time": "2022-12-12T21:49:50.020Z"
   },
   {
    "duration": 17,
    "start_time": "2022-12-12T21:49:58.992Z"
   },
   {
    "duration": 3,
    "start_time": "2022-12-12T21:51:12.057Z"
   },
   {
    "duration": 13,
    "start_time": "2022-12-12T21:53:52.273Z"
   },
   {
    "duration": 6,
    "start_time": "2022-12-12T21:54:05.182Z"
   },
   {
    "duration": 17,
    "start_time": "2022-12-12T22:02:55.046Z"
   },
   {
    "duration": 99,
    "start_time": "2022-12-12T22:03:17.942Z"
   },
   {
    "duration": 16,
    "start_time": "2022-12-12T22:03:30.587Z"
   },
   {
    "duration": 71,
    "start_time": "2022-12-12T22:05:47.816Z"
   },
   {
    "duration": 16,
    "start_time": "2022-12-12T22:06:05.001Z"
   },
   {
    "duration": 145,
    "start_time": "2022-12-12T22:06:42.472Z"
   },
   {
    "duration": 6,
    "start_time": "2022-12-12T22:08:50.951Z"
   },
   {
    "duration": 5,
    "start_time": "2022-12-12T22:09:09.837Z"
   },
   {
    "duration": 5,
    "start_time": "2022-12-12T22:09:18.467Z"
   },
   {
    "duration": 9,
    "start_time": "2022-12-12T22:09:46.537Z"
   },
   {
    "duration": 74,
    "start_time": "2022-12-12T22:17:08.460Z"
   },
   {
    "duration": 10,
    "start_time": "2022-12-12T22:17:13.175Z"
   },
   {
    "duration": 15,
    "start_time": "2022-12-12T22:18:56.242Z"
   },
   {
    "duration": 15,
    "start_time": "2022-12-12T22:19:48.121Z"
   },
   {
    "duration": 16,
    "start_time": "2022-12-12T22:20:15.741Z"
   },
   {
    "duration": 72,
    "start_time": "2022-12-12T22:20:31.787Z"
   },
   {
    "duration": 154,
    "start_time": "2022-12-12T22:20:37.542Z"
   },
   {
    "duration": 15,
    "start_time": "2022-12-12T22:20:47.423Z"
   },
   {
    "duration": 16,
    "start_time": "2022-12-12T22:21:24.336Z"
   },
   {
    "duration": 20,
    "start_time": "2022-12-12T22:21:58.468Z"
   },
   {
    "duration": 12,
    "start_time": "2022-12-12T22:22:58.094Z"
   },
   {
    "duration": 3,
    "start_time": "2022-12-12T22:23:54.700Z"
   },
   {
    "duration": 5,
    "start_time": "2022-12-12T22:24:22.257Z"
   },
   {
    "duration": 19,
    "start_time": "2022-12-12T22:26:07.647Z"
   },
   {
    "duration": 12,
    "start_time": "2022-12-12T22:26:20.912Z"
   },
   {
    "duration": 17,
    "start_time": "2022-12-12T22:26:30.482Z"
   },
   {
    "duration": 14,
    "start_time": "2022-12-12T22:27:05.532Z"
   },
   {
    "duration": 4,
    "start_time": "2022-12-12T22:38:12.044Z"
   },
   {
    "duration": 54,
    "start_time": "2022-12-12T22:38:12.346Z"
   },
   {
    "duration": 15,
    "start_time": "2022-12-12T22:38:12.865Z"
   },
   {
    "duration": 7,
    "start_time": "2022-12-12T22:38:13.246Z"
   },
   {
    "duration": 142,
    "start_time": "2022-12-12T22:38:13.864Z"
   },
   {
    "duration": 6,
    "start_time": "2022-12-12T22:38:14.474Z"
   },
   {
    "duration": 132,
    "start_time": "2022-12-12T22:38:30.064Z"
   },
   {
    "duration": 4,
    "start_time": "2022-12-12T22:38:31.093Z"
   },
   {
    "duration": 4,
    "start_time": "2022-12-12T22:38:31.439Z"
   },
   {
    "duration": 5,
    "start_time": "2022-12-12T22:38:31.771Z"
   },
   {
    "duration": 15,
    "start_time": "2022-12-12T22:38:32.429Z"
   },
   {
    "duration": 17,
    "start_time": "2022-12-12T22:38:33.405Z"
   },
   {
    "duration": 5,
    "start_time": "2022-12-12T22:38:34.117Z"
   },
   {
    "duration": 20,
    "start_time": "2022-12-12T22:46:37.212Z"
   },
   {
    "duration": 18,
    "start_time": "2022-12-12T22:48:00.521Z"
   },
   {
    "duration": 21,
    "start_time": "2022-12-12T22:50:55.018Z"
   },
   {
    "duration": 17,
    "start_time": "2022-12-12T22:51:37.238Z"
   },
   {
    "duration": 15,
    "start_time": "2022-12-12T22:51:45.488Z"
   },
   {
    "duration": 19,
    "start_time": "2022-12-12T22:55:05.976Z"
   },
   {
    "duration": 14,
    "start_time": "2022-12-12T22:55:12.645Z"
   },
   {
    "duration": 27,
    "start_time": "2022-12-12T22:55:21.856Z"
   },
   {
    "duration": 4,
    "start_time": "2022-12-12T22:56:02.448Z"
   },
   {
    "duration": 15,
    "start_time": "2022-12-12T22:56:07.832Z"
   },
   {
    "duration": 80,
    "start_time": "2022-12-12T22:56:57.686Z"
   },
   {
    "duration": 9,
    "start_time": "2022-12-12T22:57:55.064Z"
   },
   {
    "duration": 2,
    "start_time": "2022-12-12T22:58:07.389Z"
   },
   {
    "duration": 13,
    "start_time": "2022-12-12T22:58:38.246Z"
   },
   {
    "duration": 16,
    "start_time": "2022-12-12T23:02:01.032Z"
   },
   {
    "duration": 23,
    "start_time": "2022-12-12T23:02:16.571Z"
   },
   {
    "duration": 24,
    "start_time": "2022-12-12T23:02:50.404Z"
   },
   {
    "duration": 15,
    "start_time": "2022-12-12T23:02:57.245Z"
   },
   {
    "duration": 14,
    "start_time": "2022-12-12T23:03:02.092Z"
   },
   {
    "duration": 14,
    "start_time": "2022-12-12T23:03:12.158Z"
   },
   {
    "duration": 17,
    "start_time": "2022-12-12T23:03:38.547Z"
   },
   {
    "duration": 17,
    "start_time": "2022-12-12T23:03:57.267Z"
   },
   {
    "duration": 20,
    "start_time": "2022-12-12T23:04:04.985Z"
   },
   {
    "duration": 21,
    "start_time": "2022-12-12T23:04:50.826Z"
   },
   {
    "duration": 17,
    "start_time": "2022-12-12T23:05:15.228Z"
   },
   {
    "duration": 23,
    "start_time": "2022-12-12T23:05:25.229Z"
   },
   {
    "duration": 26,
    "start_time": "2022-12-12T23:08:18.204Z"
   },
   {
    "duration": 23,
    "start_time": "2022-12-12T23:08:22.693Z"
   },
   {
    "duration": 23,
    "start_time": "2022-12-12T23:10:30.592Z"
   },
   {
    "duration": 6,
    "start_time": "2022-12-12T23:10:32.942Z"
   },
   {
    "duration": 3,
    "start_time": "2022-12-12T23:10:34.183Z"
   },
   {
    "duration": 12,
    "start_time": "2022-12-12T23:10:43.418Z"
   },
   {
    "duration": 8,
    "start_time": "2022-12-12T23:11:01.852Z"
   },
   {
    "duration": 10,
    "start_time": "2022-12-12T23:11:19.790Z"
   },
   {
    "duration": 14,
    "start_time": "2022-12-12T23:11:24.602Z"
   },
   {
    "duration": 77,
    "start_time": "2022-12-12T23:21:00.255Z"
   },
   {
    "duration": 3,
    "start_time": "2022-12-12T23:22:20.129Z"
   },
   {
    "duration": 14,
    "start_time": "2022-12-12T23:22:20.627Z"
   },
   {
    "duration": 12,
    "start_time": "2022-12-12T23:22:21.287Z"
   },
   {
    "duration": 16,
    "start_time": "2022-12-12T23:22:24.555Z"
   },
   {
    "duration": 4,
    "start_time": "2022-12-12T23:22:24.702Z"
   },
   {
    "duration": 2,
    "start_time": "2022-12-12T23:22:32.464Z"
   },
   {
    "duration": 7,
    "start_time": "2022-12-12T23:22:33.706Z"
   },
   {
    "duration": 7,
    "start_time": "2022-12-12T23:22:34.638Z"
   },
   {
    "duration": 13,
    "start_time": "2022-12-12T23:22:34.986Z"
   },
   {
    "duration": 108,
    "start_time": "2022-12-12T23:23:10.599Z"
   },
   {
    "duration": 763,
    "start_time": "2022-12-12T23:23:13.427Z"
   },
   {
    "duration": 1127,
    "start_time": "2022-12-13T11:07:54.342Z"
   },
   {
    "duration": 221,
    "start_time": "2022-12-13T11:07:55.471Z"
   },
   {
    "duration": 12,
    "start_time": "2022-12-13T11:07:56.798Z"
   },
   {
    "duration": 8,
    "start_time": "2022-12-13T11:07:57.158Z"
   },
   {
    "duration": 580,
    "start_time": "2022-12-13T11:07:57.473Z"
   },
   {
    "duration": 7,
    "start_time": "2022-12-13T11:07:58.055Z"
   },
   {
    "duration": 132,
    "start_time": "2022-12-13T11:07:58.157Z"
   },
   {
    "duration": 4,
    "start_time": "2022-12-13T11:07:59.050Z"
   },
   {
    "duration": 2,
    "start_time": "2022-12-13T11:07:59.406Z"
   },
   {
    "duration": 4,
    "start_time": "2022-12-13T11:07:59.758Z"
   },
   {
    "duration": 15,
    "start_time": "2022-12-13T11:08:01.510Z"
   },
   {
    "duration": 16,
    "start_time": "2022-12-13T11:08:02.743Z"
   },
   {
    "duration": 6,
    "start_time": "2022-12-13T11:08:02.869Z"
   },
   {
    "duration": 2,
    "start_time": "2022-12-13T11:08:07.344Z"
   },
   {
    "duration": 8,
    "start_time": "2022-12-13T11:08:08.078Z"
   },
   {
    "duration": 6,
    "start_time": "2022-12-13T11:08:08.983Z"
   },
   {
    "duration": 15,
    "start_time": "2022-12-13T11:08:52.918Z"
   },
   {
    "duration": 119,
    "start_time": "2022-12-13T11:09:00.638Z"
   },
   {
    "duration": 4,
    "start_time": "2022-12-13T11:09:56.506Z"
   },
   {
    "duration": 115,
    "start_time": "2022-12-13T11:10:02.242Z"
   },
   {
    "duration": 210,
    "start_time": "2022-12-13T11:10:43.929Z"
   },
   {
    "duration": 227,
    "start_time": "2022-12-13T11:11:45.282Z"
   },
   {
    "duration": 109,
    "start_time": "2022-12-13T11:12:07.503Z"
   },
   {
    "duration": 105,
    "start_time": "2022-12-13T11:14:48.187Z"
   },
   {
    "duration": 1195,
    "start_time": "2022-12-13T19:55:26.215Z"
   },
   {
    "duration": 113,
    "start_time": "2022-12-13T19:55:27.412Z"
   },
   {
    "duration": 12,
    "start_time": "2022-12-13T19:55:27.527Z"
   },
   {
    "duration": 9,
    "start_time": "2022-12-13T19:55:27.541Z"
   },
   {
    "duration": 578,
    "start_time": "2022-12-13T19:55:27.947Z"
   },
   {
    "duration": 8,
    "start_time": "2022-12-13T19:55:28.549Z"
   },
   {
    "duration": 145,
    "start_time": "2022-12-13T19:55:28.733Z"
   },
   {
    "duration": 5,
    "start_time": "2022-12-13T19:55:30.519Z"
   },
   {
    "duration": 3,
    "start_time": "2022-12-13T19:55:30.863Z"
   },
   {
    "duration": 4,
    "start_time": "2022-12-13T19:55:31.215Z"
   },
   {
    "duration": 16,
    "start_time": "2022-12-13T19:55:32.247Z"
   },
   {
    "duration": 19,
    "start_time": "2022-12-13T19:55:32.523Z"
   },
   {
    "duration": 5,
    "start_time": "2022-12-13T19:55:32.692Z"
   },
   {
    "duration": 3,
    "start_time": "2022-12-13T19:55:34.121Z"
   },
   {
    "duration": 8,
    "start_time": "2022-12-13T19:55:34.459Z"
   },
   {
    "duration": 9,
    "start_time": "2022-12-13T19:55:34.794Z"
   },
   {
    "duration": 13,
    "start_time": "2022-12-13T19:55:35.193Z"
   },
   {
    "duration": 141,
    "start_time": "2022-12-13T19:55:37.198Z"
   },
   {
    "duration": 894,
    "start_time": "2022-12-13T19:55:38.537Z"
   },
   {
    "duration": 126,
    "start_time": "2022-12-13T20:15:51.645Z"
   },
   {
    "duration": 4,
    "start_time": "2022-12-13T20:16:16.739Z"
   },
   {
    "duration": 28,
    "start_time": "2022-12-13T20:16:26.627Z"
   },
   {
    "duration": 72,
    "start_time": "2022-12-13T20:17:44.347Z"
   },
   {
    "duration": 93,
    "start_time": "2022-12-13T20:21:30.898Z"
   },
   {
    "duration": 89,
    "start_time": "2022-12-13T20:28:51.819Z"
   },
   {
    "duration": 4,
    "start_time": "2022-12-13T20:29:16.607Z"
   },
   {
    "duration": 622,
    "start_time": "2022-12-13T20:56:34.958Z"
   },
   {
    "duration": 480,
    "start_time": "2022-12-13T21:22:25.382Z"
   },
   {
    "duration": 479,
    "start_time": "2022-12-13T21:22:52.890Z"
   },
   {
    "duration": 5,
    "start_time": "2022-12-13T21:39:19.564Z"
   },
   {
    "duration": 13,
    "start_time": "2022-12-13T21:39:27.959Z"
   },
   {
    "duration": 27,
    "start_time": "2022-12-13T21:42:24.032Z"
   },
   {
    "duration": 12,
    "start_time": "2022-12-13T21:42:50.247Z"
   },
   {
    "duration": 42,
    "start_time": "2022-12-13T21:47:35.079Z"
   },
   {
    "duration": 11,
    "start_time": "2022-12-13T21:47:39.119Z"
   },
   {
    "duration": 47,
    "start_time": "2022-12-13T21:49:23.176Z"
   },
   {
    "duration": 9,
    "start_time": "2022-12-13T21:51:07.795Z"
   },
   {
    "duration": 18,
    "start_time": "2022-12-13T21:55:04.355Z"
   },
   {
    "duration": 15,
    "start_time": "2022-12-13T21:58:31.027Z"
   },
   {
    "duration": 20,
    "start_time": "2022-12-13T21:58:32.955Z"
   },
   {
    "duration": 14,
    "start_time": "2022-12-13T21:58:33.507Z"
   },
   {
    "duration": 13,
    "start_time": "2022-12-13T21:58:33.523Z"
   },
   {
    "duration": 27,
    "start_time": "2022-12-13T21:58:34.060Z"
   },
   {
    "duration": 14,
    "start_time": "2022-12-13T22:00:20.863Z"
   },
   {
    "duration": 9,
    "start_time": "2022-12-13T22:00:49.045Z"
   },
   {
    "duration": 17,
    "start_time": "2022-12-13T22:01:05.539Z"
   },
   {
    "duration": 24,
    "start_time": "2022-12-13T22:01:19.164Z"
   },
   {
    "duration": 23,
    "start_time": "2022-12-13T22:01:33.796Z"
   },
   {
    "duration": 22,
    "start_time": "2022-12-13T22:01:49.000Z"
   },
   {
    "duration": 9,
    "start_time": "2022-12-13T22:16:02.192Z"
   },
   {
    "duration": 11,
    "start_time": "2022-12-13T22:21:40.995Z"
   },
   {
    "duration": 5,
    "start_time": "2022-12-13T22:24:13.132Z"
   },
   {
    "duration": 4,
    "start_time": "2022-12-13T22:24:27.143Z"
   },
   {
    "duration": 21,
    "start_time": "2022-12-13T22:24:45.631Z"
   },
   {
    "duration": 19,
    "start_time": "2022-12-13T22:26:48.467Z"
   },
   {
    "duration": 16,
    "start_time": "2022-12-13T22:27:00.935Z"
   },
   {
    "duration": 9,
    "start_time": "2022-12-13T22:27:07.111Z"
   },
   {
    "duration": 4,
    "start_time": "2022-12-13T22:27:16.259Z"
   },
   {
    "duration": 693,
    "start_time": "2022-12-13T22:29:40.193Z"
   },
   {
    "duration": 822,
    "start_time": "2022-12-13T22:30:51.627Z"
   },
   {
    "duration": 22,
    "start_time": "2022-12-13T22:31:08.645Z"
   },
   {
    "duration": 9,
    "start_time": "2022-12-13T22:32:07.653Z"
   },
   {
    "duration": 20,
    "start_time": "2022-12-13T22:32:12.641Z"
   },
   {
    "duration": 5,
    "start_time": "2022-12-13T22:32:24.325Z"
   },
   {
    "duration": 10,
    "start_time": "2022-12-13T22:33:27.898Z"
   },
   {
    "duration": 25,
    "start_time": "2022-12-13T22:33:36.230Z"
   },
   {
    "duration": 9,
    "start_time": "2022-12-13T22:33:58.137Z"
   },
   {
    "duration": 5,
    "start_time": "2022-12-13T22:34:11.105Z"
   },
   {
    "duration": 11,
    "start_time": "2022-12-13T22:38:09.543Z"
   },
   {
    "duration": 11,
    "start_time": "2022-12-13T22:38:10.996Z"
   },
   {
    "duration": 25,
    "start_time": "2022-12-13T22:38:23.983Z"
   },
   {
    "duration": 10,
    "start_time": "2022-12-13T22:41:32.693Z"
   },
   {
    "duration": 10,
    "start_time": "2022-12-13T22:41:49.207Z"
   },
   {
    "duration": 139,
    "start_time": "2022-12-13T22:43:27.531Z"
   },
   {
    "duration": 134,
    "start_time": "2022-12-13T22:44:54.172Z"
   },
   {
    "duration": 154,
    "start_time": "2022-12-13T22:45:23.702Z"
   },
   {
    "duration": 28,
    "start_time": "2022-12-13T23:01:42.058Z"
   },
   {
    "duration": 109,
    "start_time": "2022-12-13T23:07:21.169Z"
   },
   {
    "duration": 108,
    "start_time": "2022-12-13T23:09:59.532Z"
   },
   {
    "duration": 188,
    "start_time": "2022-12-13T23:16:47.668Z"
   },
   {
    "duration": 29,
    "start_time": "2022-12-13T23:26:11.365Z"
   },
   {
    "duration": 159,
    "start_time": "2022-12-13T23:26:13.597Z"
   },
   {
    "duration": 32,
    "start_time": "2022-12-13T23:26:15.137Z"
   },
   {
    "duration": 12,
    "start_time": "2022-12-13T23:26:33.040Z"
   },
   {
    "duration": 41,
    "start_time": "2022-12-13T23:31:17.061Z"
   },
   {
    "duration": 9,
    "start_time": "2022-12-13T23:35:13.297Z"
   },
   {
    "duration": 34,
    "start_time": "2022-12-13T23:35:15.877Z"
   },
   {
    "duration": 109,
    "start_time": "2022-12-13T23:35:17.869Z"
   },
   {
    "duration": 185,
    "start_time": "2022-12-13T23:35:19.572Z"
   },
   {
    "duration": 12,
    "start_time": "2022-12-13T23:35:20.624Z"
   },
   {
    "duration": 9,
    "start_time": "2022-12-13T23:37:55.225Z"
   },
   {
    "duration": 63,
    "start_time": "2022-12-13T23:38:11.569Z"
   },
   {
    "duration": 20,
    "start_time": "2022-12-13T23:40:41.605Z"
   },
   {
    "duration": 52,
    "start_time": "2022-12-13T23:43:37.269Z"
   },
   {
    "duration": 19,
    "start_time": "2022-12-13T23:43:56.305Z"
   },
   {
    "duration": 52,
    "start_time": "2022-12-13T23:44:06.153Z"
   },
   {
    "duration": 110,
    "start_time": "2022-12-13T23:47:26.153Z"
   },
   {
    "duration": 13,
    "start_time": "2022-12-13T23:51:39.584Z"
   },
   {
    "duration": 13,
    "start_time": "2022-12-13T23:51:49.878Z"
   },
   {
    "duration": 10,
    "start_time": "2022-12-13T23:58:35.493Z"
   },
   {
    "duration": 28,
    "start_time": "2022-12-13T23:59:54.033Z"
   },
   {
    "duration": 28,
    "start_time": "2022-12-14T00:00:42.919Z"
   },
   {
    "duration": 29,
    "start_time": "2022-12-14T00:01:10.565Z"
   },
   {
    "duration": 86,
    "start_time": "2022-12-14T00:06:50.829Z"
   },
   {
    "duration": 83,
    "start_time": "2022-12-14T00:11:54.578Z"
   },
   {
    "duration": 4,
    "start_time": "2022-12-14T00:12:06.573Z"
   },
   {
    "duration": 56,
    "start_time": "2022-12-14T00:12:06.741Z"
   },
   {
    "duration": 13,
    "start_time": "2022-12-14T00:12:07.233Z"
   },
   {
    "duration": 8,
    "start_time": "2022-12-14T00:12:07.885Z"
   },
   {
    "duration": 131,
    "start_time": "2022-12-14T00:12:08.409Z"
   },
   {
    "duration": 6,
    "start_time": "2022-12-14T00:12:08.785Z"
   },
   {
    "duration": 144,
    "start_time": "2022-12-14T00:12:08.953Z"
   },
   {
    "duration": 5,
    "start_time": "2022-12-14T00:12:09.889Z"
   },
   {
    "duration": 3,
    "start_time": "2022-12-14T00:12:10.237Z"
   },
   {
    "duration": 4,
    "start_time": "2022-12-14T00:12:10.573Z"
   },
   {
    "duration": 13,
    "start_time": "2022-12-14T00:12:11.086Z"
   },
   {
    "duration": 17,
    "start_time": "2022-12-14T00:12:11.795Z"
   },
   {
    "duration": 4,
    "start_time": "2022-12-14T00:12:11.958Z"
   },
   {
    "duration": 2,
    "start_time": "2022-12-14T00:12:13.114Z"
   },
   {
    "duration": 7,
    "start_time": "2022-12-14T00:12:13.454Z"
   },
   {
    "duration": 8,
    "start_time": "2022-12-14T00:12:13.805Z"
   },
   {
    "duration": 12,
    "start_time": "2022-12-14T00:12:14.162Z"
   },
   {
    "duration": 120,
    "start_time": "2022-12-14T00:12:16.766Z"
   },
   {
    "duration": 843,
    "start_time": "2022-12-14T00:12:17.481Z"
   },
   {
    "duration": 77,
    "start_time": "2022-12-14T00:12:20.022Z"
   },
   {
    "duration": 503,
    "start_time": "2022-12-14T00:12:22.473Z"
   },
   {
    "duration": 94,
    "start_time": "2022-12-14T00:12:25.665Z"
   },
   {
    "duration": 82,
    "start_time": "2022-12-14T00:16:00.282Z"
   },
   {
    "duration": 4,
    "start_time": "2022-12-14T00:16:08.209Z"
   },
   {
    "duration": 58,
    "start_time": "2022-12-14T00:16:08.402Z"
   },
   {
    "duration": 13,
    "start_time": "2022-12-14T00:16:08.882Z"
   },
   {
    "duration": 8,
    "start_time": "2022-12-14T00:16:09.226Z"
   },
   {
    "duration": 138,
    "start_time": "2022-12-14T00:16:09.570Z"
   },
   {
    "duration": 7,
    "start_time": "2022-12-14T00:16:09.913Z"
   },
   {
    "duration": 138,
    "start_time": "2022-12-14T00:16:10.089Z"
   },
   {
    "duration": 4,
    "start_time": "2022-12-14T00:16:11.202Z"
   },
   {
    "duration": 3,
    "start_time": "2022-12-14T00:16:11.546Z"
   },
   {
    "duration": 4,
    "start_time": "2022-12-14T00:16:11.889Z"
   },
   {
    "duration": 14,
    "start_time": "2022-12-14T00:16:12.409Z"
   },
   {
    "duration": 17,
    "start_time": "2022-12-14T00:16:14.806Z"
   },
   {
    "duration": 5,
    "start_time": "2022-12-14T00:16:16.549Z"
   },
   {
    "duration": 3,
    "start_time": "2022-12-14T00:16:17.801Z"
   },
   {
    "duration": 9,
    "start_time": "2022-12-14T00:16:18.646Z"
   },
   {
    "duration": 8,
    "start_time": "2022-12-14T00:16:19.169Z"
   },
   {
    "duration": 16,
    "start_time": "2022-12-14T00:16:20.085Z"
   },
   {
    "duration": 127,
    "start_time": "2022-12-14T00:16:22.045Z"
   },
   {
    "duration": 915,
    "start_time": "2022-12-14T00:16:23.053Z"
   },
   {
    "duration": 94,
    "start_time": "2022-12-14T00:16:24.017Z"
   },
   {
    "duration": 495,
    "start_time": "2022-12-14T00:16:25.713Z"
   },
   {
    "duration": 110,
    "start_time": "2022-12-14T00:16:26.553Z"
   },
   {
    "duration": 11,
    "start_time": "2022-12-14T00:16:26.905Z"
   },
   {
    "duration": 4,
    "start_time": "2022-12-14T00:17:17.489Z"
   },
   {
    "duration": 9,
    "start_time": "2022-12-14T00:17:17.898Z"
   },
   {
    "duration": 9,
    "start_time": "2022-12-14T00:17:18.249Z"
   },
   {
    "duration": 32,
    "start_time": "2022-12-14T00:17:19.629Z"
   },
   {
    "duration": 111,
    "start_time": "2022-12-14T00:17:20.670Z"
   },
   {
    "duration": 135,
    "start_time": "2022-12-14T00:17:21.021Z"
   },
   {
    "duration": 12,
    "start_time": "2022-12-14T00:17:21.329Z"
   },
   {
    "duration": 8,
    "start_time": "2022-12-14T00:19:07.805Z"
   },
   {
    "duration": 19,
    "start_time": "2022-12-14T00:19:09.326Z"
   },
   {
    "duration": 51,
    "start_time": "2022-12-14T00:19:09.666Z"
   },
   {
    "duration": 41,
    "start_time": "2022-12-14T00:19:10.718Z"
   },
   {
    "duration": 13,
    "start_time": "2022-12-14T00:19:11.057Z"
   },
   {
    "duration": 26,
    "start_time": "2022-12-14T00:20:14.822Z"
   },
   {
    "duration": 87,
    "start_time": "2022-12-14T00:20:17.578Z"
   },
   {
    "duration": 173,
    "start_time": "2022-12-14T00:22:54.390Z"
   },
   {
    "duration": 168,
    "start_time": "2022-12-14T00:23:14.489Z"
   },
   {
    "duration": 115,
    "start_time": "2022-12-14T00:23:23.641Z"
   },
   {
    "duration": 23,
    "start_time": "2022-12-14T00:26:00.153Z"
   },
   {
    "duration": 13,
    "start_time": "2022-12-14T00:26:45.030Z"
   },
   {
    "duration": 12,
    "start_time": "2022-12-14T00:28:19.769Z"
   },
   {
    "duration": 14,
    "start_time": "2022-12-14T00:28:34.201Z"
   },
   {
    "duration": 9,
    "start_time": "2022-12-14T00:31:19.570Z"
   },
   {
    "duration": 9,
    "start_time": "2022-12-14T00:31:55.086Z"
   },
   {
    "duration": 24,
    "start_time": "2022-12-14T00:32:04.818Z"
   },
   {
    "duration": 361,
    "start_time": "2022-12-14T00:32:25.706Z"
   },
   {
    "duration": 18,
    "start_time": "2022-12-14T00:32:37.191Z"
   },
   {
    "duration": 703,
    "start_time": "2022-12-14T00:33:21.349Z"
   },
   {
    "duration": 745,
    "start_time": "2022-12-14T00:33:43.838Z"
   },
   {
    "duration": 242,
    "start_time": "2022-12-14T00:34:24.377Z"
   },
   {
    "duration": 238,
    "start_time": "2022-12-14T00:34:33.757Z"
   },
   {
    "duration": 256,
    "start_time": "2022-12-14T00:35:46.466Z"
   },
   {
    "duration": 46,
    "start_time": "2022-12-14T00:36:09.169Z"
   },
   {
    "duration": 48,
    "start_time": "2022-12-14T00:36:15.568Z"
   },
   {
    "duration": 202,
    "start_time": "2022-12-14T00:36:41.849Z"
   },
   {
    "duration": 180,
    "start_time": "2022-12-14T00:36:56.529Z"
   },
   {
    "duration": 178,
    "start_time": "2022-12-14T00:37:20.441Z"
   },
   {
    "duration": 195,
    "start_time": "2022-12-14T00:38:08.857Z"
   },
   {
    "duration": 187,
    "start_time": "2022-12-14T00:38:16.053Z"
   },
   {
    "duration": 186,
    "start_time": "2022-12-14T00:38:23.269Z"
   },
   {
    "duration": 185,
    "start_time": "2022-12-14T00:38:32.617Z"
   },
   {
    "duration": 169,
    "start_time": "2022-12-14T00:38:38.066Z"
   },
   {
    "duration": 191,
    "start_time": "2022-12-14T00:38:46.266Z"
   },
   {
    "duration": 185,
    "start_time": "2022-12-14T00:38:49.822Z"
   },
   {
    "duration": 281,
    "start_time": "2022-12-14T00:38:59.018Z"
   },
   {
    "duration": 185,
    "start_time": "2022-12-14T00:39:12.789Z"
   },
   {
    "duration": 177,
    "start_time": "2022-12-14T00:39:21.606Z"
   },
   {
    "duration": 181,
    "start_time": "2022-12-14T00:39:36.879Z"
   },
   {
    "duration": 184,
    "start_time": "2022-12-14T00:39:41.226Z"
   },
   {
    "duration": 190,
    "start_time": "2022-12-14T00:39:44.634Z"
   },
   {
    "duration": 189,
    "start_time": "2022-12-14T00:40:02.125Z"
   },
   {
    "duration": 193,
    "start_time": "2022-12-14T00:40:11.609Z"
   },
   {
    "duration": 76,
    "start_time": "2022-12-14T00:42:21.302Z"
   },
   {
    "duration": 106,
    "start_time": "2022-12-14T00:46:58.173Z"
   },
   {
    "duration": 50,
    "start_time": "2022-12-14T00:50:46.278Z"
   },
   {
    "duration": 4,
    "start_time": "2022-12-14T01:00:54.726Z"
   },
   {
    "duration": 56,
    "start_time": "2022-12-14T01:00:55.554Z"
   },
   {
    "duration": 12,
    "start_time": "2022-12-14T01:00:56.810Z"
   },
   {
    "duration": 8,
    "start_time": "2022-12-14T01:00:57.422Z"
   },
   {
    "duration": 129,
    "start_time": "2022-12-14T01:00:57.786Z"
   },
   {
    "duration": 7,
    "start_time": "2022-12-14T01:00:58.138Z"
   },
   {
    "duration": 141,
    "start_time": "2022-12-14T01:00:58.306Z"
   },
   {
    "duration": 4,
    "start_time": "2022-12-14T01:00:59.218Z"
   },
   {
    "duration": 3,
    "start_time": "2022-12-14T01:00:59.622Z"
   },
   {
    "duration": 4,
    "start_time": "2022-12-14T01:01:00.006Z"
   },
   {
    "duration": 14,
    "start_time": "2022-12-14T01:01:00.550Z"
   },
   {
    "duration": 19,
    "start_time": "2022-12-14T01:01:01.246Z"
   },
   {
    "duration": 5,
    "start_time": "2022-12-14T01:01:01.430Z"
   },
   {
    "duration": 2,
    "start_time": "2022-12-14T01:01:02.170Z"
   },
   {
    "duration": 9,
    "start_time": "2022-12-14T01:01:03.134Z"
   },
   {
    "duration": 41,
    "start_time": "2022-12-14T01:01:03.145Z"
   },
   {
    "duration": 14,
    "start_time": "2022-12-14T01:01:03.523Z"
   },
   {
    "duration": 120,
    "start_time": "2022-12-14T01:01:04.778Z"
   },
   {
    "duration": 836,
    "start_time": "2022-12-14T01:01:06.022Z"
   },
   {
    "duration": 74,
    "start_time": "2022-12-14T01:01:07.810Z"
   },
   {
    "duration": 615,
    "start_time": "2022-12-14T01:01:08.150Z"
   },
   {
    "duration": 188,
    "start_time": "2022-12-14T01:01:08.768Z"
   },
   {
    "duration": 111,
    "start_time": "2022-12-14T01:01:08.959Z"
   },
   {
    "duration": 4,
    "start_time": "2022-12-14T01:01:09.870Z"
   },
   {
    "duration": 8,
    "start_time": "2022-12-14T01:01:10.034Z"
   },
   {
    "duration": 7,
    "start_time": "2022-12-14T01:01:10.370Z"
   },
   {
    "duration": 30,
    "start_time": "2022-12-14T01:01:11.298Z"
   },
   {
    "duration": 105,
    "start_time": "2022-12-14T01:01:11.654Z"
   },
   {
    "duration": 118,
    "start_time": "2022-12-14T01:01:12.038Z"
   },
   {
    "duration": 12,
    "start_time": "2022-12-14T01:01:12.398Z"
   },
   {
    "duration": 8,
    "start_time": "2022-12-14T01:01:13.355Z"
   },
   {
    "duration": 20,
    "start_time": "2022-12-14T01:01:14.270Z"
   },
   {
    "duration": 55,
    "start_time": "2022-12-14T01:01:15.218Z"
   },
   {
    "duration": 181,
    "start_time": "2022-12-14T01:01:15.275Z"
   },
   {
    "duration": 108,
    "start_time": "2022-12-14T01:01:15.459Z"
   },
   {
    "duration": 27,
    "start_time": "2022-12-14T01:01:16.018Z"
   },
   {
    "duration": 83,
    "start_time": "2022-12-14T01:01:17.062Z"
   },
   {
    "duration": 49,
    "start_time": "2022-12-14T01:01:17.414Z"
   },
   {
    "duration": 13,
    "start_time": "2022-12-14T01:01:17.758Z"
   },
   {
    "duration": 198,
    "start_time": "2022-12-14T01:01:18.114Z"
   },
   {
    "duration": 107,
    "start_time": "2022-12-14T01:01:19.250Z"
   },
   {
    "duration": 1159,
    "start_time": "2022-12-14T15:37:12.151Z"
   },
   {
    "duration": 199,
    "start_time": "2022-12-14T15:37:13.312Z"
   },
   {
    "duration": 13,
    "start_time": "2022-12-14T15:37:13.513Z"
   },
   {
    "duration": 9,
    "start_time": "2022-12-14T15:37:13.528Z"
   },
   {
    "duration": 597,
    "start_time": "2022-12-14T15:37:13.539Z"
   },
   {
    "duration": 8,
    "start_time": "2022-12-14T15:37:14.139Z"
   },
   {
    "duration": 206,
    "start_time": "2022-12-14T15:37:14.149Z"
   },
   {
    "duration": 4,
    "start_time": "2022-12-14T15:37:14.357Z"
   },
   {
    "duration": 25,
    "start_time": "2022-12-14T15:37:14.362Z"
   },
   {
    "duration": 13,
    "start_time": "2022-12-14T15:37:14.390Z"
   },
   {
    "duration": 43,
    "start_time": "2022-12-14T15:37:14.404Z"
   },
   {
    "duration": 34,
    "start_time": "2022-12-14T15:37:14.448Z"
   },
   {
    "duration": 32,
    "start_time": "2022-12-14T15:37:14.484Z"
   },
   {
    "duration": 31,
    "start_time": "2022-12-14T15:37:14.518Z"
   },
   {
    "duration": 23,
    "start_time": "2022-12-14T15:37:14.551Z"
   },
   {
    "duration": 41,
    "start_time": "2022-12-14T15:37:14.576Z"
   },
   {
    "duration": 28,
    "start_time": "2022-12-14T15:37:14.619Z"
   },
   {
    "duration": 151,
    "start_time": "2022-12-14T15:37:14.649Z"
   },
   {
    "duration": 823,
    "start_time": "2022-12-14T15:37:14.802Z"
   },
   {
    "duration": 67,
    "start_time": "2022-12-14T15:37:15.627Z"
   },
   {
    "duration": 583,
    "start_time": "2022-12-14T15:37:15.696Z"
   },
   {
    "duration": 147,
    "start_time": "2022-12-14T15:37:16.281Z"
   },
   {
    "duration": 193,
    "start_time": "2022-12-14T15:37:16.430Z"
   },
   {
    "duration": 3,
    "start_time": "2022-12-14T15:37:16.625Z"
   },
   {
    "duration": 36,
    "start_time": "2022-12-14T15:37:16.630Z"
   },
   {
    "duration": 31,
    "start_time": "2022-12-14T15:37:16.667Z"
   },
   {
    "duration": 70,
    "start_time": "2022-12-14T15:37:16.699Z"
   },
   {
    "duration": 112,
    "start_time": "2022-12-14T15:37:16.772Z"
   },
   {
    "duration": 142,
    "start_time": "2022-12-14T15:37:16.886Z"
   },
   {
    "duration": 107,
    "start_time": "2022-12-14T15:37:17.030Z"
   },
   {
    "duration": 225,
    "start_time": "2022-12-14T15:37:17.139Z"
   },
   {
    "duration": 0,
    "start_time": "2022-12-14T15:37:17.366Z"
   },
   {
    "duration": 0,
    "start_time": "2022-12-14T15:37:17.368Z"
   },
   {
    "duration": 0,
    "start_time": "2022-12-14T15:37:17.369Z"
   },
   {
    "duration": 0,
    "start_time": "2022-12-14T15:37:17.371Z"
   },
   {
    "duration": 0,
    "start_time": "2022-12-14T15:37:17.372Z"
   },
   {
    "duration": 0,
    "start_time": "2022-12-14T15:37:17.374Z"
   },
   {
    "duration": 0,
    "start_time": "2022-12-14T15:37:17.376Z"
   },
   {
    "duration": 0,
    "start_time": "2022-12-14T15:37:17.377Z"
   },
   {
    "duration": 0,
    "start_time": "2022-12-14T15:37:17.379Z"
   },
   {
    "duration": 0,
    "start_time": "2022-12-14T15:37:17.380Z"
   },
   {
    "duration": 10,
    "start_time": "2022-12-14T16:01:39.127Z"
   },
   {
    "duration": 4,
    "start_time": "2022-12-14T17:21:06.317Z"
   },
   {
    "duration": 88,
    "start_time": "2022-12-14T19:03:34.562Z"
   },
   {
    "duration": 4073,
    "start_time": "2022-12-14T19:04:29.930Z"
   },
   {
    "duration": 192,
    "start_time": "2022-12-14T19:04:34.005Z"
   },
   {
    "duration": 19,
    "start_time": "2022-12-14T19:04:46.247Z"
   },
   {
    "duration": 7,
    "start_time": "2022-12-14T19:04:48.394Z"
   },
   {
    "duration": 102,
    "start_time": "2022-12-14T19:06:21.315Z"
   },
   {
    "duration": 445,
    "start_time": "2022-12-14T19:06:33.559Z"
   },
   {
    "duration": 14,
    "start_time": "2022-12-14T19:07:38.279Z"
   },
   {
    "duration": 4,
    "start_time": "2022-12-14T19:13:11.719Z"
   },
   {
    "duration": 7,
    "start_time": "2022-12-14T19:13:31.123Z"
   },
   {
    "duration": 7,
    "start_time": "2022-12-14T19:13:35.058Z"
   },
   {
    "duration": 6,
    "start_time": "2022-12-14T19:13:54.398Z"
   },
   {
    "duration": 7,
    "start_time": "2022-12-14T19:14:40.716Z"
   },
   {
    "duration": 12,
    "start_time": "2022-12-14T19:15:29.121Z"
   },
   {
    "duration": 12,
    "start_time": "2022-12-14T19:15:33.644Z"
   },
   {
    "duration": 3,
    "start_time": "2022-12-14T19:15:43.151Z"
   },
   {
    "duration": 56,
    "start_time": "2022-12-14T19:15:43.284Z"
   },
   {
    "duration": 12,
    "start_time": "2022-12-14T19:15:44.068Z"
   },
   {
    "duration": 7,
    "start_time": "2022-12-14T19:15:44.990Z"
   },
   {
    "duration": 14,
    "start_time": "2022-12-14T19:15:45.199Z"
   },
   {
    "duration": 12,
    "start_time": "2022-12-14T19:15:47.142Z"
   },
   {
    "duration": 1197,
    "start_time": "2022-12-14T19:17:00.194Z"
   },
   {
    "duration": 65,
    "start_time": "2022-12-14T19:17:01.393Z"
   },
   {
    "duration": 14,
    "start_time": "2022-12-14T19:17:01.460Z"
   },
   {
    "duration": 16,
    "start_time": "2022-12-14T19:17:01.477Z"
   },
   {
    "duration": 306,
    "start_time": "2022-12-14T19:17:01.495Z"
   },
   {
    "duration": 11,
    "start_time": "2022-12-14T19:17:01.803Z"
   },
   {
    "duration": 8,
    "start_time": "2022-12-14T19:17:01.816Z"
   },
   {
    "duration": 17,
    "start_time": "2022-12-14T19:17:01.825Z"
   },
   {
    "duration": 25,
    "start_time": "2022-12-14T19:17:01.843Z"
   },
   {
    "duration": 22,
    "start_time": "2022-12-14T19:17:01.871Z"
   },
   {
    "duration": 52,
    "start_time": "2022-12-14T19:17:01.894Z"
   },
   {
    "duration": 11,
    "start_time": "2022-12-14T19:17:01.947Z"
   },
   {
    "duration": 36,
    "start_time": "2022-12-14T19:17:01.960Z"
   },
   {
    "duration": 24,
    "start_time": "2022-12-14T19:17:01.998Z"
   },
   {
    "duration": 30,
    "start_time": "2022-12-14T19:17:02.023Z"
   },
   {
    "duration": 21,
    "start_time": "2022-12-14T19:17:02.054Z"
   },
   {
    "duration": 127,
    "start_time": "2022-12-14T19:17:02.076Z"
   },
   {
    "duration": 125,
    "start_time": "2022-12-14T19:17:02.205Z"
   },
   {
    "duration": 0,
    "start_time": "2022-12-14T19:17:02.332Z"
   },
   {
    "duration": 0,
    "start_time": "2022-12-14T19:17:02.334Z"
   },
   {
    "duration": 0,
    "start_time": "2022-12-14T19:17:02.335Z"
   },
   {
    "duration": 0,
    "start_time": "2022-12-14T19:17:02.336Z"
   },
   {
    "duration": 0,
    "start_time": "2022-12-14T19:17:02.337Z"
   },
   {
    "duration": 0,
    "start_time": "2022-12-14T19:17:02.338Z"
   },
   {
    "duration": 0,
    "start_time": "2022-12-14T19:17:02.339Z"
   },
   {
    "duration": 0,
    "start_time": "2022-12-14T19:17:02.340Z"
   },
   {
    "duration": 0,
    "start_time": "2022-12-14T19:17:02.341Z"
   },
   {
    "duration": 0,
    "start_time": "2022-12-14T19:17:02.342Z"
   },
   {
    "duration": 0,
    "start_time": "2022-12-14T19:17:02.343Z"
   },
   {
    "duration": 0,
    "start_time": "2022-12-14T19:17:02.344Z"
   },
   {
    "duration": 0,
    "start_time": "2022-12-14T19:17:02.345Z"
   },
   {
    "duration": 0,
    "start_time": "2022-12-14T19:17:02.345Z"
   },
   {
    "duration": 0,
    "start_time": "2022-12-14T19:17:02.346Z"
   },
   {
    "duration": 0,
    "start_time": "2022-12-14T19:17:02.347Z"
   },
   {
    "duration": 0,
    "start_time": "2022-12-14T19:17:02.348Z"
   },
   {
    "duration": 0,
    "start_time": "2022-12-14T19:17:02.349Z"
   },
   {
    "duration": 0,
    "start_time": "2022-12-14T19:17:02.350Z"
   },
   {
    "duration": 0,
    "start_time": "2022-12-14T19:17:02.351Z"
   },
   {
    "duration": 0,
    "start_time": "2022-12-14T19:17:02.352Z"
   },
   {
    "duration": 0,
    "start_time": "2022-12-14T19:17:02.353Z"
   },
   {
    "duration": 6,
    "start_time": "2022-12-14T19:18:19.316Z"
   },
   {
    "duration": 5,
    "start_time": "2022-12-14T19:18:37.738Z"
   },
   {
    "duration": 7,
    "start_time": "2022-12-14T19:18:48.386Z"
   },
   {
    "duration": 7,
    "start_time": "2022-12-14T19:19:59.382Z"
   },
   {
    "duration": 117,
    "start_time": "2022-12-14T19:20:19.866Z"
   },
   {
    "duration": 6,
    "start_time": "2022-12-14T19:20:26.387Z"
   },
   {
    "duration": 71,
    "start_time": "2022-12-14T19:22:01.223Z"
   },
   {
    "duration": 5,
    "start_time": "2022-12-14T19:22:18.014Z"
   },
   {
    "duration": 3,
    "start_time": "2022-12-14T19:22:18.826Z"
   },
   {
    "duration": 17,
    "start_time": "2022-12-14T19:22:59.470Z"
   },
   {
    "duration": 1180,
    "start_time": "2022-12-14T19:23:27.886Z"
   },
   {
    "duration": 62,
    "start_time": "2022-12-14T19:23:29.068Z"
   },
   {
    "duration": 11,
    "start_time": "2022-12-14T19:23:29.131Z"
   },
   {
    "duration": 10,
    "start_time": "2022-12-14T19:23:29.144Z"
   },
   {
    "duration": 306,
    "start_time": "2022-12-14T19:23:29.155Z"
   },
   {
    "duration": 11,
    "start_time": "2022-12-14T19:23:29.463Z"
   },
   {
    "duration": 8,
    "start_time": "2022-12-14T19:23:29.475Z"
   },
   {
    "duration": 5,
    "start_time": "2022-12-14T19:23:29.484Z"
   },
   {
    "duration": 8,
    "start_time": "2022-12-14T19:23:29.490Z"
   },
   {
    "duration": 13,
    "start_time": "2022-12-14T19:23:29.501Z"
   },
   {
    "duration": 16,
    "start_time": "2022-12-14T19:23:29.516Z"
   },
   {
    "duration": 16,
    "start_time": "2022-12-14T19:23:29.534Z"
   },
   {
    "duration": 11,
    "start_time": "2022-12-14T19:23:29.552Z"
   },
   {
    "duration": 14,
    "start_time": "2022-12-14T19:23:29.565Z"
   },
   {
    "duration": 10,
    "start_time": "2022-12-14T19:23:29.580Z"
   },
   {
    "duration": 9,
    "start_time": "2022-12-14T19:23:29.591Z"
   },
   {
    "duration": 19,
    "start_time": "2022-12-14T19:23:29.601Z"
   },
   {
    "duration": 125,
    "start_time": "2022-12-14T19:23:29.622Z"
   },
   {
    "duration": 786,
    "start_time": "2022-12-14T19:23:29.748Z"
   },
   {
    "duration": 62,
    "start_time": "2022-12-14T19:23:30.536Z"
   },
   {
    "duration": 443,
    "start_time": "2022-12-14T19:23:30.600Z"
   },
   {
    "duration": 176,
    "start_time": "2022-12-14T19:23:31.045Z"
   },
   {
    "duration": 117,
    "start_time": "2022-12-14T19:23:31.317Z"
   },
   {
    "duration": 11,
    "start_time": "2022-12-14T19:23:31.435Z"
   },
   {
    "duration": 21,
    "start_time": "2022-12-14T19:23:31.448Z"
   },
   {
    "duration": 8,
    "start_time": "2022-12-14T19:23:31.470Z"
   },
   {
    "duration": 34,
    "start_time": "2022-12-14T19:23:31.480Z"
   },
   {
    "duration": 104,
    "start_time": "2022-12-14T19:23:31.517Z"
   },
   {
    "duration": 99,
    "start_time": "2022-12-14T19:23:31.623Z"
   },
   {
    "duration": 200,
    "start_time": "2022-12-14T19:23:31.723Z"
   },
   {
    "duration": 124,
    "start_time": "2022-12-14T19:23:31.924Z"
   },
   {
    "duration": 0,
    "start_time": "2022-12-14T19:23:32.050Z"
   },
   {
    "duration": 0,
    "start_time": "2022-12-14T19:23:32.051Z"
   },
   {
    "duration": 0,
    "start_time": "2022-12-14T19:23:32.053Z"
   },
   {
    "duration": 0,
    "start_time": "2022-12-14T19:23:32.054Z"
   },
   {
    "duration": 0,
    "start_time": "2022-12-14T19:23:32.056Z"
   },
   {
    "duration": 0,
    "start_time": "2022-12-14T19:23:32.057Z"
   },
   {
    "duration": 0,
    "start_time": "2022-12-14T19:23:32.058Z"
   },
   {
    "duration": 0,
    "start_time": "2022-12-14T19:23:32.059Z"
   },
   {
    "duration": 1,
    "start_time": "2022-12-14T19:23:32.059Z"
   },
   {
    "duration": 0,
    "start_time": "2022-12-14T19:23:32.061Z"
   },
   {
    "duration": 11,
    "start_time": "2022-12-14T19:27:08.211Z"
   },
   {
    "duration": 8,
    "start_time": "2022-12-14T19:27:41.594Z"
   },
   {
    "duration": 100,
    "start_time": "2022-12-14T19:28:30.247Z"
   },
   {
    "duration": 16,
    "start_time": "2022-12-14T19:28:43.255Z"
   },
   {
    "duration": 48,
    "start_time": "2022-12-14T19:28:46.811Z"
   },
   {
    "duration": 25,
    "start_time": "2022-12-14T19:28:48.790Z"
   },
   {
    "duration": 11,
    "start_time": "2022-12-14T19:29:13.563Z"
   },
   {
    "duration": 12,
    "start_time": "2022-12-14T19:29:24.530Z"
   },
   {
    "duration": 75,
    "start_time": "2022-12-14T19:30:24.826Z"
   },
   {
    "duration": 25,
    "start_time": "2022-12-14T19:30:38.139Z"
   },
   {
    "duration": 84,
    "start_time": "2022-12-14T19:30:40.345Z"
   },
   {
    "duration": 32,
    "start_time": "2022-12-14T19:30:47.382Z"
   },
   {
    "duration": 14,
    "start_time": "2022-12-14T19:30:48.573Z"
   },
   {
    "duration": 189,
    "start_time": "2022-12-14T19:30:59.947Z"
   },
   {
    "duration": 103,
    "start_time": "2022-12-14T19:31:19.034Z"
   },
   {
    "duration": 73,
    "start_time": "2022-12-14T19:36:47.876Z"
   },
   {
    "duration": 80,
    "start_time": "2022-12-14T19:42:03.193Z"
   },
   {
    "duration": 81,
    "start_time": "2022-12-14T19:44:05.991Z"
   },
   {
    "duration": 95,
    "start_time": "2022-12-14T19:44:08.846Z"
   },
   {
    "duration": 55,
    "start_time": "2022-12-14T19:44:09.664Z"
   },
   {
    "duration": 12,
    "start_time": "2022-12-14T19:44:10.523Z"
   },
   {
    "duration": 658,
    "start_time": "2022-12-14T19:48:45.963Z"
   },
   {
    "duration": 12,
    "start_time": "2022-12-14T19:53:47.579Z"
   },
   {
    "duration": 403,
    "start_time": "2022-12-14T19:56:30.213Z"
   },
   {
    "duration": 18,
    "start_time": "2022-12-14T19:56:36.136Z"
   },
   {
    "duration": 8,
    "start_time": "2022-12-14T20:00:38.547Z"
   },
   {
    "duration": 79,
    "start_time": "2022-12-14T20:05:01.116Z"
   },
   {
    "duration": 51,
    "start_time": "2022-12-14T20:05:13.031Z"
   },
   {
    "duration": 47,
    "start_time": "2022-12-14T20:05:26.800Z"
   },
   {
    "duration": 12,
    "start_time": "2022-12-14T20:06:09.395Z"
   },
   {
    "duration": 275,
    "start_time": "2022-12-14T20:10:24.860Z"
   },
   {
    "duration": 21,
    "start_time": "2022-12-14T20:15:30.708Z"
   },
   {
    "duration": 18,
    "start_time": "2022-12-14T20:15:38.004Z"
   },
   {
    "duration": 17,
    "start_time": "2022-12-14T20:17:58.760Z"
   },
   {
    "duration": 78,
    "start_time": "2022-12-14T20:18:19.944Z"
   },
   {
    "duration": 13,
    "start_time": "2022-12-14T20:18:26.224Z"
   },
   {
    "duration": 92,
    "start_time": "2022-12-14T20:24:54.299Z"
   },
   {
    "duration": 12,
    "start_time": "2022-12-14T20:30:26.018Z"
   },
   {
    "duration": 29,
    "start_time": "2022-12-14T20:30:27.020Z"
   },
   {
    "duration": 70,
    "start_time": "2022-12-14T20:30:27.711Z"
   },
   {
    "duration": 55,
    "start_time": "2022-12-14T20:30:28.060Z"
   },
   {
    "duration": 14,
    "start_time": "2022-12-14T20:30:28.527Z"
   },
   {
    "duration": 203,
    "start_time": "2022-12-14T20:30:28.889Z"
   },
   {
    "duration": 13,
    "start_time": "2022-12-14T20:33:43.390Z"
   },
   {
    "duration": 178,
    "start_time": "2022-12-14T20:33:51.152Z"
   },
   {
    "duration": 166,
    "start_time": "2022-12-14T20:34:28.224Z"
   },
   {
    "duration": 172,
    "start_time": "2022-12-14T20:34:41.855Z"
   },
   {
    "duration": 102,
    "start_time": "2022-12-14T20:36:06.558Z"
   },
   {
    "duration": 835,
    "start_time": "2022-12-14T20:37:37.045Z"
   },
   {
    "duration": 168,
    "start_time": "2022-12-14T20:37:57.451Z"
   },
   {
    "duration": 94,
    "start_time": "2022-12-14T20:38:39.137Z"
   },
   {
    "duration": 48,
    "start_time": "2022-12-14T20:38:44.104Z"
   },
   {
    "duration": 1724,
    "start_time": "2022-12-14T20:38:58.108Z"
   },
   {
    "duration": 4497,
    "start_time": "2022-12-14T20:39:08.540Z"
   },
   {
    "duration": 13736,
    "start_time": "2022-12-14T20:39:21.085Z"
   },
   {
    "duration": 16976,
    "start_time": "2022-12-14T20:39:48.565Z"
   },
   {
    "duration": 1148,
    "start_time": "2022-12-14T20:40:24.292Z"
   },
   {
    "duration": 16794,
    "start_time": "2022-12-14T20:40:31.668Z"
   },
   {
    "duration": 889,
    "start_time": "2022-12-14T20:41:03.433Z"
   },
   {
    "duration": 1131,
    "start_time": "2022-12-14T20:43:11.336Z"
   },
   {
    "duration": 66,
    "start_time": "2022-12-14T20:43:12.469Z"
   },
   {
    "duration": 14,
    "start_time": "2022-12-14T20:43:12.537Z"
   },
   {
    "duration": 16,
    "start_time": "2022-12-14T20:43:12.553Z"
   },
   {
    "duration": 310,
    "start_time": "2022-12-14T20:43:12.571Z"
   },
   {
    "duration": 12,
    "start_time": "2022-12-14T20:43:12.882Z"
   },
   {
    "duration": 7,
    "start_time": "2022-12-14T20:43:12.896Z"
   },
   {
    "duration": 5,
    "start_time": "2022-12-14T20:43:12.913Z"
   },
   {
    "duration": 11,
    "start_time": "2022-12-14T20:43:12.919Z"
   },
   {
    "duration": 28,
    "start_time": "2022-12-14T20:43:12.932Z"
   },
   {
    "duration": 20,
    "start_time": "2022-12-14T20:43:12.962Z"
   },
   {
    "duration": 19,
    "start_time": "2022-12-14T20:43:12.984Z"
   },
   {
    "duration": 5,
    "start_time": "2022-12-14T20:43:13.004Z"
   },
   {
    "duration": 7,
    "start_time": "2022-12-14T20:43:13.012Z"
   },
   {
    "duration": 14,
    "start_time": "2022-12-14T20:43:13.022Z"
   },
   {
    "duration": 8,
    "start_time": "2022-12-14T20:43:13.038Z"
   },
   {
    "duration": 11,
    "start_time": "2022-12-14T20:43:13.049Z"
   },
   {
    "duration": 141,
    "start_time": "2022-12-14T20:43:13.061Z"
   },
   {
    "duration": 761,
    "start_time": "2022-12-14T20:43:13.204Z"
   },
   {
    "duration": 66,
    "start_time": "2022-12-14T20:43:13.966Z"
   },
   {
    "duration": 443,
    "start_time": "2022-12-14T20:43:14.034Z"
   },
   {
    "duration": 141,
    "start_time": "2022-12-14T20:43:14.479Z"
   },
   {
    "duration": 108,
    "start_time": "2022-12-14T20:43:14.622Z"
   },
   {
    "duration": 7,
    "start_time": "2022-12-14T20:43:14.731Z"
   },
   {
    "duration": 9,
    "start_time": "2022-12-14T20:43:14.739Z"
   },
   {
    "duration": 6,
    "start_time": "2022-12-14T20:43:14.750Z"
   },
   {
    "duration": 93,
    "start_time": "2022-12-14T20:43:14.758Z"
   },
   {
    "duration": 551,
    "start_time": "2022-12-14T20:43:14.854Z"
   },
   {
    "duration": 208,
    "start_time": "2022-12-14T20:43:15.407Z"
   },
   {
    "duration": 103,
    "start_time": "2022-12-14T20:43:15.617Z"
   },
   {
    "duration": 10,
    "start_time": "2022-12-14T20:43:15.721Z"
   },
   {
    "duration": 1127,
    "start_time": "2022-12-14T20:43:15.732Z"
   },
   {
    "duration": 16692,
    "start_time": "2022-12-14T20:43:16.861Z"
   },
   {
    "duration": 65,
    "start_time": "2022-12-14T20:43:33.554Z"
   },
   {
    "duration": 200,
    "start_time": "2022-12-14T20:43:33.621Z"
   },
   {
    "duration": 40,
    "start_time": "2022-12-14T20:43:33.823Z"
   },
   {
    "duration": 72,
    "start_time": "2022-12-14T20:43:33.865Z"
   },
   {
    "duration": 83,
    "start_time": "2022-12-14T20:43:33.939Z"
   },
   {
    "duration": 102,
    "start_time": "2022-12-14T20:43:34.113Z"
   },
   {
    "duration": 214,
    "start_time": "2022-12-14T20:43:34.217Z"
   },
   {
    "duration": 924,
    "start_time": "2022-12-14T20:43:34.433Z"
   },
   {
    "duration": 5,
    "start_time": "2022-12-14T20:45:22.644Z"
   },
   {
    "duration": 9,
    "start_time": "2022-12-14T20:45:23.060Z"
   },
   {
    "duration": 32278,
    "start_time": "2022-12-14T20:46:39.177Z"
   },
   {
    "duration": 80,
    "start_time": "2022-12-14T20:47:25.136Z"
   },
   {
    "duration": 12,
    "start_time": "2022-12-14T20:47:26.161Z"
   },
   {
    "duration": 42041,
    "start_time": "2022-12-14T20:48:12.565Z"
   },
   {
    "duration": 109,
    "start_time": "2022-12-14T20:49:01.805Z"
   },
   {
    "duration": 11,
    "start_time": "2022-12-14T20:49:02.668Z"
   },
   {
    "duration": 8,
    "start_time": "2022-12-14T20:49:09.616Z"
   },
   {
    "duration": 1154,
    "start_time": "2022-12-14T20:49:16.296Z"
   },
   {
    "duration": 11,
    "start_time": "2022-12-14T20:50:14.029Z"
   },
   {
    "duration": 32,
    "start_time": "2022-12-14T20:51:30.221Z"
   },
   {
    "duration": 104,
    "start_time": "2022-12-14T20:51:30.789Z"
   },
   {
    "duration": 104,
    "start_time": "2022-12-14T20:51:31.218Z"
   },
   {
    "duration": 18,
    "start_time": "2022-12-14T20:51:31.693Z"
   },
   {
    "duration": 183,
    "start_time": "2022-12-14T20:51:35.057Z"
   },
   {
    "duration": 881,
    "start_time": "2022-12-14T20:51:42.264Z"
   },
   {
    "duration": 1107,
    "start_time": "2022-12-14T20:52:06.860Z"
   },
   {
    "duration": 62,
    "start_time": "2022-12-14T20:52:07.969Z"
   },
   {
    "duration": 12,
    "start_time": "2022-12-14T20:52:08.032Z"
   },
   {
    "duration": 7,
    "start_time": "2022-12-14T20:52:08.046Z"
   },
   {
    "duration": 308,
    "start_time": "2022-12-14T20:52:08.054Z"
   },
   {
    "duration": 12,
    "start_time": "2022-12-14T20:52:08.363Z"
   },
   {
    "duration": 5,
    "start_time": "2022-12-14T20:52:08.376Z"
   },
   {
    "duration": 5,
    "start_time": "2022-12-14T20:52:08.383Z"
   },
   {
    "duration": 5,
    "start_time": "2022-12-14T20:52:08.390Z"
   },
   {
    "duration": 23,
    "start_time": "2022-12-14T20:52:08.398Z"
   },
   {
    "duration": 18,
    "start_time": "2022-12-14T20:52:08.422Z"
   },
   {
    "duration": 15,
    "start_time": "2022-12-14T20:52:08.442Z"
   },
   {
    "duration": 4,
    "start_time": "2022-12-14T20:52:08.458Z"
   },
   {
    "duration": 5,
    "start_time": "2022-12-14T20:52:08.464Z"
   },
   {
    "duration": 13,
    "start_time": "2022-12-14T20:52:08.470Z"
   },
   {
    "duration": 29,
    "start_time": "2022-12-14T20:52:08.484Z"
   },
   {
    "duration": 13,
    "start_time": "2022-12-14T20:52:08.515Z"
   },
   {
    "duration": 135,
    "start_time": "2022-12-14T20:52:08.529Z"
   },
   {
    "duration": 742,
    "start_time": "2022-12-14T20:52:08.665Z"
   },
   {
    "duration": 61,
    "start_time": "2022-12-14T20:52:09.408Z"
   },
   {
    "duration": 31445,
    "start_time": "2022-12-14T20:52:09.471Z"
   },
   {
    "duration": 103,
    "start_time": "2022-12-14T20:52:40.918Z"
   },
   {
    "duration": 102,
    "start_time": "2022-12-14T20:52:41.114Z"
   },
   {
    "duration": 5,
    "start_time": "2022-12-14T20:52:41.217Z"
   },
   {
    "duration": 11,
    "start_time": "2022-12-14T20:52:41.224Z"
   },
   {
    "duration": 22,
    "start_time": "2022-12-14T20:52:41.236Z"
   },
   {
    "duration": 91,
    "start_time": "2022-12-14T20:52:41.259Z"
   },
   {
    "duration": 41827,
    "start_time": "2022-12-14T20:52:41.353Z"
   },
   {
    "duration": 138,
    "start_time": "2022-12-14T20:53:23.181Z"
   },
   {
    "duration": 106,
    "start_time": "2022-12-14T20:53:23.321Z"
   },
   {
    "duration": 86,
    "start_time": "2022-12-14T20:53:23.428Z"
   },
   {
    "duration": 1135,
    "start_time": "2022-12-14T20:53:23.516Z"
   },
   {
    "duration": 16788,
    "start_time": "2022-12-14T20:53:24.652Z"
   },
   {
    "duration": 77,
    "start_time": "2022-12-14T20:53:41.442Z"
   },
   {
    "duration": 201,
    "start_time": "2022-12-14T20:53:41.522Z"
   },
   {
    "duration": 37,
    "start_time": "2022-12-14T20:53:41.725Z"
   },
   {
    "duration": 76,
    "start_time": "2022-12-14T20:53:41.764Z"
   },
   {
    "duration": 81,
    "start_time": "2022-12-14T20:53:41.842Z"
   },
   {
    "duration": 105,
    "start_time": "2022-12-14T20:53:42.014Z"
   },
   {
    "duration": 192,
    "start_time": "2022-12-14T20:53:42.121Z"
   },
   {
    "duration": 890,
    "start_time": "2022-12-14T20:53:42.315Z"
   },
   {
    "duration": 369,
    "start_time": "2022-12-14T20:55:24.952Z"
   },
   {
    "duration": 1172,
    "start_time": "2022-12-14T21:04:07.600Z"
   },
   {
    "duration": 62,
    "start_time": "2022-12-14T21:04:08.774Z"
   },
   {
    "duration": 11,
    "start_time": "2022-12-14T21:04:08.838Z"
   },
   {
    "duration": 7,
    "start_time": "2022-12-14T21:04:08.851Z"
   },
   {
    "duration": 319,
    "start_time": "2022-12-14T21:04:08.860Z"
   },
   {
    "duration": 11,
    "start_time": "2022-12-14T21:04:09.181Z"
   },
   {
    "duration": 10,
    "start_time": "2022-12-14T21:04:09.194Z"
   },
   {
    "duration": 17,
    "start_time": "2022-12-14T21:04:09.206Z"
   },
   {
    "duration": 15,
    "start_time": "2022-12-14T21:04:09.225Z"
   },
   {
    "duration": 19,
    "start_time": "2022-12-14T21:04:09.243Z"
   },
   {
    "duration": 23,
    "start_time": "2022-12-14T21:04:09.264Z"
   },
   {
    "duration": 29,
    "start_time": "2022-12-14T21:04:09.290Z"
   },
   {
    "duration": 13,
    "start_time": "2022-12-14T21:04:09.321Z"
   },
   {
    "duration": 18,
    "start_time": "2022-12-14T21:04:09.336Z"
   },
   {
    "duration": 26,
    "start_time": "2022-12-14T21:04:09.356Z"
   },
   {
    "duration": 25,
    "start_time": "2022-12-14T21:04:09.384Z"
   },
   {
    "duration": 21,
    "start_time": "2022-12-14T21:04:09.410Z"
   },
   {
    "duration": 140,
    "start_time": "2022-12-14T21:04:09.433Z"
   },
   {
    "duration": 736,
    "start_time": "2022-12-14T21:04:09.575Z"
   },
   {
    "duration": 78,
    "start_time": "2022-12-14T21:04:10.313Z"
   },
   {
    "duration": 31282,
    "start_time": "2022-12-14T21:04:10.393Z"
   },
   {
    "duration": 139,
    "start_time": "2022-12-14T21:04:41.677Z"
   },
   {
    "duration": 104,
    "start_time": "2022-12-14T21:04:41.818Z"
   },
   {
    "duration": 7,
    "start_time": "2022-12-14T21:04:41.923Z"
   },
   {
    "duration": 10,
    "start_time": "2022-12-14T21:04:41.932Z"
   },
   {
    "duration": 9,
    "start_time": "2022-12-14T21:04:41.943Z"
   },
   {
    "duration": 96,
    "start_time": "2022-12-14T21:04:41.954Z"
   },
   {
    "duration": 42177,
    "start_time": "2022-12-14T21:04:42.053Z"
   },
   {
    "duration": 92,
    "start_time": "2022-12-14T21:05:24.232Z"
   },
   {
    "duration": 104,
    "start_time": "2022-12-14T21:05:24.414Z"
   },
   {
    "duration": 9,
    "start_time": "2022-12-14T21:05:24.520Z"
   },
   {
    "duration": 1139,
    "start_time": "2022-12-14T21:05:24.531Z"
   },
   {
    "duration": 16743,
    "start_time": "2022-12-14T21:05:25.672Z"
   },
   {
    "duration": 97,
    "start_time": "2022-12-14T21:05:42.417Z"
   },
   {
    "duration": 106,
    "start_time": "2022-12-14T21:05:42.516Z"
   },
   {
    "duration": 26,
    "start_time": "2022-12-14T21:05:42.624Z"
   },
   {
    "duration": 84,
    "start_time": "2022-12-14T21:05:42.652Z"
   },
   {
    "duration": 84,
    "start_time": "2022-12-14T21:05:42.738Z"
   },
   {
    "duration": 108,
    "start_time": "2022-12-14T21:05:42.914Z"
   },
   {
    "duration": 189,
    "start_time": "2022-12-14T21:05:43.024Z"
   },
   {
    "duration": 379,
    "start_time": "2022-12-14T21:05:43.214Z"
   },
   {
    "duration": 1214,
    "start_time": "2022-12-15T08:37:44.447Z"
   },
   {
    "duration": 178,
    "start_time": "2022-12-15T08:37:45.664Z"
   },
   {
    "duration": 13,
    "start_time": "2022-12-15T08:37:45.844Z"
   },
   {
    "duration": 13,
    "start_time": "2022-12-15T08:37:45.860Z"
   },
   {
    "duration": 477,
    "start_time": "2022-12-15T08:37:45.875Z"
   },
   {
    "duration": 25,
    "start_time": "2022-12-15T08:37:46.354Z"
   },
   {
    "duration": 5,
    "start_time": "2022-12-15T08:37:46.381Z"
   },
   {
    "duration": 7,
    "start_time": "2022-12-15T08:37:46.388Z"
   },
   {
    "duration": 7,
    "start_time": "2022-12-15T08:37:46.397Z"
   },
   {
    "duration": 7,
    "start_time": "2022-12-15T08:37:46.408Z"
   },
   {
    "duration": 20,
    "start_time": "2022-12-15T08:37:46.417Z"
   },
   {
    "duration": 52,
    "start_time": "2022-12-15T08:37:46.440Z"
   },
   {
    "duration": 6,
    "start_time": "2022-12-15T08:37:46.494Z"
   },
   {
    "duration": 7,
    "start_time": "2022-12-15T08:37:46.501Z"
   },
   {
    "duration": 12,
    "start_time": "2022-12-15T08:37:46.510Z"
   },
   {
    "duration": 9,
    "start_time": "2022-12-15T08:37:46.523Z"
   },
   {
    "duration": 18,
    "start_time": "2022-12-15T08:37:46.534Z"
   },
   {
    "duration": 194,
    "start_time": "2022-12-15T08:37:46.555Z"
   },
   {
    "duration": 771,
    "start_time": "2022-12-15T08:37:46.751Z"
   },
   {
    "duration": 78,
    "start_time": "2022-12-15T08:37:47.525Z"
   },
   {
    "duration": 33022,
    "start_time": "2022-12-15T08:37:47.605Z"
   },
   {
    "duration": 150,
    "start_time": "2022-12-15T08:38:20.629Z"
   },
   {
    "duration": 108,
    "start_time": "2022-12-15T08:38:20.782Z"
   },
   {
    "duration": 25,
    "start_time": "2022-12-15T08:38:20.892Z"
   },
   {
    "duration": 35,
    "start_time": "2022-12-15T08:38:20.919Z"
   },
   {
    "duration": 52,
    "start_time": "2022-12-15T08:38:20.956Z"
   },
   {
    "duration": 99,
    "start_time": "2022-12-15T08:38:21.010Z"
   },
   {
    "duration": 44434,
    "start_time": "2022-12-15T08:38:21.113Z"
   },
   {
    "duration": 144,
    "start_time": "2022-12-15T08:39:05.549Z"
   },
   {
    "duration": 92,
    "start_time": "2022-12-15T08:39:05.695Z"
   },
   {
    "duration": 43,
    "start_time": "2022-12-15T08:39:05.789Z"
   },
   {
    "duration": 1203,
    "start_time": "2022-12-15T08:39:05.834Z"
   },
   {
    "duration": 17313,
    "start_time": "2022-12-15T08:39:07.038Z"
   },
   {
    "duration": 125,
    "start_time": "2022-12-15T08:39:24.353Z"
   },
   {
    "duration": 100,
    "start_time": "2022-12-15T08:39:24.480Z"
   },
   {
    "duration": 28,
    "start_time": "2022-12-15T08:39:24.581Z"
   },
   {
    "duration": 90,
    "start_time": "2022-12-15T08:39:24.611Z"
   },
   {
    "duration": 85,
    "start_time": "2022-12-15T08:39:24.702Z"
   },
   {
    "duration": 190,
    "start_time": "2022-12-15T08:39:24.789Z"
   },
   {
    "duration": 182,
    "start_time": "2022-12-15T08:39:24.981Z"
   },
   {
    "duration": 379,
    "start_time": "2022-12-15T08:39:25.164Z"
   },
   {
    "duration": 45,
    "start_time": "2023-01-12T20:26:04.630Z"
   },
   {
    "duration": 1191,
    "start_time": "2023-01-12T20:26:12.973Z"
   },
   {
    "duration": 384,
    "start_time": "2023-01-12T20:26:14.166Z"
   },
   {
    "duration": 12,
    "start_time": "2023-01-12T20:26:14.552Z"
   },
   {
    "duration": 8,
    "start_time": "2023-01-12T20:26:14.565Z"
   },
   {
    "duration": 284,
    "start_time": "2023-01-12T20:26:14.575Z"
   },
   {
    "duration": 12,
    "start_time": "2023-01-12T20:26:14.860Z"
   },
   {
    "duration": 6,
    "start_time": "2023-01-12T20:26:14.878Z"
   },
   {
    "duration": 6,
    "start_time": "2023-01-12T20:26:14.885Z"
   },
   {
    "duration": 7,
    "start_time": "2023-01-12T20:26:14.893Z"
   },
   {
    "duration": 13,
    "start_time": "2023-01-12T20:26:14.902Z"
   },
   {
    "duration": 13,
    "start_time": "2023-01-12T20:26:14.917Z"
   },
   {
    "duration": 16,
    "start_time": "2023-01-12T20:26:14.932Z"
   },
   {
    "duration": 4,
    "start_time": "2023-01-12T20:26:14.950Z"
   },
   {
    "duration": 3,
    "start_time": "2023-01-12T20:26:14.957Z"
   },
   {
    "duration": 8,
    "start_time": "2023-01-12T20:26:14.978Z"
   },
   {
    "duration": 12,
    "start_time": "2023-01-12T20:26:14.987Z"
   },
   {
    "duration": 30,
    "start_time": "2023-01-12T20:26:15.001Z"
   },
   {
    "duration": 138,
    "start_time": "2023-01-12T20:26:15.033Z"
   },
   {
    "duration": 740,
    "start_time": "2023-01-12T20:26:15.172Z"
   },
   {
    "duration": 66,
    "start_time": "2023-01-12T20:26:15.914Z"
   },
   {
    "duration": 31446,
    "start_time": "2023-01-12T20:26:15.982Z"
   },
   {
    "duration": 64,
    "start_time": "2023-01-12T20:26:47.429Z"
   },
   {
    "duration": 111,
    "start_time": "2023-01-12T20:26:47.579Z"
   },
   {
    "duration": 7,
    "start_time": "2023-01-12T20:26:47.691Z"
   },
   {
    "duration": 15,
    "start_time": "2023-01-12T20:26:47.699Z"
   },
   {
    "duration": 7,
    "start_time": "2023-01-12T20:26:47.716Z"
   },
   {
    "duration": 91,
    "start_time": "2023-01-12T20:26:47.725Z"
   },
   {
    "duration": 42016,
    "start_time": "2023-01-12T20:26:47.817Z"
   },
   {
    "duration": 154,
    "start_time": "2023-01-12T20:27:29.834Z"
   },
   {
    "duration": 196,
    "start_time": "2023-01-12T20:27:29.990Z"
   },
   {
    "duration": 36,
    "start_time": "2023-01-12T20:27:30.189Z"
   },
   {
    "duration": 1199,
    "start_time": "2023-01-12T20:27:30.227Z"
   },
   {
    "duration": 16807,
    "start_time": "2023-01-12T20:27:31.427Z"
   },
   {
    "duration": 144,
    "start_time": "2023-01-12T20:27:48.235Z"
   },
   {
    "duration": 103,
    "start_time": "2023-01-12T20:27:48.381Z"
   },
   {
    "duration": 33,
    "start_time": "2023-01-12T20:27:48.486Z"
   },
   {
    "duration": 96,
    "start_time": "2023-01-12T20:27:48.521Z"
   },
   {
    "duration": 71,
    "start_time": "2023-01-12T20:27:48.618Z"
   },
   {
    "duration": 18,
    "start_time": "2023-01-12T20:27:48.777Z"
   },
   {
    "duration": 183,
    "start_time": "2023-01-12T20:27:48.878Z"
   },
   {
    "duration": 406,
    "start_time": "2023-01-12T20:27:49.066Z"
   },
   {
    "duration": 6,
    "start_time": "2023-01-12T20:27:49.474Z"
   }
  ],
  "kernelspec": {
   "display_name": "Python 3 (ipykernel)",
   "language": "python",
   "name": "python3"
  },
  "language_info": {
   "codemirror_mode": {
    "name": "ipython",
    "version": 3
   },
   "file_extension": ".py",
   "mimetype": "text/x-python",
   "name": "python",
   "nbconvert_exporter": "python",
   "pygments_lexer": "ipython3",
   "version": "3.10.9"
  },
  "toc": {
   "base_numbering": 1,
   "nav_menu": {},
   "number_sections": true,
   "sideBar": true,
   "skip_h1_title": true,
   "title_cell": "Содержание",
   "title_sidebar": "Contents",
   "toc_cell": true,
   "toc_position": {
    "height": "calc(100% - 180px)",
    "left": "10px",
    "top": "150px",
    "width": "319.631px"
   },
   "toc_section_display": true,
   "toc_window_display": false
  }
 },
 "nbformat": 4,
 "nbformat_minor": 2
}
