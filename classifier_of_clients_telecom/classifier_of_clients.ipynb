{
 "cells": [
  {
   "cell_type": "markdown",
   "metadata": {},
   "source": [
    "# Рекомендация тарифов"
   ]
  },
  {
   "cell_type": "markdown",
   "metadata": {},
   "source": [
    "Оператор мобильной связи «Мегалайн» выяснил: многие клиенты пользуются архивными тарифами. Они хотят построить систему, способную проанализировать поведение клиентов и предложить пользователям новый тариф: «Смарт» или «Ультра».\n",
    "В нашем распоряжении данные о поведении клиентов, которые уже перешли на эти тарифы. Нужно построить модель для задачи классификации, которая выберет подходящий тариф.  Чтобы сдать проект успешно, нужно довести долю правильных ответов по крайней мере до 0.75. "
   ]
  },
  {
   "cell_type": "markdown",
   "metadata": {},
   "source": [
    "## Откроем и изучим файл"
   ]
  },
  {
   "cell_type": "code",
   "execution_count": 72,
   "metadata": {},
   "outputs": [],
   "source": [
    "# импортируем библиотеки\n",
    "import pandas as pd\n",
    "from sklearn.model_selection import train_test_split\n",
    "from sklearn.tree import DecisionTreeClassifier\n",
    "from sklearn.ensemble import RandomForestClassifier\n",
    "from sklearn.linear_model import LogisticRegression \n",
    "from sklearn.metrics import accuracy_score"
   ]
  },
  {
   "cell_type": "code",
   "execution_count": 73,
   "metadata": {},
   "outputs": [
    {
     "data": {
      "text/html": [
       "<div>\n",
       "<style scoped>\n",
       "    .dataframe tbody tr th:only-of-type {\n",
       "        vertical-align: middle;\n",
       "    }\n",
       "\n",
       "    .dataframe tbody tr th {\n",
       "        vertical-align: top;\n",
       "    }\n",
       "\n",
       "    .dataframe thead th {\n",
       "        text-align: right;\n",
       "    }\n",
       "</style>\n",
       "<table border=\"1\" class=\"dataframe\">\n",
       "  <thead>\n",
       "    <tr style=\"text-align: right;\">\n",
       "      <th></th>\n",
       "      <th>calls</th>\n",
       "      <th>minutes</th>\n",
       "      <th>messages</th>\n",
       "      <th>mb_used</th>\n",
       "      <th>is_ultra</th>\n",
       "    </tr>\n",
       "  </thead>\n",
       "  <tbody>\n",
       "    <tr>\n",
       "      <th>0</th>\n",
       "      <td>40.0</td>\n",
       "      <td>311.90</td>\n",
       "      <td>83.0</td>\n",
       "      <td>19915.42</td>\n",
       "      <td>0</td>\n",
       "    </tr>\n",
       "    <tr>\n",
       "      <th>1</th>\n",
       "      <td>85.0</td>\n",
       "      <td>516.75</td>\n",
       "      <td>56.0</td>\n",
       "      <td>22696.96</td>\n",
       "      <td>0</td>\n",
       "    </tr>\n",
       "    <tr>\n",
       "      <th>2</th>\n",
       "      <td>77.0</td>\n",
       "      <td>467.66</td>\n",
       "      <td>86.0</td>\n",
       "      <td>21060.45</td>\n",
       "      <td>0</td>\n",
       "    </tr>\n",
       "    <tr>\n",
       "      <th>3</th>\n",
       "      <td>106.0</td>\n",
       "      <td>745.53</td>\n",
       "      <td>81.0</td>\n",
       "      <td>8437.39</td>\n",
       "      <td>1</td>\n",
       "    </tr>\n",
       "    <tr>\n",
       "      <th>4</th>\n",
       "      <td>66.0</td>\n",
       "      <td>418.74</td>\n",
       "      <td>1.0</td>\n",
       "      <td>14502.75</td>\n",
       "      <td>0</td>\n",
       "    </tr>\n",
       "  </tbody>\n",
       "</table>\n",
       "</div>"
      ],
      "text/plain": [
       "   calls  minutes  messages   mb_used  is_ultra\n",
       "0   40.0   311.90      83.0  19915.42         0\n",
       "1   85.0   516.75      56.0  22696.96         0\n",
       "2   77.0   467.66      86.0  21060.45         0\n",
       "3  106.0   745.53      81.0   8437.39         1\n",
       "4   66.0   418.74       1.0  14502.75         0"
      ]
     },
     "execution_count": 73,
     "metadata": {},
     "output_type": "execute_result"
    }
   ],
   "source": [
    "# откроем файл и выведем первые строки на экран\n",
    "df = pd.read_csv('/datasets/users_behavior.csv')\n",
    "df.head()"
   ]
  },
  {
   "cell_type": "code",
   "execution_count": 74,
   "metadata": {},
   "outputs": [
    {
     "name": "stdout",
     "output_type": "stream",
     "text": [
      "<class 'pandas.core.frame.DataFrame'>\n",
      "RangeIndex: 3214 entries, 0 to 3213\n",
      "Data columns (total 5 columns):\n",
      " #   Column    Non-Null Count  Dtype  \n",
      "---  ------    --------------  -----  \n",
      " 0   calls     3214 non-null   float64\n",
      " 1   minutes   3214 non-null   float64\n",
      " 2   messages  3214 non-null   float64\n",
      " 3   mb_used   3214 non-null   float64\n",
      " 4   is_ultra  3214 non-null   int64  \n",
      "dtypes: float64(4), int64(1)\n",
      "memory usage: 125.7 KB\n"
     ]
    }
   ],
   "source": [
    "# изучим общую информацию о файле\n",
    "df.info()"
   ]
  },
  {
   "cell_type": "markdown",
   "metadata": {},
   "source": [
    "Файл представляет собой таблицу из 5 столбцов и 3214 строк. Столбец is_ultra содержит в себе целевой признак. Будем решать задачу бинарной классификации."
   ]
  },
  {
   "cell_type": "code",
   "execution_count": 75,
   "metadata": {},
   "outputs": [],
   "source": [
    "# запишем обучающую выборку в переменную features\n",
    "features = df.drop(['is_ultra'], axis=1)\n",
    "# запишем целевой признак в переменную target\n",
    "target = df['is_ultra']"
   ]
  },
  {
   "cell_type": "markdown",
   "metadata": {},
   "source": [
    "## Разбобьём данные на выборки"
   ]
  },
  {
   "cell_type": "markdown",
   "metadata": {},
   "source": [
    "Разделим исходные данные на обучающую и валидационную выборки."
   ]
  },
  {
   "cell_type": "code",
   "execution_count": 76,
   "metadata": {},
   "outputs": [],
   "source": [
    "features_train, features_valid_test, target_train, target_valid_test = train_test_split(\n",
    "    features, target, test_size=0.75, random_state=12345)\n",
    "features_valid, features_test, target_valid, target_test = train_test_split(\n",
    "    features, target, test_size=0.5, random_state=12345)"
   ]
  },
  {
   "cell_type": "markdown",
   "metadata": {},
   "source": [
    "## Исследуем модели"
   ]
  },
  {
   "cell_type": "markdown",
   "metadata": {},
   "source": [
    "1. Дерево решений."
   ]
  },
  {
   "cell_type": "code",
   "execution_count": 77,
   "metadata": {},
   "outputs": [
    {
     "name": "stdout",
     "output_type": "stream",
     "text": [
      "max_depth = 5\n",
      "Accuracy лучшей модели дерева решений: 0.8164281269446173\n"
     ]
    }
   ],
   "source": [
    "decision_tree_best_model = None\n",
    "decision_tree_best_result = 0\n",
    "for depth in range(1, 6):\n",
    "    decision_tree_model = DecisionTreeClassifier(random_state=12345, max_depth=depth) # задаем глубину дерева\n",
    "    decision_tree_model.fit(features_train,target_train) # обучаем модель\n",
    "    decision_tree_predictions = decision_tree_model.predict(features_valid) # получим предсказания модели\n",
    "    decision_tree_result = accuracy_score(target_valid, decision_tree_predictions) # посчитаем качество модели\n",
    "    if decision_tree_result > decision_tree_best_result:\n",
    "        decision_tree_best_model = decision_tree_model\n",
    "        decision_tree_best_result = decision_tree_result\n",
    "        max_depth = depth\n",
    "print(\"max_depth =\", max_depth)\n",
    "print(\"Accuracy лучшей модели дерева решений:\", decision_tree_best_result)"
   ]
  },
  {
   "cell_type": "markdown",
   "metadata": {},
   "source": [
    "2. Случайный лес."
   ]
  },
  {
   "cell_type": "code",
   "execution_count": 78,
   "metadata": {},
   "outputs": [
    {
     "name": "stdout",
     "output_type": "stream",
     "text": [
      "estimators = 9\n",
      "Accuracy наилучшей модели случайного леса на валидационной выборке: 0.8917237087741132\n"
     ]
    }
   ],
   "source": [
    "random_forest_best_model = None\n",
    "random_forest_best_result = 0\n",
    "for est in range(1, 11):\n",
    "    # задаем количество деревьев\n",
    "    random_forest_model = RandomForestClassifier(random_state=12345, n_estimators=est) \n",
    "    # обучаем модель на тренировочной выборке\n",
    "    random_forest_model.fit(features_train,target_train)\n",
    "    # считаем качество модели на валидационной выборке\n",
    "    random_forest_result = random_forest_model.score(features_valid,target_valid)\n",
    "    if random_forest_result > random_forest_best_result:\n",
    "        random_forest_best_model = random_forest_model # сохраним наилучшую модель\n",
    "        #  сохраним наилучшее значение метрики accuracy на валидационных данных\n",
    "        random_forest_best_result = random_forest_result \n",
    "        estimators = est  \n",
    "print(\"estimators =\", estimators)\n",
    "print(\"Accuracy наилучшей модели случайного леса на валидационной выборке:\", random_forest_best_result)"
   ]
  },
  {
   "cell_type": "markdown",
   "metadata": {},
   "source": [
    "3. Логистическая регрессия. "
   ]
  },
  {
   "cell_type": "code",
   "execution_count": 79,
   "metadata": {},
   "outputs": [
    {
     "name": "stdout",
     "output_type": "stream",
     "text": [
      "Accuracy модели логистической регрессии на валидационной выборке: 0.8917237087741132\n"
     ]
    }
   ],
   "source": [
    "# задаем random_state, solver (алгоритм) и max_iter (максимальное количество итераций)\n",
    "logistic_regression_model = LogisticRegression(random_state=12345, solver='lbfgs', max_iter=1000) \n",
    "logistic_regression_model.fit(features_train, target_train) \n",
    "logistic_regression_model.predict(features_valid) \n",
    "logistic_regression_result = model.score(features_valid, target_valid) \n",
    "print(\"Accuracy модели логистической регрессии на валидационной выборке:\", logistic_regression_result)"
   ]
  },
  {
   "cell_type": "markdown",
   "metadata": {},
   "source": [
    "Наилучшая модель на валидационной выборке random_forest_best_model с количеством деревьев 9 - показала accuracy 0.8917237087741132. Проверим её на тестовой выборке. "
   ]
  },
  {
   "cell_type": "markdown",
   "metadata": {},
   "source": [
    "## Проверим модель на тестовой выборке"
   ]
  },
  {
   "cell_type": "markdown",
   "metadata": {},
   "source": [
    "Проверим модель  random_forest_best_model на тестовой выборке. "
   ]
  },
  {
   "cell_type": "code",
   "execution_count": 81,
   "metadata": {},
   "outputs": [
    {
     "name": "stdout",
     "output_type": "stream",
     "text": [
      "Accuracy наилучшей модели на тестовой выборке: 0.761045426260112\n"
     ]
    }
   ],
   "source": [
    "# выбираем наилучшую модель с заданными параметрами\n",
    "model = RandomForestClassifier(random_state=12345, n_estimators= 9) \n",
    "# обучаем модель\n",
    "model.fit(features_train,target_train)\n",
    "# проверяем accuracy на тестовой выборке\n",
    "print(\"Accuracy наилучшей модели на тестовой выборке:\", model.score(features_test,target_test))"
   ]
  },
  {
   "cell_type": "markdown",
   "metadata": {},
   "source": [
    "Доля правильных ответов наилучшей модели на тестовой выборке показывает меньшее значение, чем на валидационной, но оно находится в пределах заданного порога - не менее 0.75. "
   ]
  }
 ],
 "metadata": {
  "ExecuteTimeLog": [
   {
    "duration": 388,
    "start_time": "2022-11-10T00:24:21.739Z"
   },
   {
    "duration": 148,
    "start_time": "2022-11-10T00:25:07.732Z"
   },
   {
    "duration": 38,
    "start_time": "2022-11-10T00:25:26.590Z"
   },
   {
    "duration": 40,
    "start_time": "2022-11-10T00:26:04.537Z"
   },
   {
    "duration": 41,
    "start_time": "2022-11-10T00:26:16.622Z"
   },
   {
    "duration": 49,
    "start_time": "2022-11-14T19:37:53.253Z"
   },
   {
    "duration": 414,
    "start_time": "2022-11-14T19:37:57.905Z"
   },
   {
    "duration": 136,
    "start_time": "2022-11-14T19:37:58.321Z"
   },
   {
    "duration": 11,
    "start_time": "2022-11-14T19:38:29.178Z"
   },
   {
    "duration": 73,
    "start_time": "2022-11-14T19:55:54.348Z"
   },
   {
    "duration": 734,
    "start_time": "2022-11-14T19:55:59.602Z"
   },
   {
    "duration": 65,
    "start_time": "2022-11-14T19:58:12.849Z"
   },
   {
    "duration": 37,
    "start_time": "2022-11-14T20:15:49.655Z"
   },
   {
    "duration": 964,
    "start_time": "2022-11-19T22:33:26.573Z"
   },
   {
    "duration": 122,
    "start_time": "2022-11-19T22:33:27.539Z"
   },
   {
    "duration": 10,
    "start_time": "2022-11-19T22:33:27.662Z"
   },
   {
    "duration": 3,
    "start_time": "2022-11-19T22:40:05.797Z"
   },
   {
    "duration": 3,
    "start_time": "2022-11-19T22:40:33.750Z"
   },
   {
    "duration": 5,
    "start_time": "2022-11-19T22:45:00.441Z"
   },
   {
    "duration": 4,
    "start_time": "2022-11-19T23:34:56.978Z"
   },
   {
    "duration": 34,
    "start_time": "2022-11-19T23:35:51.873Z"
   },
   {
    "duration": 90,
    "start_time": "2022-11-19T23:40:38.722Z"
   },
   {
    "duration": 11,
    "start_time": "2022-11-19T23:41:51.541Z"
   },
   {
    "duration": 16,
    "start_time": "2022-11-19T23:42:17.749Z"
   },
   {
    "duration": 8,
    "start_time": "2022-11-19T23:43:40.625Z"
   },
   {
    "duration": 3,
    "start_time": "2022-11-19T23:43:49.748Z"
   },
   {
    "duration": 10,
    "start_time": "2022-11-19T23:44:22.281Z"
   },
   {
    "duration": 3,
    "start_time": "2022-11-19T23:44:39.354Z"
   },
   {
    "duration": 17,
    "start_time": "2022-11-19T23:45:56.905Z"
   },
   {
    "duration": 17,
    "start_time": "2022-11-19T23:46:08.385Z"
   },
   {
    "duration": 17,
    "start_time": "2022-11-19T23:46:59.502Z"
   },
   {
    "duration": 20,
    "start_time": "2022-11-19T23:47:39.069Z"
   },
   {
    "duration": 1077,
    "start_time": "2022-11-20T10:13:10.873Z"
   },
   {
    "duration": 143,
    "start_time": "2022-11-20T10:13:13.036Z"
   },
   {
    "duration": 18,
    "start_time": "2022-11-20T10:13:13.574Z"
   },
   {
    "duration": 3,
    "start_time": "2022-11-20T10:13:14.265Z"
   },
   {
    "duration": 4,
    "start_time": "2022-11-20T10:13:15.426Z"
   },
   {
    "duration": 19,
    "start_time": "2022-11-20T10:13:16.794Z"
   },
   {
    "duration": 10,
    "start_time": "2022-11-20T10:19:01.509Z"
   },
   {
    "duration": 104,
    "start_time": "2022-11-20T10:32:16.412Z"
   },
   {
    "duration": 33,
    "start_time": "2022-11-20T10:32:30.583Z"
   },
   {
    "duration": 42,
    "start_time": "2022-11-20T10:35:19.582Z"
   },
   {
    "duration": 32,
    "start_time": "2022-11-20T10:35:32.733Z"
   },
   {
    "duration": 34,
    "start_time": "2022-11-20T10:35:37.017Z"
   },
   {
    "duration": 35,
    "start_time": "2022-11-20T10:36:18.353Z"
   },
   {
    "duration": 34,
    "start_time": "2022-11-20T10:36:53.501Z"
   },
   {
    "duration": 16,
    "start_time": "2022-11-20T10:37:22.809Z"
   },
   {
    "duration": 36,
    "start_time": "2022-11-20T10:37:38.801Z"
   },
   {
    "duration": 39,
    "start_time": "2022-11-20T10:38:12.672Z"
   },
   {
    "duration": 30,
    "start_time": "2022-11-20T10:38:29.842Z"
   },
   {
    "duration": 39,
    "start_time": "2022-11-20T10:38:41.150Z"
   },
   {
    "duration": 41,
    "start_time": "2022-11-20T10:38:51.354Z"
   },
   {
    "duration": 32,
    "start_time": "2022-11-20T10:39:18.026Z"
   },
   {
    "duration": 30,
    "start_time": "2022-11-20T10:40:35.705Z"
   },
   {
    "duration": 5,
    "start_time": "2022-11-20T10:42:12.094Z"
   },
   {
    "duration": 5,
    "start_time": "2022-11-20T10:42:39.490Z"
   },
   {
    "duration": 39,
    "start_time": "2022-11-20T10:42:40.970Z"
   },
   {
    "duration": 295,
    "start_time": "2022-11-20T16:50:36.932Z"
   },
   {
    "duration": 302,
    "start_time": "2022-11-20T18:22:21.052Z"
   },
   {
    "duration": 3,
    "start_time": "2022-11-20T18:28:11.050Z"
   },
   {
    "duration": 43,
    "start_time": "2022-11-20T18:28:12.195Z"
   },
   {
    "duration": 13,
    "start_time": "2022-11-20T18:28:13.838Z"
   },
   {
    "duration": 12,
    "start_time": "2022-11-20T18:28:13.853Z"
   },
   {
    "duration": 7,
    "start_time": "2022-11-20T18:28:16.378Z"
   },
   {
    "duration": 59,
    "start_time": "2022-11-20T18:28:16.387Z"
   },
   {
    "duration": 369,
    "start_time": "2022-11-20T18:28:19.230Z"
   },
   {
    "duration": 4,
    "start_time": "2022-11-20T18:34:25.771Z"
   },
   {
    "duration": 314,
    "start_time": "2022-11-20T18:36:51.350Z"
   },
   {
    "duration": 703,
    "start_time": "2022-11-20T18:45:45.174Z"
   },
   {
    "duration": 495,
    "start_time": "2022-11-20T18:53:29.282Z"
   },
   {
    "duration": 104,
    "start_time": "2022-11-20T18:53:34.988Z"
   },
   {
    "duration": 259,
    "start_time": "2022-11-20T18:53:43.819Z"
   },
   {
    "duration": 177,
    "start_time": "2022-11-20T18:53:51.410Z"
   },
   {
    "duration": 86,
    "start_time": "2022-11-20T18:53:57.604Z"
   },
   {
    "duration": 312,
    "start_time": "2022-11-20T18:55:13.936Z"
   },
   {
    "duration": 409,
    "start_time": "2022-11-20T18:56:42.179Z"
   },
   {
    "duration": 276,
    "start_time": "2022-11-20T18:57:39.111Z"
   },
   {
    "duration": 108,
    "start_time": "2022-11-20T18:58:10.176Z"
   },
   {
    "duration": 117,
    "start_time": "2022-11-20T18:59:46.571Z"
   },
   {
    "duration": 12,
    "start_time": "2022-11-20T19:13:17.192Z"
   },
   {
    "duration": 8,
    "start_time": "2022-11-20T19:15:32.337Z"
   },
   {
    "duration": 37,
    "start_time": "2022-11-20T19:15:42.764Z"
   },
   {
    "duration": 255,
    "start_time": "2022-11-20T19:15:44.754Z"
   },
   {
    "duration": 140,
    "start_time": "2022-11-20T19:15:46.141Z"
   },
   {
    "duration": 5,
    "start_time": "2022-11-20T19:15:56.295Z"
   },
   {
    "duration": 44,
    "start_time": "2022-11-20T19:15:56.417Z"
   },
   {
    "duration": 16,
    "start_time": "2022-11-20T19:15:56.593Z"
   },
   {
    "duration": 8,
    "start_time": "2022-11-20T19:15:56.899Z"
   },
   {
    "duration": 9,
    "start_time": "2022-11-20T19:15:57.376Z"
   },
   {
    "duration": 41,
    "start_time": "2022-11-20T19:15:57.908Z"
   },
   {
    "duration": 237,
    "start_time": "2022-11-20T19:15:58.245Z"
   },
   {
    "duration": 102,
    "start_time": "2022-11-20T19:15:58.609Z"
   },
   {
    "duration": 38,
    "start_time": "2022-11-20T19:17:48.810Z"
   },
   {
    "duration": 24,
    "start_time": "2022-11-20T19:26:30.009Z"
   },
   {
    "duration": 8,
    "start_time": "2022-11-20T19:31:33.593Z"
   },
   {
    "duration": 13,
    "start_time": "2022-11-20T19:31:40.460Z"
   },
   {
    "duration": 28,
    "start_time": "2022-11-20T19:32:09.985Z"
   },
   {
    "duration": 26,
    "start_time": "2022-11-20T19:32:52.474Z"
   },
   {
    "duration": 32,
    "start_time": "2022-11-20T19:33:55.474Z"
   },
   {
    "duration": 28,
    "start_time": "2022-11-20T19:35:00.489Z"
   },
   {
    "duration": 3,
    "start_time": "2022-11-20T19:59:45.006Z"
   },
   {
    "duration": 34,
    "start_time": "2022-11-20T19:59:45.181Z"
   },
   {
    "duration": 9,
    "start_time": "2022-11-20T19:59:45.627Z"
   },
   {
    "duration": 3,
    "start_time": "2022-11-20T19:59:46.099Z"
   },
   {
    "duration": 6,
    "start_time": "2022-11-20T19:59:46.846Z"
   },
   {
    "duration": 26,
    "start_time": "2022-11-20T19:59:47.992Z"
   },
   {
    "duration": 178,
    "start_time": "2022-11-20T19:59:49.038Z"
   },
   {
    "duration": 38,
    "start_time": "2022-11-20T19:59:50.038Z"
   },
   {
    "duration": 30,
    "start_time": "2022-11-20T19:59:53.966Z"
   },
   {
    "duration": 29,
    "start_time": "2022-11-20T20:00:35.687Z"
   }
  ],
  "kernelspec": {
   "display_name": "Python 3 (ipykernel)",
   "language": "python",
   "name": "python3"
  },
  "language_info": {
   "codemirror_mode": {
    "name": "ipython",
    "version": 3
   },
   "file_extension": ".py",
   "mimetype": "text/x-python",
   "name": "python",
   "nbconvert_exporter": "python",
   "pygments_lexer": "ipython3",
   "version": "3.10.9"
  },
  "toc": {
   "base_numbering": 1,
   "nav_menu": {},
   "number_sections": true,
   "sideBar": true,
   "skip_h1_title": true,
   "title_cell": "Table of Contents",
   "title_sidebar": "Contents",
   "toc_cell": false,
   "toc_position": {},
   "toc_section_display": true,
   "toc_window_display": false
  }
 },
 "nbformat": 4,
 "nbformat_minor": 2
}
